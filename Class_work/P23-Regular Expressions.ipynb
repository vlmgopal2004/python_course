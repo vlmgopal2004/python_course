{
 "cells": [
  {
   "cell_type": "markdown",
   "id": "0e434861",
   "metadata": {},
   "source": [
    "# Regular Expressions\n"
   ]
  },
  {
   "cell_type": "code",
   "execution_count": null,
   "id": "9c8aa3f6",
   "metadata": {},
   "outputs": [
    {
     "name": "stdout",
     "output_type": "stream",
     "text": [
      "8\n"
     ]
    }
   ],
   "source": [
    "import re\n",
    "\n",
    "res = re.match(r'[/$@#%^&*()]','&Hello World')\n",
    "print(res.group() if res else \"No match\")"
   ]
  },
  {
   "cell_type": "code",
   "execution_count": null,
   "id": "fa62e8b8",
   "metadata": {},
   "outputs": [
    {
     "name": "stdout",
     "output_type": "stream",
     "text": [
      "hit\n"
     ]
    }
   ],
   "source": [
    "import re\n",
    "\n",
    "res = re.search(r'[6-9]','Hello World 5 8 9')\n",
    "print(res.group() if res else \"No match\")"
   ]
  },
  {
   "cell_type": "code",
   "execution_count": null,
   "id": "1e170ce6",
   "metadata": {},
   "outputs": [],
   "source": [
    "import re\n",
    "\n",
    "res = re.search(r'h.t','hit hat hot')\n",
    "print(res.group() if res else \"No match\")"
   ]
  },
  {
   "cell_type": "code",
   "execution_count": 14,
   "id": "f64ff003",
   "metadata": {},
   "outputs": [
    {
     "name": "stdout",
     "output_type": "stream",
     "text": [
      "['hit', 'hat', 'hot']\n"
     ]
    }
   ],
   "source": [
    "import re\n",
    "\n",
    "res = re.findall(r'h.t','hit hat hot')\n",
    "#print(res.group() if res else \"No match\")\n",
    "print(res)"
   ]
  },
  {
   "cell_type": "code",
   "execution_count": 15,
   "id": "0804404b",
   "metadata": {},
   "outputs": [
    {
     "name": "stdout",
     "output_type": "stream",
     "text": [
      "['0', '9', '3', '9', '8', '4', '7', '0', '9', '2', '3', '8', '5', '9', '3', '2', '6', '8', '2', '8', '3', '9', '0', '3', '4', '9', '0', '3', '9', '3', '3', '3', '7', '3', '3', '4', '0', '9', '4', '0', '3', '8', '7', '3', '9', '0', '8', '5']\n"
     ]
    }
   ],
   "source": [
    "import re\n",
    "\n",
    "res = re.findall(r'[0-9]','hfewnauiweaeiorheundkljfdiufeiruorhuu093u9847092385ufhifiey93t268t28u3903tu4itjfhe90r393ryu3irh373rg3th40940-i3prjo8r73r9u08y5')\n",
    "#print(res.group() if res else \"No match\")\n",
    "print(res)"
   ]
  },
  {
   "cell_type": "code",
   "execution_count": 17,
   "id": "6bd9261c",
   "metadata": {},
   "outputs": [
    {
     "name": "stdout",
     "output_type": "stream",
     "text": [
      "['h', 'f', 'e', 'w', 'n', 'a', 'u', 'i', 'w', 'e', 'a', 'e', 'i', 'o', 'r', 'h', 'e', 'u', 'n', 'd', 'k', 'l', 'j', 'f', 'd', 'i', 'u', 'f', 'e', 'i', 'r', 'u', 'o', 'r', 'h', 'u', 'u', 'u', 'u', 'f', 'h', 'i', 'f', 'i', 'e', 'y', 't', 't', 'u', 't', 'u', 'i', 't', 'j', 'f', 'h', 'e', 'r', 'r', 'y', 'u', 'i', 'r', 'h', 'r', 'g', 't', 'h', 'i', 'p', 'r', 'j', 'o', 'r', 'r', 'u', 'y']\n"
     ]
    }
   ],
   "source": [
    "import re\n",
    "\n",
    "res = re.findall(r'[a-z]','hfewnauiweaeiorheundkljfdiufeiruorhuu093u9847092385ufhifiey93t268t28u3903tu4itjfhe90r393ryu3irh373rg3th40940-i3prjo8r73r9u08y5')\n",
    "#print(res.group() if res else \"No match\")\n",
    "print(res)"
   ]
  },
  {
   "cell_type": "code",
   "execution_count": 21,
   "id": "0c7d63b5",
   "metadata": {},
   "outputs": [
    {
     "name": "stdout",
     "output_type": "stream",
     "text": [
      "76 12\n",
      "34 15\n",
      "90 18\n",
      "23 21\n"
     ]
    }
   ],
   "source": [
    "import re\n",
    "\n",
    "res = re.finditer(r'[0-9]{2}','Hello World 76 34 90 23')\n",
    "#print(res.group() if res else \"No match\")\n",
    "for i in res:\n",
    "    print(i.group(),i.start())"
   ]
  },
  {
   "cell_type": "code",
   "execution_count": 24,
   "id": "fcc3231e",
   "metadata": {},
   "outputs": [
    {
     "name": "stdout",
     "output_type": "stream",
     "text": [
      "9087653546\n"
     ]
    }
   ],
   "source": [
    "import re\n",
    "\n",
    "res = re.fullmatch(r'[0-9]{10}','9087653546')\n",
    "print(res.group() if res else \"No match\")\n"
   ]
  },
  {
   "cell_type": "code",
   "execution_count": null,
   "id": "e7b4c8a7",
   "metadata": {},
   "outputs": [
    {
     "name": "stdout",
     "output_type": "stream",
     "text": [
      "['Kalyan', 'Manikanta', 'Ramaya', 'Swatha', 'Tarak']\n"
     ]
    }
   ],
   "source": [
    "import re\n",
    "\n",
    "res = re.split(r'[,:/0]','Kalyan,Manikanta/Ramaya:Swatha0Tarak')\n",
    "print(res)\n"
   ]
  },
  {
   "cell_type": "code",
   "execution_count": 32,
   "id": "d54de9e5",
   "metadata": {},
   "outputs": [
    {
     "name": "stdout",
     "output_type": "stream",
     "text": [
      "Python Programming Language\n"
     ]
    }
   ],
   "source": [
    "import re\n",
    "\n",
    "text = 'Java Programming Language' \n",
    "res = re.sub('Java','Python',text)\n",
    "print(res)\n"
   ]
  },
  {
   "cell_type": "code",
   "execution_count": 33,
   "id": "15ae8c2b",
   "metadata": {},
   "outputs": [
    {
     "name": "stdout",
     "output_type": "stream",
     "text": [
      "J*v* Pr*gr*mm*ng L*ng**g*\n"
     ]
    }
   ],
   "source": [
    "import re\n",
    "\n",
    "text = 'Java Programming Language' \n",
    "res = re.sub(r'[aeiouAEIOU]','*',text)\n",
    "print(res)\n"
   ]
  },
  {
   "cell_type": "code",
   "execution_count": null,
   "id": "80197616",
   "metadata": {},
   "outputs": [
    {
     "name": "stdout",
     "output_type": "stream",
     "text": [
      "$ava $rogramming $anguage\n"
     ]
    }
   ],
   "source": [
    "import re\n",
    "\n",
    "text = 'Java Programming Language' \n",
    "res = re.sub(r'[A-Z]','$',text)\n",
    "print(res)\n"
   ]
  },
  {
   "cell_type": "code",
   "execution_count": 48,
   "id": "260742c0",
   "metadata": {},
   "outputs": [
    {
     "name": "stdout",
     "output_type": "stream",
     "text": [
      "['Sanjay', 'He', 'KPHB', 'Heart', 'Hacker', 'Lover', 'Sanjay']\n"
     ]
    }
   ],
   "source": [
    "import re\n",
    "\n",
    "text = 'Sanjay is a good boy. He lives in KPHB. Heart Hacker sanjay. Lover boy sanjay. Sanjay contact no: 9876459987' \n",
    "res = re.findall(r'\\b[A-Z][a-zA-Z]*', text)\n",
    "print(res)\n",
    "\n"
   ]
  },
  {
   "cell_type": "code",
   "execution_count": 59,
   "id": "d90090d8",
   "metadata": {},
   "outputs": [
    {
     "name": "stdout",
     "output_type": "stream",
     "text": [
      "False\n"
     ]
    }
   ],
   "source": [
    "import re\n",
    "def validate_name(name):\n",
    "    pattern = r'^[A-Za-z]{2,40} ( [A-Za-z]{2,40})+$' \n",
    "    return bool(re.fullmatch(pattern, name))\n",
    "\n",
    "name = 'Vaka Leela Manikanta Gopal'\n",
    "print(validate_name(name))\n"
   ]
  },
  {
   "cell_type": "code",
   "execution_count": 60,
   "id": "4ea31403",
   "metadata": {},
   "outputs": [
    {
     "name": "stdout",
     "output_type": "stream",
     "text": [
      "True\n"
     ]
    }
   ],
   "source": [
    "import re\n",
    "def validate_email(email):\n",
    "    pattern = r'^[a-z0-9._]+@[a-z.-]+\\.[a-z]{2,3}$' \n",
    "    return bool(re.fullmatch(pattern, email))\n",
    "\n",
    "email = 'vlmgopal2004@gmail.com' \n",
    "print(validate_email(email))"
   ]
  },
  {
   "cell_type": "code",
   "execution_count": 64,
   "id": "3b46f2ec",
   "metadata": {},
   "outputs": [
    {
     "name": "stdout",
     "output_type": "stream",
     "text": [
      "True\n"
     ]
    }
   ],
   "source": [
    "import re\n",
    "def validate_phone_no(phone_no):\n",
    "    pattern = r'^(?:\\+91|0)?[6-9]\\d{9}$' \n",
    "    return bool(re.fullmatch(pattern, phone_no))\n",
    "phone_no = '9291050604'\n",
    "print(validate_phone_no(phone_no))"
   ]
  },
  {
   "cell_type": "code",
   "execution_count": 68,
   "id": "4e52f01b",
   "metadata": {},
   "outputs": [
    {
     "name": "stdout",
     "output_type": "stream",
     "text": [
      "False\n"
     ]
    }
   ],
   "source": [
    "import re\n",
    "def validate_password(password):\n",
    "    pattern = r'^(?=.*[A-Z])(?=.*a-z])(?=.*\\d)(?=.*[@$%!*?&_-])[A-Za-z\\d@$!%*?&]{8,}$' \n",
    "    return bool(re.fullmatch(pattern, password))\n",
    "password = 'Vlmg_Gopal@2004'\n",
    "print(validate_password(password))"
   ]
  },
  {
   "cell_type": "code",
   "execution_count": 69,
   "id": "888fa5e3",
   "metadata": {},
   "outputs": [
    {
     "name": "stdout",
     "output_type": "stream",
     "text": [
      "True\n"
     ]
    }
   ],
   "source": [
    "import re\n",
    "def validate_username(username):\n",
    "    pattern = r'^[a-zA-Z0-9]{5,15}$' \n",
    "    return bool(re.fullmatch(pattern, username))\n",
    "username = 'vlmgopal2004'\n",
    "print(validate_username(username))"
   ]
  },
  {
   "cell_type": "code",
   "execution_count": null,
   "id": "3bd5830f",
   "metadata": {},
   "outputs": [],
   "source": []
  }
 ],
 "metadata": {
  "kernelspec": {
   "display_name": "myenv",
   "language": "python",
   "name": "python3"
  },
  "language_info": {
   "codemirror_mode": {
    "name": "ipython",
    "version": 3
   },
   "file_extension": ".py",
   "mimetype": "text/x-python",
   "name": "python",
   "nbconvert_exporter": "python",
   "pygments_lexer": "ipython3",
   "version": "3.13.5"
  }
 },
 "nbformat": 4,
 "nbformat_minor": 5
}
