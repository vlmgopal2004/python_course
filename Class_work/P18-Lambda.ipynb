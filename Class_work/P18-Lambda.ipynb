{
 "cells": [
  {
   "cell_type": "code",
   "execution_count": 1,
   "id": "6c0f1873",
   "metadata": {},
   "outputs": [
    {
     "name": "stdout",
     "output_type": "stream",
     "text": [
      "Even\n"
     ]
    }
   ],
   "source": [
    "evenorodd = lambda n: \"Even\" if n%2 == 0 else \"odd\"\n",
    "print(evenorodd(12))"
   ]
  },
  {
   "cell_type": "code",
   "execution_count": 3,
   "id": "8daa263e",
   "metadata": {},
   "outputs": [
    {
     "name": "stdout",
     "output_type": "stream",
     "text": [
      "15\n",
      "100\n"
     ]
    }
   ],
   "source": [
    "maxof2num = lambda a,b: a if a>b else b\n",
    "print(maxof2num(12,15))\n",
    "print(maxof2num(100,40))"
   ]
  },
  {
   "cell_type": "code",
   "execution_count": 4,
   "id": "e19fe231",
   "metadata": {},
   "outputs": [
    {
     "name": "stdout",
     "output_type": "stream",
     "text": [
      "180\n"
     ]
    }
   ],
   "source": [
    "mulof2num = lambda a,b : a*b\n",
    "print(mulof2num(2,90))"
   ]
  },
  {
   "cell_type": "code",
   "execution_count": 8,
   "id": "002358ca",
   "metadata": {},
   "outputs": [
    {
     "name": "stdout",
     "output_type": "stream",
     "text": [
      "[(1, 3), (2, 1), (4, 2)]\n"
     ]
    },
    {
     "data": {
      "text/plain": [
       "[(2, 1), (4, 2), (1, 3)]"
      ]
     },
     "execution_count": 8,
     "metadata": {},
     "output_type": "execute_result"
    }
   ],
   "source": [
    "l = [(1, 3), (2, 1), (4, 2)]\n",
    "print(sorted(l))\n",
    "sorted(l,key=lambda i:i[1])"
   ]
  },
  {
   "cell_type": "code",
   "execution_count": 10,
   "id": "dfb255c8",
   "metadata": {},
   "outputs": [
    {
     "name": "stdout",
     "output_type": "stream",
     "text": [
      "[2, 4, 6, 8, 10]\n"
     ]
    }
   ],
   "source": [
    "lis = [1,2,3,4,5,6,7,8,9,10]\n",
    "evenlist = list(filter(lambda i:i%2==0, lis))\n",
    "print(evenlist)"
   ]
  },
  {
   "cell_type": "code",
   "execution_count": 11,
   "id": "62844153",
   "metadata": {},
   "outputs": [
    {
     "name": "stdout",
     "output_type": "stream",
     "text": [
      "[1, 4, 9, 16, 25, 36, 49, 64, 81, 100]\n"
     ]
    }
   ],
   "source": [
    "squ = list(map(lambda i:i*i, lis))\n",
    "print(squ)"
   ]
  },
  {
   "cell_type": "code",
   "execution_count": 12,
   "id": "b5bc4d19",
   "metadata": {},
   "outputs": [
    {
     "name": "stdout",
     "output_type": "stream",
     "text": [
      "['HELLO', 'WORLD', 'MOHIT']\n"
     ]
    }
   ],
   "source": [
    "words = ['hello','world','mohit']\n",
    "uppername = list(map(lambda i: i.upper(), words))\n",
    "print(uppername)"
   ]
  },
  {
   "cell_type": "code",
   "execution_count": 19,
   "id": "771a86dd",
   "metadata": {},
   "outputs": [
    {
     "name": "stdout",
     "output_type": "stream",
     "text": [
      "[[('name', 'mohit'), ('age', 25)], [('name', 'sai'), ('age', 29)], [('name', 'raj'), ('age', 15)]]\n"
     ]
    }
   ],
   "source": [
    "dic = [{'name':'mohit','age':25},{'name':'sai','age':29},{'name':'raj','age':15}]\n",
    "res = []\n",
    "for i in dic:\n",
    "    res.append(list(i.items()))\n",
    "print(res)\n"
   ]
  },
  {
   "cell_type": "code",
   "execution_count": 20,
   "id": "683c5f88",
   "metadata": {},
   "outputs": [
    {
     "name": "stdout",
     "output_type": "stream",
     "text": [
      "17\n"
     ]
    }
   ],
   "source": [
    "length = lambda s: len(s)\n",
    "print(length(\"Python pogramming\"))"
   ]
  },
  {
   "cell_type": "code",
   "execution_count": 22,
   "id": "09d2ef5e",
   "metadata": {},
   "outputs": [
    {
     "name": "stdout",
     "output_type": "stream",
     "text": [
      "True\n"
     ]
    }
   ],
   "source": [
    "vol= 'aeiouAEIOU'\n",
    "check= lambda s:True if s[0] in vol else False\n",
    "print(check('Apple'))"
   ]
  },
  {
   "cell_type": "code",
   "execution_count": 23,
   "id": "dd6c154f",
   "metadata": {},
   "outputs": [
    {
     "name": "stdout",
     "output_type": "stream",
     "text": [
      "[11, 12, 13, 14, 15, 16, 17, 18, 19, 20]\n"
     ]
    }
   ],
   "source": [
    "add = list(map(lambda i:i+10, lis))\n",
    "print(add)"
   ]
  },
  {
   "cell_type": "code",
   "execution_count": 27,
   "id": "9aa59c76",
   "metadata": {},
   "outputs": [
    {
     "name": "stdout",
     "output_type": "stream",
     "text": [
      "['hello', 'world', 'mohit']\n"
     ]
    }
   ],
   "source": [
    "words = ['hello', 'world', 'mohit','opi','lol']\n",
    "filt = list(filter(lambda i:len(i)>3, words))\n",
    "print(filt)"
   ]
  },
  {
   "cell_type": "code",
   "execution_count": 31,
   "id": "add8149d",
   "metadata": {},
   "outputs": [
    {
     "name": "stdout",
     "output_type": "stream",
     "text": [
      "0 1\n",
      "1 2\n",
      "2 3\n",
      "3 4\n",
      "4 5\n",
      "5 6\n",
      "6 7\n",
      "7 8\n",
      "8 9\n",
      "9 10\n"
     ]
    }
   ],
   "source": [
    "for idx, val in enumerate(lis):\n",
    "    print(idx,val)"
   ]
  },
  {
   "cell_type": "code",
   "execution_count": 36,
   "id": "cc5fe3eb",
   "metadata": {},
   "outputs": [
    {
     "name": "stdout",
     "output_type": "stream",
     "text": [
      "[0, 2, 6, 12, 20, 30, 42, 56, 72, 90]\n"
     ]
    }
   ],
   "source": [
    "l1 = list(map(lambda val: val[0]*val[1], enumerate(lis)))\n",
    "print(l1)"
   ]
  },
  {
   "cell_type": "code",
   "execution_count": 40,
   "id": "0912c742",
   "metadata": {},
   "outputs": [
    {
     "name": "stdout",
     "output_type": "stream",
     "text": [
      "[(0, 1), (1, 2), (2, 3), (3, 4), (4, 5), (5, 6), (6, 7), (7, 8), (8, 9), (9, 10)]\n"
     ]
    }
   ],
   "source": [
    "l1 = list(map(lambda val: val, enumerate(lis)))\n",
    "print(l1)"
   ]
  },
  {
   "cell_type": "code",
   "execution_count": null,
   "id": "8053008c",
   "metadata": {},
   "outputs": [],
   "source": [
    "product = list(reduce(lambda pro,item: pro*item, lis))"
   ]
  },
  {
   "cell_type": "code",
   "execution_count": 42,
   "id": "5e4425eb",
   "metadata": {},
   "outputs": [
    {
     "name": "stdout",
     "output_type": "stream",
     "text": [
      "[3, 6, 9]\n"
     ]
    }
   ],
   "source": [
    "mulof3 = list(filter(lambda i:i%3==0,lis))\n",
    "print(mulof3)"
   ]
  },
  {
   "cell_type": "code",
   "execution_count": 45,
   "id": "178cb81c",
   "metadata": {},
   "outputs": [
    {
     "name": "stdout",
     "output_type": "stream",
     "text": [
      "gmail.com\n"
     ]
    }
   ],
   "source": [
    "domain = lambda mail: mail.split('@')[1]\n",
    "print(domain('xyz@gmail.com'))"
   ]
  },
  {
   "cell_type": "code",
   "execution_count": 48,
   "id": "6f64cc5e",
   "metadata": {},
   "outputs": [
    {
     "name": "stdout",
     "output_type": "stream",
     "text": [
      "6\n"
     ]
    }
   ],
   "source": [
    "lastdigit = lambda n:n%10\n",
    "print(lastdigit(7986))"
   ]
  },
  {
   "cell_type": "code",
   "execution_count": 54,
   "id": "a61b5617",
   "metadata": {},
   "outputs": [
    {
     "name": "stdout",
     "output_type": "stream",
     "text": [
      "Not Leap Year\n"
     ]
    }
   ],
   "source": [
    "isleap = lambda year: \"Leap Year\" if year%400 == 0 or year%100 == 0 and year%4 == 0 else \"Not Leap Year\"\n",
    "print(isleap(2010))"
   ]
  },
  {
   "cell_type": "code",
   "execution_count": 62,
   "id": "eaa41ba8",
   "metadata": {},
   "outputs": [
    {
     "name": "stdout",
     "output_type": "stream",
     "text": [
      "121\n"
     ]
    }
   ],
   "source": [
    "num = 121\n",
    "rev = 0\n",
    "while num > 0:\n",
    "    i = num%10\n",
    "    rev = rev*10 + i\n",
    "    num = num//10\n",
    "\n",
    "print(rev)"
   ]
  },
  {
   "cell_type": "code",
   "execution_count": null,
   "id": "579dc620",
   "metadata": {},
   "outputs": [],
   "source": []
  }
 ],
 "metadata": {
  "kernelspec": {
   "display_name": "myenv",
   "language": "python",
   "name": "python3"
  },
  "language_info": {
   "codemirror_mode": {
    "name": "ipython",
    "version": 3
   },
   "file_extension": ".py",
   "mimetype": "text/x-python",
   "name": "python",
   "nbconvert_exporter": "python",
   "pygments_lexer": "ipython3",
   "version": "3.13.5"
  }
 },
 "nbformat": 4,
 "nbformat_minor": 5
}
