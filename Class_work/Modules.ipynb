{
 "cells": [
  {
   "cell_type": "markdown",
   "id": "78b0b05e",
   "metadata": {},
   "source": [
    "# Inbuilt Modules\n",
    "#### DATE & TIME"
   ]
  },
  {
   "cell_type": "code",
   "execution_count": 22,
   "id": "a22d6334",
   "metadata": {},
   "outputs": [
    {
     "name": "stdout",
     "output_type": "stream",
     "text": [
      "2025-07-30\n",
      "2025\n",
      "7\n",
      "30\n",
      "2\n",
      "datetime.IsoCalendarDate(year=2025, week=31, weekday=3)\n",
      "3\n",
      "2025-07-30\n",
      "2025-07-30 10:18:22.378122\n",
      "2025-07-30\n",
      "2025\n",
      "7\n",
      "30\n",
      "10:18:22.378122\n",
      "10\n",
      "18\n",
      "22\n",
      "378122\n"
     ]
    }
   ],
   "source": [
    "from datetime import date,datetime\n",
    "today= date.today()\n",
    "print(today)\n",
    "print(today.year)\n",
    "print(today.month)\n",
    "print(today.day)\n",
    "print(today.weekday())\n",
    "print(today.isocalendar())\n",
    "print(today.isoweekday())\n",
    "print(today.isoformat())\n",
    "now = datetime.now()\n",
    "print(now)\n",
    "print(now.date())\n",
    "print(now.year)\n",
    "print(now.month)\n",
    "print(now.day)\n",
    "print(now.time())\n",
    "print(now.hour)\n",
    "print(now.minute)\n",
    "print(now.second)\n",
    "print(now.microsecond)"
   ]
  },
  {
   "cell_type": "code",
   "execution_count": 34,
   "id": "be34e2fd",
   "metadata": {},
   "outputs": [
    {
     "name": "stdout",
     "output_type": "stream",
     "text": [
      "25-07-30\n",
      "2025/07/30\n",
      "2025 Jul 30\n",
      "July 2025 30\n",
      "July 2025 30 Wed\n",
      "July 2025 30 Wednesday\n",
      "10:18:22 AM\n",
      "10:18:22 AM\n",
      "Wednesday,July 30 2025|10:18:22 AM\n"
     ]
    }
   ],
   "source": [
    "print(now.strftime(\"%y-%m-%d\"))\n",
    "print(now.strftime(\"%Y/%m/%d\"))\n",
    "print(now.strftime(\"%Y %b %d\"))\n",
    "print(now.strftime(\"%B %Y %d\"))\n",
    "print(now.strftime(\"%B %Y %d %a\"))\n",
    "print(now.strftime(\"%B %Y %d %A\"))\n",
    "print(now.strftime(\"%H:%M:%S %p\"))\n",
    "print(now.strftime(\"%I:%M:%S %p\"))\n",
    "print(now.strftime(\"%A,%B %d %Y|%H:%M:%S %p\"))\n"
   ]
  },
  {
   "cell_type": "code",
   "execution_count": 42,
   "id": "a51abeab",
   "metadata": {},
   "outputs": [
    {
     "name": "stdout",
     "output_type": "stream",
     "text": [
      "2025-08-06\n",
      "2025-07-23\n",
      "Time after 30 Min\n",
      "2025-07-30 10:48:22.378122\n"
     ]
    }
   ],
   "source": [
    "from datetime import timedelta\n",
    "nextweek = today + timedelta(days=7)\n",
    "print(nextweek)\n",
    "past_week = today - timedelta(days=7)\n",
    "print(past_week)\n",
    "print(\"Time after 30 Min\")\n",
    "after30min = now + timedelta(minutes=30)\n",
    "print(after30min)"
   ]
  },
  {
   "cell_type": "code",
   "execution_count": null,
   "id": "6cd4bc44",
   "metadata": {},
   "outputs": [
    {
     "name": "stdout",
     "output_type": "stream",
     "text": [
      "['d:\\\\Python_course\\\\myenv\\\\Lib\\\\site-packages\\\\ipykernel_launcher.py', '--f=c:\\\\Users\\\\ADMIN\\\\AppData\\\\Roaming\\\\jupyter\\\\runtime\\\\kernel-v396a3a79543b5d0b27eb4ac34e210fb558d64c844.json']\n"
     ]
    },
    {
     "ename": "SystemExit",
     "evalue": "0",
     "output_type": "error",
     "traceback": [
      "An exception has occurred, use %tb to see the full traceback.\n",
      "\u001b[31mSystemExit\u001b[39m\u001b[31m:\u001b[39m 0\n"
     ]
    },
    {
     "name": "stderr",
     "output_type": "stream",
     "text": [
      "d:\\Python_course\\myenv\\Lib\\site-packages\\IPython\\core\\interactiveshell.py:3680: UserWarning: To exit: use 'exit', 'quit', or Ctrl-D.\n",
      "  warn(\"To exit: use 'exit', 'quit', or Ctrl-D.\", stacklevel=1)\n"
     ]
    }
   ],
   "source": [
    "import sys\n",
    "import platform\n",
    "\n",
    "\n",
    "print(sys.argv)\n",
    "print(sys.exit(0))\n",
    "print('Hello world')\n",
    "print(sys.path)\n",
    "\n",
    "print(platform.system())\n",
    "print(platform.version())\n",
    "print(platform.processor())"
   ]
  },
  {
   "cell_type": "code",
   "execution_count": null,
   "id": "98879a66",
   "metadata": {},
   "outputs": [
    {
     "name": "stdout",
     "output_type": "stream",
     "text": [
      "5.0\n",
      "9.0\n",
      "233.0\n",
      "23\n",
      "23\n",
      "25\n",
      "-1.995200412208242\n",
      "0.8509035245341184\n",
      "-0.5328330203333975\n",
      "1317.8029288008934\n"
     ]
    }
   ],
   "source": [
    "import math\n",
    "\n",
    "\n",
    "print(math.sqrt(25))\n",
    "print(math.pow(3,2))\n",
    "print(math.fabs(-233))\n",
    "print(math.floor(23.4))\n",
    "print(math.floor(23.8))\n",
    "print(math.ceil(24.1))\n",
    "print(math.tan(90))\n",
    "print(math.sin(45))\n",
    "print(math.cos(23))\n",
    "print(math.degrees(23))"
   ]
  },
  {
   "cell_type": "code",
   "execution_count": null,
   "id": "0c305529",
   "metadata": {},
   "outputs": [
    {
     "name": "stdout",
     "output_type": "stream",
     "text": [
      "0.5714025946899135\n",
      "4\n",
      "4.412808372754279\n",
      "Arun\n",
      "['Tarak', 'Ramya', 'Ramya']\n",
      "['Kalyan', 'Ramya', 'Mani', 'Arun', 'Tarak', 'Swathi']\n",
      "<module 'random' from 'C:\\\\Program Files\\\\WindowsApps\\\\PythonSoftwareFoundation.Python.3.13_3.13.1520.0_x64__qbz5n2kfra8p0\\\\Lib\\\\random.py'>\n"
     ]
    }
   ],
   "source": [
    "import random\n",
    "\n",
    "\n",
    "random.seed(10)\n",
    "print(random.random())\n",
    "print(random.randint(1,6))\n",
    "print(random.uniform(2,7))\n",
    "l = [\"Arun\",\"Tarak\",\"Mani\",\"Kalyan\",\"Ramya\",\"Swathi\"]\n",
    "print(random.choice(l))\n",
    "print(random.choices(l, k=3))\n",
    "random.shuffle(l)\n",
    "print(l)\n",
    "print(random)"
   ]
  },
  {
   "cell_type": "code",
   "execution_count": 43,
   "id": "f01e6b7c",
   "metadata": {},
   "outputs": [
    {
     "name": "stdout",
     "output_type": "stream",
     "text": [
      "Counter({'Ramya': 1, 'Kalyan': 1, 'Venkat': 1, 'Sai': 1, 'Kumar': 1, 'Smitha': 1, 'Mani': 1})\n",
      "Counter({'j': 9, 'h': 6, 'f': 5, 'e': 4, 'i': 4, 'o': 4, '8': 4, 'k': 4, 'r': 3, 'n': 3, '9': 2, 'u': 2, 'g': 2, 't': 2, 'l': 2, '4': 1, '3': 1, '0': 1, 'y': 1, 'c': 1, 'b': 1, 'v': 1, 'p': 1, 'a': 1, ';': 1})\n",
      "defaultdict(<class 'int'>, {'Ramya': 1, 'Kalyan': 1, 'Venkat': 1, 'Sai': 1, 'Kumar': 1, 'Smitha': 1, 'Mani': 1})\n"
     ]
    }
   ],
   "source": [
    "import collections\n",
    "names = ['Ramya','Kalyan','Venkat','Sai','Kumar','Smitha','Mani']\n",
    "c = collections.Counter(names)\n",
    "print(c)\n",
    "s = 'fe4390ijeoj8u8jeh8y89rhhcijnjknkjbfegfirgtflkjvnjrhuoplkfja;ohioth'\n",
    "p = collections.Counter(s)\n",
    "print(p)\n",
    "\n",
    "d=collections.defaultdict(int)\n",
    "for i in names:\n",
    "    d[i]+=1\n",
    "print(d)"
   ]
  },
  {
   "cell_type": "code",
   "execution_count": 4,
   "id": "1e8f40ef",
   "metadata": {},
   "outputs": [
    {
     "name": "stdout",
     "output_type": "stream",
     "text": [
      "[(1, 2), (1, 3), (1, 4), (1, 5), (1, 6), (1, 7), (1, 8), (2, 3), (2, 4), (2, 5), (2, 6), (2, 7), (2, 8), (3, 4), (3, 5), (3, 6), (3, 7), (3, 8), (4, 5), (4, 6), (4, 7), (4, 8), (5, 6), (5, 7), (5, 8), (6, 7), (6, 8), (7, 8)]\n",
      "28\n",
      "[(1, 2, 3), (1, 2, 4), (1, 2, 5), (1, 2, 6), (1, 2, 7), (1, 2, 8), (1, 3, 2), (1, 3, 4), (1, 3, 5), (1, 3, 6), (1, 3, 7), (1, 3, 8), (1, 4, 2), (1, 4, 3), (1, 4, 5), (1, 4, 6), (1, 4, 7), (1, 4, 8), (1, 5, 2), (1, 5, 3), (1, 5, 4), (1, 5, 6), (1, 5, 7), (1, 5, 8), (1, 6, 2), (1, 6, 3), (1, 6, 4), (1, 6, 5), (1, 6, 7), (1, 6, 8), (1, 7, 2), (1, 7, 3), (1, 7, 4), (1, 7, 5), (1, 7, 6), (1, 7, 8), (1, 8, 2), (1, 8, 3), (1, 8, 4), (1, 8, 5), (1, 8, 6), (1, 8, 7), (2, 1, 3), (2, 1, 4), (2, 1, 5), (2, 1, 6), (2, 1, 7), (2, 1, 8), (2, 3, 1), (2, 3, 4), (2, 3, 5), (2, 3, 6), (2, 3, 7), (2, 3, 8), (2, 4, 1), (2, 4, 3), (2, 4, 5), (2, 4, 6), (2, 4, 7), (2, 4, 8), (2, 5, 1), (2, 5, 3), (2, 5, 4), (2, 5, 6), (2, 5, 7), (2, 5, 8), (2, 6, 1), (2, 6, 3), (2, 6, 4), (2, 6, 5), (2, 6, 7), (2, 6, 8), (2, 7, 1), (2, 7, 3), (2, 7, 4), (2, 7, 5), (2, 7, 6), (2, 7, 8), (2, 8, 1), (2, 8, 3), (2, 8, 4), (2, 8, 5), (2, 8, 6), (2, 8, 7), (3, 1, 2), (3, 1, 4), (3, 1, 5), (3, 1, 6), (3, 1, 7), (3, 1, 8), (3, 2, 1), (3, 2, 4), (3, 2, 5), (3, 2, 6), (3, 2, 7), (3, 2, 8), (3, 4, 1), (3, 4, 2), (3, 4, 5), (3, 4, 6), (3, 4, 7), (3, 4, 8), (3, 5, 1), (3, 5, 2), (3, 5, 4), (3, 5, 6), (3, 5, 7), (3, 5, 8), (3, 6, 1), (3, 6, 2), (3, 6, 4), (3, 6, 5), (3, 6, 7), (3, 6, 8), (3, 7, 1), (3, 7, 2), (3, 7, 4), (3, 7, 5), (3, 7, 6), (3, 7, 8), (3, 8, 1), (3, 8, 2), (3, 8, 4), (3, 8, 5), (3, 8, 6), (3, 8, 7), (4, 1, 2), (4, 1, 3), (4, 1, 5), (4, 1, 6), (4, 1, 7), (4, 1, 8), (4, 2, 1), (4, 2, 3), (4, 2, 5), (4, 2, 6), (4, 2, 7), (4, 2, 8), (4, 3, 1), (4, 3, 2), (4, 3, 5), (4, 3, 6), (4, 3, 7), (4, 3, 8), (4, 5, 1), (4, 5, 2), (4, 5, 3), (4, 5, 6), (4, 5, 7), (4, 5, 8), (4, 6, 1), (4, 6, 2), (4, 6, 3), (4, 6, 5), (4, 6, 7), (4, 6, 8), (4, 7, 1), (4, 7, 2), (4, 7, 3), (4, 7, 5), (4, 7, 6), (4, 7, 8), (4, 8, 1), (4, 8, 2), (4, 8, 3), (4, 8, 5), (4, 8, 6), (4, 8, 7), (5, 1, 2), (5, 1, 3), (5, 1, 4), (5, 1, 6), (5, 1, 7), (5, 1, 8), (5, 2, 1), (5, 2, 3), (5, 2, 4), (5, 2, 6), (5, 2, 7), (5, 2, 8), (5, 3, 1), (5, 3, 2), (5, 3, 4), (5, 3, 6), (5, 3, 7), (5, 3, 8), (5, 4, 1), (5, 4, 2), (5, 4, 3), (5, 4, 6), (5, 4, 7), (5, 4, 8), (5, 6, 1), (5, 6, 2), (5, 6, 3), (5, 6, 4), (5, 6, 7), (5, 6, 8), (5, 7, 1), (5, 7, 2), (5, 7, 3), (5, 7, 4), (5, 7, 6), (5, 7, 8), (5, 8, 1), (5, 8, 2), (5, 8, 3), (5, 8, 4), (5, 8, 6), (5, 8, 7), (6, 1, 2), (6, 1, 3), (6, 1, 4), (6, 1, 5), (6, 1, 7), (6, 1, 8), (6, 2, 1), (6, 2, 3), (6, 2, 4), (6, 2, 5), (6, 2, 7), (6, 2, 8), (6, 3, 1), (6, 3, 2), (6, 3, 4), (6, 3, 5), (6, 3, 7), (6, 3, 8), (6, 4, 1), (6, 4, 2), (6, 4, 3), (6, 4, 5), (6, 4, 7), (6, 4, 8), (6, 5, 1), (6, 5, 2), (6, 5, 3), (6, 5, 4), (6, 5, 7), (6, 5, 8), (6, 7, 1), (6, 7, 2), (6, 7, 3), (6, 7, 4), (6, 7, 5), (6, 7, 8), (6, 8, 1), (6, 8, 2), (6, 8, 3), (6, 8, 4), (6, 8, 5), (6, 8, 7), (7, 1, 2), (7, 1, 3), (7, 1, 4), (7, 1, 5), (7, 1, 6), (7, 1, 8), (7, 2, 1), (7, 2, 3), (7, 2, 4), (7, 2, 5), (7, 2, 6), (7, 2, 8), (7, 3, 1), (7, 3, 2), (7, 3, 4), (7, 3, 5), (7, 3, 6), (7, 3, 8), (7, 4, 1), (7, 4, 2), (7, 4, 3), (7, 4, 5), (7, 4, 6), (7, 4, 8), (7, 5, 1), (7, 5, 2), (7, 5, 3), (7, 5, 4), (7, 5, 6), (7, 5, 8), (7, 6, 1), (7, 6, 2), (7, 6, 3), (7, 6, 4), (7, 6, 5), (7, 6, 8), (7, 8, 1), (7, 8, 2), (7, 8, 3), (7, 8, 4), (7, 8, 5), (7, 8, 6), (8, 1, 2), (8, 1, 3), (8, 1, 4), (8, 1, 5), (8, 1, 6), (8, 1, 7), (8, 2, 1), (8, 2, 3), (8, 2, 4), (8, 2, 5), (8, 2, 6), (8, 2, 7), (8, 3, 1), (8, 3, 2), (8, 3, 4), (8, 3, 5), (8, 3, 6), (8, 3, 7), (8, 4, 1), (8, 4, 2), (8, 4, 3), (8, 4, 5), (8, 4, 6), (8, 4, 7), (8, 5, 1), (8, 5, 2), (8, 5, 3), (8, 5, 4), (8, 5, 6), (8, 5, 7), (8, 6, 1), (8, 6, 2), (8, 6, 3), (8, 6, 4), (8, 6, 5), (8, 6, 7), (8, 7, 1), (8, 7, 2), (8, 7, 3), (8, 7, 4), (8, 7, 5), (8, 7, 6)]\n",
      "336\n"
     ]
    }
   ],
   "source": [
    "from itertools import combinations,permutations\n",
    "from collections import deque\n",
    "print(list(combinations([1,2,3,4,5,6,7,8],2)))\n",
    "print(len(list(combinations([1,2,3,4,5,6,7,8],2))))\n",
    "print(list(permutations([1,2,3,4,5,6,7,8],3)))\n",
    "print(len(list(permutations([1,2,3,4,5,6,7,8],3))))\n"
   ]
  },
  {
   "cell_type": "code",
   "execution_count": 12,
   "id": "51f855cc",
   "metadata": {},
   "outputs": [
    {
     "name": "stdout",
     "output_type": "stream",
     "text": [
      "4 2\n",
      "5 1\n"
     ]
    }
   ],
   "source": [
    "l = [3,4,5,1,2]\n",
    "res = list(combinations(l,2))\n",
    "k = 6\n",
    "for i in range(len(l)-1):\n",
    "    for j in range(i+1,len(l)):\n",
    "        if l[i] + l[j] == k:\n",
    "            print(l[i],l[j])"
   ]
  },
  {
   "cell_type": "code",
   "execution_count": 13,
   "id": "6ce0ec23",
   "metadata": {},
   "outputs": [
    {
     "name": "stdout",
     "output_type": "stream",
     "text": [
      "(4, 2)\n",
      "(5, 1)\n"
     ]
    }
   ],
   "source": [
    "for i in res:\n",
    "    if sum(i) == k:\n",
    "        print(i)"
   ]
  },
  {
   "cell_type": "code",
   "execution_count": 20,
   "id": "803cfc4e",
   "metadata": {},
   "outputs": [
    {
     "name": "stdout",
     "output_type": "stream",
     "text": [
      "deque([1, 2, 3, 4, 5, 6, 7, 8, 9])\n",
      "deque([1, 2, 3, 4, 5, 6, 7, 8])\n",
      "deque([1, 2, 3, 4, 5, 6, 7, 8, 13])\n",
      "deque([1, 2, 3, 4, 5, 6, 7, 8, 13])\n",
      "deque([2, 3, 4, 5, 6, 7, 8, 13])\n",
      "deque([12, 2, 3, 4, 5, 6, 7, 8, 13])\n"
     ]
    }
   ],
   "source": [
    "from collections import deque\n",
    "l = [1,2,3,4,5,6,7,8,9]\n",
    "d = deque(l)\n",
    "print(d)\n",
    "d.pop()\n",
    "print(d)\n",
    "d.append(13)\n",
    "print(d)\n",
    "print(d)\n",
    "d.popleft()\n",
    "print(d)\n",
    "d.appendleft(12)\n",
    "print(d)"
   ]
  },
  {
   "cell_type": "code",
   "execution_count": null,
   "id": "f291a8c2",
   "metadata": {},
   "outputs": [],
   "source": []
  }
 ],
 "metadata": {
  "kernelspec": {
   "display_name": "myenv",
   "language": "python",
   "name": "python3"
  },
  "language_info": {
   "codemirror_mode": {
    "name": "ipython",
    "version": 3
   },
   "file_extension": ".py",
   "mimetype": "text/x-python",
   "name": "python",
   "nbconvert_exporter": "python",
   "pygments_lexer": "ipython3",
   "version": "3.13.5"
  }
 },
 "nbformat": 4,
 "nbformat_minor": 5
}
