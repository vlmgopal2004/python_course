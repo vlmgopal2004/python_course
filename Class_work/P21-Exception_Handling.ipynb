{
 "cells": [
  {
   "cell_type": "markdown",
   "id": "01776a60",
   "metadata": {},
   "source": [
    "# Exception Handling\n"
   ]
  },
  {
   "cell_type": "code",
   "execution_count": null,
   "id": "d1999b12",
   "metadata": {},
   "outputs": [],
   "source": [
    "try:\n",
    "    a = int(input(\"Enter the a:\"))\n",
    "    b = int(input(\"Enter the b:\"))\n",
    "    s = input(\"Enter the string\")\n",
    "    l = [1,2,3,4,5,6,7]\n",
    "    d = {\"Name\":\"Tarak\", \"Course\": \"Python\"}\n",
    "    print(l)\n",
    "    print(d)\n",
    "    ind = int(input(\"Enter the index value: \"))\n",
    "    key = input(\"Enter the Key value: \")\n",
    "    print(d[key])\n",
    "    print(l[ind])\n",
    "    print(a+s)\n",
    "    print(a/b)\n",
    "except ZeroDivisionError:\n",
    "    print(\"b cannot be zero\")\n",
    "except ValueError:\n",
    "    print(\"Please enter the integer value\")\n",
    "except TypeError:\n",
    "    print(\"Enter the same type\")\n",
    "except IndexError:\n",
    "    print(\"Enter the index within range\")\n",
    "except KeyError:\n",
    "    print(\"Key is not present\")\n",
    "else:\n",
    "    print(\"All inputs are perfect no exceptions you can run the r\")"
   ]
  },
  {
   "cell_type": "code",
   "execution_count": 3,
   "id": "06835be9",
   "metadata": {},
   "outputs": [
    {
     "name": "stdout",
     "output_type": "stream",
     "text": [
      "[1, 2, 3, 4, 5, 6, 7]\n",
      "{'Name': 'Tarak', 'Course': 'Python'}\n",
      "Error occured: 'age'\n"
     ]
    }
   ],
   "source": [
    "try:\n",
    "    a = int(input(\"Enter the a:\"))\n",
    "    b = int(input(\"Enter the b:\"))\n",
    "    s = input(\"Enter the string\")\n",
    "    l = [1,2,3,4,5,6,7]\n",
    "    d = {\"Name\":\"Tarak\", \"Course\": \"Python\"}\n",
    "    print(l)\n",
    "    print(d)\n",
    "    ind = int(input(\"Enter the index value: \"))\n",
    "    key = input(\"Enter the Key value: \")\n",
    "    print(d[key])\n",
    "    print(l[ind])\n",
    "    print(a+s)\n",
    "    print(a/b)\n",
    "except (ZeroDivisionError,ValueError,TypeError,IndexError,KeyError) as e:\n",
    "    print(f\"Error occured: {e}\")\n",
    "else:\n",
    "    print(\"All inputs are perfect no exceptions you can run the r\")"
   ]
  },
  {
   "cell_type": "code",
   "execution_count": null,
   "id": "4b322914",
   "metadata": {},
   "outputs": [
    {
     "name": "stdout",
     "output_type": "stream",
     "text": [
      "Error occured: invalid literal for int() with base 10: 'ki'\n"
     ]
    }
   ],
   "source": [
    "try:\n",
    "    a = int(input(\"Enter the a:\"))\n",
    "    b = int(input(\"Enter the b:\"))\n",
    "    s = input(\"Enter the string\")\n",
    "    l = [1,2,3,4,5,6,7]\n",
    "    d = {\"Name\":\"Tarak\", \"Course\": \"Python\"}\n",
    "    print(l)\n",
    "    print(d)\n",
    "    ind = int(input(\"Enter the index value: \"))\n",
    "    key = input(\"Enter the Key value: \").title()\n",
    "    print(d[key])\n",
    "    print(l[ind])\n",
    "    print(a+s)\n",
    "    print(a/b)\n",
    "except Exception as e:\n",
    "    print(f\"Error occured: {e}\")\n",
    "else:\n",
    "    print(\"All inputs are perfect no exceptions you can run the remaining code\")"
   ]
  },
  {
   "cell_type": "code",
   "execution_count": null,
   "id": "d5a442c6",
   "metadata": {},
   "outputs": [],
   "source": [
    "try:\n",
    "    a = int(input(\"Enter the a:\"))\n",
    "    b = int(input(\"Enter the b:\"))\n",
    "    d = None\n",
    "    d = a/b\n",
    "    l = [1,2,3,4,5,6,7]\n",
    "    ind = int(input(\"Enter the index value: \"))\n",
    "    val = None\n",
    "    val = l[ind]\n",
    "except Exception as e:\n",
    "    print(f\"Error occured: {e}\")\n",
    "else:\n",
    "    print(\"All inputs are perfect no exceptions you can run the remaining code\")\n",
    "finally:\n",
    "    print(a,b,l)"
   ]
  },
  {
   "cell_type": "code",
   "execution_count": null,
   "id": "c33837c6",
   "metadata": {},
   "outputs": [],
   "source": [
    "try:\n",
    "    a = int(input(\"Enter a: \"))\n",
    "    b = int(input(\"Enter b: \"))\n",
    "    \n",
    "    d = a / b\n",
    "\n",
    "    l = [1, 2, 3, 4, 5, 6, 7]\n",
    "    ind = int(input(\"Enter index value: \"))\n",
    "    val = l[ind]\n",
    "\n",
    "except ZeroDivisionError:\n",
    "    print(\"Error: Cannot divide by zero.\")\n",
    "except IndexError:\n",
    "    print(\"Error: Index is out of range.\")\n",
    "except ValueError:\n",
    "    print(\"Error: Invalid input. Please enter the correct type.\")\n",
    "except Exception as e:\n",
    "    print(f\"Unexpected error: {e}\")\n",
    "else:\n",
    "    print(\"All inputs are valid — you can proceed.\")\n",
    "finally:\n",
    "    print(f\"d = {locals().get('d', None)}, val = {locals().get('val', None)}\")\n"
   ]
  },
  {
   "cell_type": "code",
   "execution_count": null,
   "id": "c568b3f1",
   "metadata": {},
   "outputs": [
    {
     "name": "stdout",
     "output_type": "stream",
     "text": [
      "Error occured: Please enter positive number\n",
      "9 -1\n"
     ]
    }
   ],
   "source": [
    "try:\n",
    "    a = int(input(\"Enter the a:\"))\n",
    "    b = int(input(\"Enter the b:\"))\n",
    "    if a < 0 or b < 0:\n",
    "        raise ValueError(\"Please enter positive numbers for a,b\")\n",
    "    \n",
    "except Exception as e:\n",
    "    print(f\"Error occured: {e}\")\n",
    "else:\n",
    "    print(\"All inputs are perfect no exceptions you can run the remaining code\")\n",
    "finally:\n",
    "    print(a,b)"
   ]
  },
  {
   "cell_type": "code",
   "execution_count": null,
   "id": "0befe751",
   "metadata": {},
   "outputs": [],
   "source": []
  }
 ],
 "metadata": {
  "kernelspec": {
   "display_name": "myenv",
   "language": "python",
   "name": "python3"
  },
  "language_info": {
   "codemirror_mode": {
    "name": "ipython",
    "version": 3
   },
   "file_extension": ".py",
   "mimetype": "text/x-python",
   "name": "python",
   "nbconvert_exporter": "python",
   "pygments_lexer": "ipython3",
   "version": "3.13.5"
  }
 },
 "nbformat": 4,
 "nbformat_minor": 5
}
