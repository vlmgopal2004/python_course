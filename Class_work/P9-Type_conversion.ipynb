{
 "cells": [
  {
   "cell_type": "markdown",
   "id": "38e1a5d4",
   "metadata": {},
   "source": [
    "# Type Conversion (Type Casting)\n"
   ]
  },
  {
   "cell_type": "code",
   "execution_count": null,
   "id": "b7b1bf84",
   "metadata": {},
   "outputs": [
    {
     "name": "stdout",
     "output_type": "stream",
     "text": [
      "5 <class 'int'>\n",
      "5.0 <class 'float'>\n",
      "5 <class 'str'>\n",
      "True <class 'bool'>\n"
     ]
    },
    {
     "data": {
      "text/plain": [
       "'\\n# int to list\\nl = list(a)\\nprint(l,type(l)) -->Error int cannot convert into list\\n# int to tuple\\nt = tuple(a)\\nprint(t,type(t)) -->Error int cannot convert into tuple\\n#int to dictionary\\nd = dict(a)\\nprint(d,type(d)) -->Error int cannot convert into dictionary\\n#int to set\\nset = set(a)\\nprint(s,type(set)) -->Error int cannot convert into set\\n'"
      ]
     },
     "execution_count": 2,
     "metadata": {},
     "output_type": "execute_result"
    }
   ],
   "source": [
    "#Converting from int\n",
    "a = 5\n",
    "print(a,type(a))\n",
    "# int to Float\n",
    "f = float(a)\n",
    "print(f,type(f))\n",
    "# int to String\n",
    "s = str(a)\n",
    "print(s,type(s))\n",
    "# int to Boolean\n",
    "b = bool(a)\n",
    "print(b,type(b))\n",
    "'''\n",
    "# int to list\n",
    "l = list(a)\n",
    "print(l,type(l)) #TypeError: 'int' object is not iterable\n",
    "# int to tuple\n",
    "t = tuple(a)\n",
    "print(t,type(t)) #TypeError: 'int' object is not iterable\n",
    "#int to dictionary\n",
    "d = dict(a)\n",
    "print(d,type(d)) #TypeError: 'int' object is not iterable\n",
    "#int to set\n",
    "set = set(a)\n",
    "print(s,type(set)) #TypeError: 'int' object is not iterable\n",
    "\n",
    "'''"
   ]
  },
  {
   "cell_type": "code",
   "execution_count": null,
   "id": "971388c7",
   "metadata": {},
   "outputs": [
    {
     "name": "stdout",
     "output_type": "stream",
     "text": [
      "3.4 <class 'float'>\n",
      "3 <class 'int'>\n",
      "3.4 <class 'str'>\n",
      "True <class 'bool'>\n"
     ]
    },
    {
     "data": {
      "text/plain": [
       "\"\\n# float to list\\nl = list(f)\\nprint(l,type(l)) #TypeError: 'float' object is not iterable\\n# float to tuple\\nt = tuple(f)\\nprint(t,type(t)) #TypeError: 'float' object is not iterable\\n# float to dictionary\\nd = dict(f)\\nprint(d,type(d)) #TypeError: 'float' object is not iterable\\n# float to set\\nset = set(f)\\nprint(s,type(set)) #TypeError: 'float' object is not iterable\\n\\n\""
      ]
     },
     "execution_count": 13,
     "metadata": {},
     "output_type": "execute_result"
    }
   ],
   "source": [
    "# Converting from float\n",
    "f = 3.4\n",
    "print(f,type(f))\n",
    "\n",
    "# float to int\n",
    "print(int(f), type(int(f)))\n",
    "# float to string\n",
    "print(str(f), type(str(f)))\n",
    "# float to boolean\n",
    "print(bool(f), type(bool(f)))\n",
    "'''\n",
    "# float to list\n",
    "l = list(f)\n",
    "print(l,type(l)) #TypeError: 'float' object is not iterable\n",
    "# float to tuple\n",
    "t = tuple(f)\n",
    "print(t,type(t)) #TypeError: 'float' object is not iterable\n",
    "# float to dictionary\n",
    "d = dict(f)\n",
    "print(d,type(d)) #TypeError: 'float' object is not iterable\n",
    "# float to set\n",
    "set = set(f)\n",
    "print(s,type(set)) #TypeError: 'float' object is not iterable\n",
    "\n",
    "'''\n"
   ]
  },
  {
   "cell_type": "code",
   "execution_count": null,
   "id": "2b3e436a",
   "metadata": {},
   "outputs": [
    {
     "name": "stdout",
     "output_type": "stream",
     "text": [
      "mani <class 'str'>\n",
      "True <class 'bool'>\n",
      "['m', 'a', 'n', 'i'] <class 'list'>\n",
      "('m', 'a', 'n', 'i') <class 'tuple'>\n",
      "{'m', 'n', 'i', 'a'} <class 'set'>\n"
     ]
    },
    {
     "data": {
      "text/plain": [
       "\"\\n#string to int \\nprint(int(s), type(int(s))) #ValueError: invalid literal for int() with base 10: 'mani'\\n#string to float\\nprint(float(s), type(float(s))) #ValueError: could not convert string to float: 'mani'\\n#string to dictionary\\nprint(dict(s),type(dict(s))) #ValueError: dictionary update sequence element #0 has length 1; 2 is required\\n\\n\""
      ]
     },
     "execution_count": 14,
     "metadata": {},
     "output_type": "execute_result"
    }
   ],
   "source": [
    "#Converting from str\n",
    "s = 'mani'\n",
    "print(s, type(s))\n",
    "# string to boolean\n",
    "print(bool(s), type(bool(s)))\n",
    "# string to list\n",
    "print(list(s), type(list(s)))\n",
    "# string to tuple\n",
    "print(tuple(s), type(tuple(s)))\n",
    "# string to set\n",
    "print(set(s),type(set(s)))\n",
    "\n",
    "'''\n",
    "#string to int \n",
    "print(int(s), type(int(s))) #ValueError: invalid literal for int() with base 10: 'mani'\n",
    "#string to float\n",
    "print(float(s), type(float(s))) #ValueError: could not convert string to float: 'mani'\n",
    "#string to dictionary\n",
    "print(dict(s),type(dict(s))) #ValueError: dictionary update sequence element #0 has length 1; 2 is required\n",
    "\n",
    "'''"
   ]
  },
  {
   "cell_type": "code",
   "execution_count": null,
   "id": "67542bd8",
   "metadata": {},
   "outputs": [
    {
     "name": "stdout",
     "output_type": "stream",
     "text": [
      "[1, 2, 3, 4, 5] <class 'list'>\n",
      "[1, 2, 3, 4, 5] <class 'str'>\n",
      "True <class 'bool'>\n",
      "(1, 2, 3, 4, 5) <class 'tuple'>\n",
      "{1, 2, 3, 4, 5} <class 'set'>\n"
     ]
    },
    {
     "data": {
      "text/plain": [
       "\"\\n# list to int\\nprint(int(l), type(int(l))) #TypeError: int() argument must be a string, a bytes-like object or a real number, not 'list'\\n# list to float\\nprint(float(l),type(float(l)))#TypeError: float() argument must be a string or a real number, not 'list'\\n#list to dictionary\\nprint(dict(l),type(dict(l)))#TypeError: cannot convert dictionary update sequence element #0 to a sequence\\n\\n\""
      ]
     },
     "execution_count": 18,
     "metadata": {},
     "output_type": "execute_result"
    }
   ],
   "source": [
    "# Converting from list\n",
    "l = [1,2,3,4,5]\n",
    "print(l, type(l))\n",
    "# list to string \n",
    "print(str(l),type(str(l)))\n",
    "# list to boolean\n",
    "print(bool(l), type(bool(l)))\n",
    "# list to tuple\n",
    "print(tuple(l), type(tuple(l)))\n",
    "# list to set\n",
    "print(set(l),type(set(l)))\n",
    "\n",
    "'''\n",
    "# list to int\n",
    "print(int(l), type(int(l))) #TypeError: int() argument must be a string, a bytes-like object or a real number, not 'list'\n",
    "# list to float\n",
    "print(float(l),type(float(l)))#TypeError: float() argument must be a string or a real number, not 'list'\n",
    "# list to dictionary\n",
    "print(dict(l),type(dict(l)))#TypeError: cannot convert dictionary update sequence element #0 to a sequence\n",
    "\n",
    "'''"
   ]
  },
  {
   "cell_type": "code",
   "execution_count": null,
   "id": "55386e1e",
   "metadata": {},
   "outputs": [
    {
     "name": "stdout",
     "output_type": "stream",
     "text": [
      "(1, 2, 3, 4, 5) <class 'tuple'>\n",
      "(1, 2, 3, 4, 5) <class 'str'>\n",
      "True <class 'bool'>\n",
      "[1, 2, 3, 4, 5] <class 'list'>\n",
      "{1, 2, 3, 4, 5} <class 'set'>\n"
     ]
    },
    {
     "data": {
      "text/plain": [
       "\"\\n# list to int\\nprint(int(t), type(int(t))) #TypeError: int() argument must be a string, a bytes-like object or a real number, not 'tuple'\\n\\n\""
      ]
     },
     "execution_count": 22,
     "metadata": {},
     "output_type": "execute_result"
    }
   ],
   "source": [
    "#Converting from tuple\n",
    "t = (1,2,3,4,5)\n",
    "print(t, type(t))\n",
    "# tuple to string \n",
    "print(str(t),type(str(t)))\n",
    "# tuple to boolean\n",
    "print(bool(t), type(bool(t)))\n",
    "# tuple to list\n",
    "print(list(t), type(list(l)))\n",
    "# tuple to set\n",
    "print(set(t),type(set(t)))\n",
    "\n",
    "'''\n",
    "# tuple to int\n",
    "print(int(t), type(int(t))) #TypeError: int() argument must be a string, a bytes-like object or a real number, not 'tuple'\n",
    "# tuple to float\n",
    "print(float(t),type(float(t)))#TypeError: float() argument must be a string or a real number, not 'tuple'\n",
    "# tuple to dictionary\n",
    "print(dict(t),type(dict(t)))#TypeError: cannot convert dictionary update sequence element #0 to a sequence\n",
    "\n",
    "'''"
   ]
  },
  {
   "cell_type": "code",
   "execution_count": null,
   "id": "5cb71041",
   "metadata": {},
   "outputs": [
    {
     "name": "stdout",
     "output_type": "stream",
     "text": [
      "{1, 2, 3, 4, 5} <class 'set'>\n",
      "{1, 2, 3, 4, 5} <class 'str'>\n",
      "True <class 'bool'>\n",
      "[1, 2, 3, 4, 5] <class 'list'>\n",
      "(1, 2, 3, 4, 5) <class 'tuple'>\n"
     ]
    },
    {
     "data": {
      "text/plain": [
       "\"\\n# list to int\\nprint(int(s1), type(int(s1))) #TypeError: int() argument must be a string, a bytes-like object or a real number, not 'set'\\n# list to float\\nprint(float(s1),type(float(s1)))#TypeError: float() argument must be a string or a real number, not 'set'\\n#list to dictionary\\nprint(dict(s1),type(dict(s1)))#TypeError: cannot convert dictionary update sequence element #0 to a sequence\\n\\n\""
      ]
     },
     "execution_count": 24,
     "metadata": {},
     "output_type": "execute_result"
    }
   ],
   "source": [
    "# Converting from set\n",
    "s1 = {1,2,3,4,5}\n",
    "print(s1, type(s1))\n",
    "# set to string \n",
    "print(str(s1),type(str(s1)))\n",
    "# set to boolean\n",
    "print(bool(s1), type(bool(s1)))\n",
    "# set to list\n",
    "print(list(s1), type(list(s1)))\n",
    "# set to tuple\n",
    "print(tuple(s1),type(tuple(s1)))\n",
    "\n",
    "'''\n",
    "# set to int\n",
    "print(int(s1), type(int(s1))) #TypeError: int() argument must be a string, a bytes-like object or a real number, not 'set'\n",
    "# set to float\n",
    "print(float(s1),type(float(s1)))#TypeError: float() argument must be a string or a real number, not 'set'\n",
    "# set to dictionary\n",
    "print(dict(s1),type(dict(s1)))#TypeError: cannot convert dictionary update sequence element #0 to a sequence\n",
    "\n",
    "'''"
   ]
  },
  {
   "cell_type": "code",
   "execution_count": 26,
   "id": "f7de4445",
   "metadata": {},
   "outputs": [
    {
     "name": "stdout",
     "output_type": "stream",
     "text": [
      "{1: 'mani', 2: 'kalyan', 3: 'ramya', 4: 'musthafa', 5: 'swetha'} <class 'dict'>\n",
      "{1: 'mani', 2: 'kalyan', 3: 'ramya', 4: 'musthafa', 5: 'swetha'} <class 'str'>\n",
      "True <class 'bool'>\n",
      "[1, 2, 3, 4, 5] <class 'list'>\n",
      "(1, 2, 3, 4, 5) <class 'tuple'>\n",
      "{1, 2, 3, 4, 5} <class 'set'>\n"
     ]
    },
    {
     "data": {
      "text/plain": [
       "\"\\n# dictionary to int\\nprint(int(s1), type(int(s1))) #TypeError: int() argument must be a string, a bytes-like object or a real number, not 'dict'\\n# dictionary to float\\nprint(float(s1),type(float(s1)))#TypeError: float() argument must be a string or a real number, not 'dict'\\n\\n\""
      ]
     },
     "execution_count": 26,
     "metadata": {},
     "output_type": "execute_result"
    }
   ],
   "source": [
    "#Converting from dictionary\n",
    "d = {1:'mani',2:'kalyan',3:'ramya',4:'musthafa',5:'swetha'}\n",
    "print(d, type(d))\n",
    "# dictionary to string \n",
    "print(str(d),type(str(d)))\n",
    "# dictionary to boolean\n",
    "print(bool(d), type(bool(d)))\n",
    "# dictionary to list\n",
    "print(list(d), type(list(s1)))#only gets Keys only\n",
    "# dictionary to tuple\n",
    "print(tuple(d),type(tuple(d)))#only gets Keys only\n",
    "# dictionary to set\n",
    "print(set(d),type(set(d)))#only gets Keys only\n",
    "\n",
    "'''\n",
    "# dictionary to int\n",
    "print(int(s1), type(int(s1))) #TypeError: int() argument must be a string, a bytes-like object or a real number, not 'dict'\n",
    "# dictionary to float\n",
    "print(float(s1),type(float(s1)))#TypeError: float() argument must be a string or a real number, not 'dict'\n",
    "\n",
    "'''"
   ]
  },
  {
   "cell_type": "code",
   "execution_count": 30,
   "id": "9a3fa172",
   "metadata": {},
   "outputs": [
    {
     "data": {
      "text/plain": [
       "{'name': 'teja', 'batch': '22', 'subject': 'python'}"
      ]
     },
     "execution_count": 30,
     "metadata": {},
     "output_type": "execute_result"
    }
   ],
   "source": [
    "# To convert a list to a dictionary, it must be a list of key-value tuples.\n",
    "d = [('name', 'teja'), ('batch', '22'), ('subject', 'python')]\n",
    "dict(d)\n"
   ]
  },
  {
   "cell_type": "code",
   "execution_count": 29,
   "id": "5e901ef3",
   "metadata": {},
   "outputs": [
    {
     "name": "stdout",
     "output_type": "stream",
     "text": [
      "True <class 'bool'>\n",
      "1.0 <class 'float'>\n",
      "True <class 'str'>\n",
      "1 1\n"
     ]
    },
    {
     "data": {
      "text/plain": [
       "\"\\n# boolean to list\\nprint(list(b),type(list(b))) #TypeError: 'bool' object is not iterable\\n# boolean to tuple\\nprint(tuple(b),type(tuple(b))) #TypeError: 'bool' object is not iterable\\n# boolean to dictionary \\nprint(dict(b),type(dict(b))) #TypeError: 'bool' object is not iterable\\n# boolean to set\\nprint(set(b),type(set(b))) #TypeError: 'bool' object is not iterable\\n\\n\""
      ]
     },
     "execution_count": 29,
     "metadata": {},
     "output_type": "execute_result"
    }
   ],
   "source": [
    "#Converting from boolean\n",
    "b = True\n",
    "print(b,type(b))\n",
    "# boolean to float\n",
    "print(float(b),type(float(b)))\n",
    "# boolean to string\n",
    "\n",
    "print(str(b),type(str(b)))\n",
    "# boolean to int\n",
    "print(int(b),int(int(b)))\n",
    "'''\n",
    "# boolean to list\n",
    "print(list(b),type(list(b))) #TypeError: 'bool' object is not iterable\n",
    "# boolean to tuple\n",
    "print(tuple(b),type(tuple(b))) #TypeError: 'bool' object is not iterable\n",
    "# boolean to dictionary \n",
    "print(dict(b),type(dict(b))) #TypeError: 'bool' object is not iterable\n",
    "# boolean to set\n",
    "print(set(b),type(set(b))) #TypeError: 'bool' object is not iterable\n",
    "\n",
    "'''"
   ]
  },
  {
   "cell_type": "code",
   "execution_count": null,
   "id": "1c3b8487",
   "metadata": {},
   "outputs": [],
   "source": []
  }
 ],
 "metadata": {
  "kernelspec": {
   "display_name": "myenv",
   "language": "python",
   "name": "python3"
  },
  "language_info": {
   "codemirror_mode": {
    "name": "ipython",
    "version": 3
   },
   "file_extension": ".py",
   "mimetype": "text/x-python",
   "name": "python",
   "nbconvert_exporter": "python",
   "pygments_lexer": "ipython3",
   "version": "3.13.5"
  }
 },
 "nbformat": 4,
 "nbformat_minor": 5
}
