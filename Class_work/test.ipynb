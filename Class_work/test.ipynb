{
 "cells": [
  {
   "cell_type": "code",
   "execution_count": 1,
   "id": "9c30c418",
   "metadata": {},
   "outputs": [
    {
     "name": "stdout",
     "output_type": "stream",
     "text": [
      "<class 'set'>\n"
     ]
    }
   ],
   "source": [
    "s = {1,2,3,4}\n",
    "print(type(s))\n"
   ]
  },
  {
   "cell_type": "code",
   "execution_count": 2,
   "id": "fadc6fe4",
   "metadata": {},
   "outputs": [
    {
     "name": "stdout",
     "output_type": "stream",
     "text": [
      "-2\n"
     ]
    }
   ],
   "source": [
    "p = ~1\n",
    "print(p)"
   ]
  },
  {
   "cell_type": "code",
   "execution_count": 5,
   "id": "b7f0120f",
   "metadata": {},
   "outputs": [],
   "source": [
    "s = 'gopi'\n",
    "if('5' == 4):\n",
    "    print(3)"
   ]
  },
  {
   "cell_type": "code",
   "execution_count": null,
   "id": "782fc033",
   "metadata": {},
   "outputs": [],
   "source": [
    "class Tuple:\n",
    "    def len()\n",
    "    def min()\n",
    "    def max()\n",
    "    def sum()\n",
    "    def count()\n",
    "\n",
    "class List:\n",
    "    def append()\n",
    "    def pop()\n",
    "    def clear()\n",
    "    def insert()\n",
    "    def sort()\n",
    "    def copy()\n",
    "    "
   ]
  },
  {
   "cell_type": "code",
   "execution_count": 1,
   "id": "927f2398",
   "metadata": {},
   "outputs": [
    {
     "name": "stdout",
     "output_type": "stream",
     "text": [
      "ok\n"
     ]
    }
   ],
   "source": [
    "n=3\n",
    "if 2<=n<=5:\n",
    "    print('ok')"
   ]
  },
  {
   "cell_type": "code",
   "execution_count": 3,
   "id": "57993b0f",
   "metadata": {},
   "outputs": [
    {
     "name": "stdout",
     "output_type": "stream",
     "text": [
      "[[1, 2, 3], [4, 5, 6], [7, 8, 9]]\n",
      "2\n"
     ]
    }
   ],
   "source": [
    "n = int(input().strip())\n",
    "\n",
    "arr = []\n",
    "\n",
    "for _ in range(n):\n",
    "    arr.append(list(map(int, input().rstrip().split())))\n",
    "\n",
    "print(arr)\n",
    "print(arr[0][1])\n"
   ]
  },
  {
   "cell_type": "code",
   "execution_count": null,
   "id": "28dd67e5",
   "metadata": {},
   "outputs": [
    {
     "name": "stdout",
     "output_type": "stream",
     "text": [
      "1 2 3\n",
      "4 5 6\n",
      "7 8 9\n",
      "1\n",
      "3\n",
      "6\n",
      "8\n",
      "15\n",
      "15\n",
      "15\n"
     ]
    },
    {
     "ename": "NameError",
     "evalue": "name 'mod' is not defined",
     "output_type": "error",
     "traceback": [
      "\u001b[31m---------------------------------------------------------------------------\u001b[39m",
      "\u001b[31mNameError\u001b[39m                                 Traceback (most recent call last)",
      "\u001b[36mCell\u001b[39m\u001b[36m \u001b[39m\u001b[32mIn[5]\u001b[39m\u001b[32m, line 17\u001b[39m\n\u001b[32m     15\u001b[39m d_d = p_d - s_d\n\u001b[32m     16\u001b[39m \u001b[38;5;28mprint\u001b[39m(p_d)\n\u001b[32m---> \u001b[39m\u001b[32m17\u001b[39m d_d = \u001b[43mmod\u001b[49m(s_d - p_d)\n",
      "\u001b[31mNameError\u001b[39m: name 'mod' is not defined"
     ]
    }
   ],
   "source": [
    "arr = [[1, 2, 3], [4, 5, 6], [7, 8, 9]]\n",
    "n = 3\n",
    "print(arr[0][0],arr[0][1],arr[0][2])\n",
    "print(arr[1][0],arr[1][1],arr[1][2])\n",
    "print(arr[2][0],arr[2][1],arr[2][2])\n",
    "p_d = 0\n",
    "s_d = 0 \n",
    "d_d = 0\n",
    "for i in range(n):\n",
    "    p_d += arr[i][i]\n",
    "    s_d += arr[i][n-1-i]\n",
    "        \n",
    "    print(p_d)\n",
    "    print(s_d)\n",
    "d_d = p_d - s_d\n",
    "print(p_d)"
   ]
  },
  {
   "cell_type": "code",
   "execution_count": 14,
   "id": "8a2508be",
   "metadata": {},
   "outputs": [
    {
     "name": "stdout",
     "output_type": "stream",
     "text": [
      "0 0\n",
      "0 1\n",
      "1 1\n",
      "0 2\n",
      "1 2\n",
      "2 2\n"
     ]
    }
   ],
   "source": [
    "for i in range(0,n):\n",
    "    for j in range(0,i+1):\n",
    "        print(j,i)"
   ]
  },
  {
   "cell_type": "code",
   "execution_count": 19,
   "id": "fabbadcb",
   "metadata": {},
   "outputs": [
    {
     "name": "stdout",
     "output_type": "stream",
     "text": [
      "4\n",
      "4\n",
      "3\n",
      "1\n",
      "2\n"
     ]
    }
   ],
   "source": [
    "candles_count = int(input().strip())\n",
    "candles = list(map(int, input().rstrip().split()))\n",
    "candles.sort(reverse=True)\n",
    "c = 0\n",
    "for i in candles:\n",
    "    print(i)    \n",
    "    if candles[0] == i:\n",
    "        c += 1\n",
    "print(c)\n",
    "\n"
   ]
  },
  {
   "cell_type": "code",
   "execution_count": 46,
   "id": "9bdccc99",
   "metadata": {},
   "outputs": [
    {
     "name": "stdout",
     "output_type": "stream",
     "text": [
      "07\n"
     ]
    }
   ],
   "source": [
    "s = '07:45:00PM'\n",
    "print(s[:2])"
   ]
  },
  {
   "cell_type": "code",
   "execution_count": 43,
   "id": "8db83daa",
   "metadata": {},
   "outputs": [
    {
     "name": "stdout",
     "output_type": "stream",
     "text": [
      "7\n",
      "07\n",
      "['07', '45', '00']\n"
     ]
    }
   ],
   "source": [
    "r = int(lis[0])\n",
    "print(r)\n",
    "print(lis[0])\n",
    "\n",
    "print(str(lis))"
   ]
  },
  {
   "cell_type": "code",
   "execution_count": null,
   "id": "3752c9af",
   "metadata": {},
   "outputs": [
    {
     "name": "stdout",
     "output_type": "stream",
     "text": [
      "{'h': 1, 'e': 1, 'l': 3, 'o': 2, ' ': 1, 'w': 1, 'r': 1, 'd': 1}\n"
     ]
    }
   ],
   "source": [
    "s = 'hello world'\n",
    "d = dict()\n",
    "\n",
    "for i in s:\n",
    "    d[i] = s.count(i)\n",
    "\n",
    "print(d)"
   ]
  },
  {
   "cell_type": "code",
   "execution_count": 11,
   "id": "96f950ca",
   "metadata": {},
   "outputs": [
    {
     "name": "stdout",
     "output_type": "stream",
     "text": [
      "h*ll* w*rld\n"
     ]
    }
   ],
   "source": [
    "s = 'hello world' \n",
    "v =['a','e','i','o','u']\n",
    "for i in s:\n",
    "    if i in v:\n",
    "        s=s.replace(i,\"*\")\n",
    "        \n",
    "print(s)"
   ]
  },
  {
   "cell_type": "code",
   "execution_count": 14,
   "id": "b593011c",
   "metadata": {},
   "outputs": [
    {
     "name": "stdout",
     "output_type": "stream",
     "text": [
      "30\n",
      "20\n"
     ]
    }
   ],
   "source": [
    "n = list(map(int, input().split()))\n",
    "print(sum(n))\n",
    "print(max(n))\n"
   ]
  },
  {
   "cell_type": "code",
   "execution_count": null,
   "id": "309b8b9b",
   "metadata": {},
   "outputs": [],
   "source": []
  }
 ],
 "metadata": {
  "kernelspec": {
   "display_name": "myenv",
   "language": "python",
   "name": "python3"
  },
  "language_info": {
   "codemirror_mode": {
    "name": "ipython",
    "version": 3
   },
   "file_extension": ".py",
   "mimetype": "text/x-python",
   "name": "python",
   "nbconvert_exporter": "python",
   "pygments_lexer": "ipython3",
   "version": "3.13.5"
  }
 },
 "nbformat": 4,
 "nbformat_minor": 5
}
