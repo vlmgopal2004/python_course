{
 "cells": [
  {
   "cell_type": "markdown",
   "id": "d0a54a64",
   "metadata": {},
   "source": [
    "#Control Statements\n"
   ]
  },
  {
   "cell_type": "code",
   "execution_count": 9,
   "id": "0fe37dcf",
   "metadata": {},
   "outputs": [
    {
     "name": "stdout",
     "output_type": "stream",
     "text": [
      "Name = 1\n",
      "Name = 2\n",
      "Name = 3\n",
      "Name = 4\n"
     ]
    }
   ],
   "source": [
    "names = {'mani','kalyan','ramya','kumar','arun'}\n",
    "for ch in name:\n",
    "    print(f\"Name = {ch}\")"
   ]
  },
  {
   "cell_type": "markdown",
   "id": "54a471db",
   "metadata": {},
   "source": []
  },
  {
   "cell_type": "code",
   "execution_count": 8,
   "id": "1cd3c316",
   "metadata": {},
   "outputs": [
    {
     "name": "stdout",
     "output_type": "stream",
     "text": [
      "1-mani\n",
      "2-kalyan\n",
      "3-ramya\n",
      "4-arun\n"
     ]
    }
   ],
   "source": [
    "name = {1:'mani',2:'kalyan',3:'ramya',4:'arun'}\n",
    "for i in name.keys():\n",
    "    print(f'{i}-{name[i]}')"
   ]
  },
  {
   "cell_type": "code",
   "execution_count": 10,
   "id": "7fd77c2c",
   "metadata": {},
   "outputs": [
    {
     "name": "stdout",
     "output_type": "stream",
     "text": [
      "1-Mani\n",
      "2-Kalyan\n",
      "3-Ramya\n",
      "4-Arun\n"
     ]
    }
   ],
   "source": [
    "name = {1:'mani',2:'kalyan',3:'ramya',4:'arun'}\n",
    "for i in name.keys():\n",
    "    print(f'{i}-{name[i].capitalize()}')"
   ]
  },
  {
   "cell_type": "code",
   "execution_count": 16,
   "id": "19e0e713",
   "metadata": {},
   "outputs": [
    {
     "name": "stdout",
     "output_type": "stream",
     "text": [
      "{1: 1}\n",
      "{2: 4}\n",
      "{3: 9}\n",
      "{4: 16}\n",
      "{5: 25}\n",
      "{6: 36}\n",
      "{7: 49}\n",
      "{8: 64}\n",
      "{9: 81}\n",
      "{10: 100}\n"
     ]
    }
   ],
   "source": [
    "d = {}\n",
    "inp = int(input())\n",
    "s=0\n",
    "for i in range(1,inp+1):\n",
    "    s = i**2 \n",
    "    d ={i:s}\n",
    "    print(d)\n"
   ]
  },
  {
   "cell_type": "code",
   "execution_count": 17,
   "id": "2362ddc7",
   "metadata": {},
   "outputs": [
    {
     "name": "stdout",
     "output_type": "stream",
     "text": [
      "0\n",
      "1\n",
      "2\n",
      "3\n",
      "4\n",
      "5\n",
      "6\n",
      "7\n",
      "8\n",
      "9\n"
     ]
    }
   ],
   "source": [
    "for i in range(0,10):\n",
    "    print(i)"
   ]
  },
  {
   "cell_type": "code",
   "execution_count": 18,
   "id": "2228e90f",
   "metadata": {},
   "outputs": [
    {
     "name": "stdout",
     "output_type": "stream",
     "text": [
      "2\n",
      "4\n",
      "6\n",
      "8\n",
      "10\n",
      "12\n",
      "14\n",
      "16\n",
      "18\n",
      "20\n"
     ]
    }
   ],
   "source": [
    "for i in range(2,21,2):\n",
    "    print(i)"
   ]
  },
  {
   "cell_type": "code",
   "execution_count": 19,
   "id": "2a4b2e30",
   "metadata": {},
   "outputs": [
    {
     "name": "stdout",
     "output_type": "stream",
     "text": [
      "20\n",
      "19\n",
      "18\n",
      "17\n",
      "16\n",
      "15\n",
      "14\n",
      "13\n",
      "12\n",
      "11\n",
      "10\n",
      "9\n",
      "8\n",
      "7\n",
      "6\n",
      "5\n",
      "4\n",
      "3\n",
      "2\n"
     ]
    }
   ],
   "source": [
    "for i in range(20,1,-1):\n",
    "    print(i)\n",
    "    "
   ]
  },
  {
   "cell_type": "code",
   "execution_count": 1,
   "id": "5d551aec",
   "metadata": {},
   "outputs": [
    {
     "name": "stdout",
     "output_type": "stream",
     "text": [
      "2 * 1 = 2\n",
      "2 * 2 = 4\n",
      "2 * 3 = 6\n",
      "2 * 4 = 8\n",
      "2 * 5 = 10\n",
      "2 * 6 = 12\n",
      "2 * 7 = 14\n",
      "2 * 8 = 16\n",
      "2 * 9 = 18\n",
      "2 * 10 = 20\n",
      "2 * 11 = 22\n",
      "2 * 12 = 24\n",
      "2 * 13 = 26\n",
      "2 * 14 = 28\n",
      "2 * 15 = 30\n",
      "2 * 16 = 32\n",
      "2 * 17 = 34\n",
      "2 * 18 = 36\n",
      "2 * 19 = 38\n",
      "2 * 20 = 40\n"
     ]
    }
   ],
   "source": [
    "for i in range(1,21):\n",
    "    print(f'2 * {i} = {2*i}')"
   ]
  },
  {
   "cell_type": "code",
   "execution_count": 21,
   "id": "ef2d06c6",
   "metadata": {},
   "outputs": [
    {
     "name": "stdout",
     "output_type": "stream",
     "text": [
      "17 * 1 = 17\n",
      "17 * 2 = 34\n",
      "17 * 3 = 51\n",
      "17 * 4 = 68\n",
      "17 * 5 = 85\n",
      "17 * 6 = 102\n",
      "17 * 7 = 119\n",
      "17 * 8 = 136\n",
      "17 * 9 = 153\n",
      "17 * 10 = 170\n",
      "17 * 11 = 187\n",
      "17 * 12 = 204\n",
      "17 * 13 = 221\n",
      "17 * 14 = 238\n",
      "17 * 15 = 255\n",
      "17 * 16 = 272\n",
      "17 * 17 = 289\n",
      "17 * 18 = 306\n",
      "17 * 19 = 323\n",
      "17 * 20 = 340\n"
     ]
    }
   ],
   "source": [
    "for i in range(1,21):\n",
    "    print(f'17 * {i} = {17*i}')"
   ]
  },
  {
   "cell_type": "code",
   "execution_count": 22,
   "id": "80a6660b",
   "metadata": {},
   "outputs": [
    {
     "name": "stdout",
     "output_type": "stream",
     "text": [
      "1\n",
      "2\n",
      "3\n",
      "4\n",
      "5\n",
      "6\n",
      "7\n",
      "8\n",
      "9\n",
      "10\n"
     ]
    }
   ],
   "source": [
    "a=1\n",
    "while(a<=10):\n",
    "    print(a)\n",
    "    a += 1"
   ]
  },
  {
   "cell_type": "code",
   "execution_count": 28,
   "id": "702e1f73",
   "metadata": {},
   "outputs": [
    {
     "name": "stdout",
     "output_type": "stream",
     "text": [
      "Invalid email or pwd. Try again\n",
      "Login Successful\n"
     ]
    }
   ],
   "source": [
    "email,pwd = 'mani@gmail.com','mani@'\n",
    "max_attempt = 5\n",
    "cur_attempt = 0\n",
    "while cur_attempt <= max_attempt-1:\n",
    "    e = input(\"enter the email: \")\n",
    "    p = input(\"enter the pwd: \")\n",
    "    if e == email and p == pwd:\n",
    "        print(\"Login Successful\")\n",
    "        break\n",
    "    else:\n",
    "        print(\"Invalid email or pwd. Try again\")\n",
    "    cur_attempt += 1   \n",
    "else:\n",
    "        print(\"You reach maxumim attempts...!\")\n"
   ]
  },
  {
   "cell_type": "code",
   "execution_count": 2,
   "id": "4fa04713",
   "metadata": {},
   "outputs": [
    {
     "name": "stdout",
     "output_type": "stream",
     "text": [
      "2\n",
      "4\n",
      "6\n",
      "8\n",
      "10\n",
      "12\n",
      "14\n",
      "16\n",
      "18\n"
     ]
    }
   ],
   "source": [
    "for i in range (2,20,2):\n",
    "    print(i)"
   ]
  },
  {
   "cell_type": "code",
   "execution_count": 3,
   "id": "41313bbd",
   "metadata": {},
   "outputs": [
    {
     "name": "stdout",
     "output_type": "stream",
     "text": [
      "2\n",
      "4\n",
      "6\n",
      "8\n",
      "10\n"
     ]
    }
   ],
   "source": [
    "for i in range (1,11):\n",
    "    if i%2 == 0:\n",
    "        print(i)"
   ]
  },
  {
   "cell_type": "code",
   "execution_count": 5,
   "id": "fda769ef",
   "metadata": {},
   "outputs": [
    {
     "name": "stdout",
     "output_type": "stream",
     "text": [
      "1:1\n",
      "3:2\n",
      "6:3\n",
      "10:4\n",
      "15:5\n",
      "21:6\n",
      "28:7\n",
      "36:8\n",
      "45:9\n",
      "55:10\n",
      "Sum of integer: 55\n"
     ]
    }
   ],
   "source": [
    "sum = 0\n",
    "for i in range(1,11):\n",
    "    sum += i\n",
    "    print(f\"{sum}:{i}\")\n",
    "print(f\"Sum of integer: {sum}\")"
   ]
  },
  {
   "cell_type": "code",
   "execution_count": 6,
   "id": "650245ff",
   "metadata": {},
   "outputs": [
    {
     "name": "stdout",
     "output_type": "stream",
     "text": [
      "1\n",
      "3\n",
      "5\n",
      "7\n",
      "9\n"
     ]
    }
   ],
   "source": [
    "for i in range(1,10,2):\n",
    "    print(i)"
   ]
  },
  {
   "cell_type": "code",
   "execution_count": 8,
   "id": "d488a2a6",
   "metadata": {},
   "outputs": [
    {
     "name": "stdout",
     "output_type": "stream",
     "text": [
      "1 1\n",
      "2 2\n",
      "3 6\n",
      "4 24\n",
      "5 120\n",
      "6 720\n",
      "factoral of a number 6 is 720\n"
     ]
    }
   ],
   "source": [
    "n = int(input(\"Enter a number: \"))\n",
    "fact = 1\n",
    "for i in range(1,n+1):\n",
    "    fact = i * fact\n",
    "    print(i, fact)\n",
    "print(f\"factoral of a number {n} is {fact}\")"
   ]
  },
  {
   "cell_type": "code",
   "execution_count": 1,
   "id": "7ea4a7bd",
   "metadata": {},
   "outputs": [
    {
     "name": "stdout",
     "output_type": "stream",
     "text": [
      "1\n",
      "2\n",
      "3\n",
      "4\n",
      "5\n",
      "6\n",
      "7\n",
      "8\n",
      "9\n",
      "10\n",
      "11\n"
     ]
    }
   ],
   "source": [
    "n = int(input(\"Enter a number: \"))\n",
    "for i in range (1, n):\n",
    "    if i==12:\n",
    "        break\n",
    "    print(i)\n",
    "else:\n",
    "    print(\"ENd of number\")"
   ]
  },
  {
   "cell_type": "code",
   "execution_count": 2,
   "id": "dd6059cf",
   "metadata": {},
   "outputs": [
    {
     "name": "stdout",
     "output_type": "stream",
     "text": [
      "1\n",
      "2\n",
      "3\n",
      "4\n",
      "5\n",
      "6\n"
     ]
    }
   ],
   "source": [
    "for i in range(1,11):\n",
    "    if i == 7:\n",
    "        break\n",
    "    print(i)"
   ]
  },
  {
   "cell_type": "code",
   "execution_count": 3,
   "id": "1867dd55",
   "metadata": {},
   "outputs": [
    {
     "name": "stdout",
     "output_type": "stream",
     "text": [
      "1\n",
      "3\n",
      "5\n",
      "7\n",
      "9\n",
      "11\n",
      "13\n",
      "15\n"
     ]
    }
   ],
   "source": [
    "for i in range(1,20,2):\n",
    "    if i == 17:\n",
    "        break\n",
    "    print(i)"
   ]
  },
  {
   "cell_type": "code",
   "execution_count": 4,
   "id": "b7d9548a",
   "metadata": {},
   "outputs": [
    {
     "name": "stdout",
     "output_type": "stream",
     "text": [
      "1\n",
      "3\n",
      "5\n",
      "7\n",
      "9\n",
      "11\n",
      "13\n",
      "15\n",
      "19\n"
     ]
    }
   ],
   "source": [
    "for i in range(1,20,2):\n",
    "    if i == 17:\n",
    "        continue\n",
    "    print(i)\n",
    "    "
   ]
  },
  {
   "cell_type": "code",
   "execution_count": 20,
   "id": "bb13ac5a",
   "metadata": {},
   "outputs": [
    {
     "name": "stdout",
     "output_type": "stream",
     "text": [
      "_____smartphone_____\n"
     ]
    }
   ],
   "source": [
    "l = ['smartphone','laptop','airpods','shoes']\n",
    "for i in l:\n",
    "    if i=='laptop':\n",
    "        break\n",
    "    print(i.center(20,'_'))\n",
    "else:\n",
    "    print('End of the items')"
   ]
  },
  {
   "cell_type": "code",
   "execution_count": 22,
   "id": "abaa3ce3",
   "metadata": {},
   "outputs": [
    {
     "name": "stdout",
     "output_type": "stream",
     "text": [
      "10 are left-You can shoot()\n",
      "9 are left-You can shoot()\n",
      "8 are left-You can shoot()\n",
      "7 are left-You can shoot()\n",
      "6 are left-You can shoot()\n",
      "Dead\n"
     ]
    }
   ],
   "source": [
    "bullets = 10 \n",
    "while bullets>0:\n",
    "    if bullets==5:\n",
    "        print(\"Dead\")\n",
    "        break\n",
    "    print(f\"{bullets} are left-You can shoot()\")\n",
    "    bullets-=1\n",
    "else:\n",
    "    print(\"Game over\")"
   ]
  },
  {
   "cell_type": "code",
   "execution_count": null,
   "id": "2a104a5f",
   "metadata": {},
   "outputs": [],
   "source": [
    "fact = 0\n",
    "n - int(input(\"Enter the num: \"))\n",
    "for i in range(2,(n//2)+1):\n",
    "    if n%i==0:\n",
    "        fact+=1\n",
    "if fact == 0:\n",
    "    print(f\"{n} is prime number|Factord count={fact}\")\n",
    "else:\n",
    "    print(f\"{n} is not prime number|Factord count={fact}\")"
   ]
  },
  {
   "cell_type": "code",
   "execution_count": null,
   "id": "13e495e2",
   "metadata": {},
   "outputs": [],
   "source": [
    "'''n = int(input())\n",
    "fact = 0\n",
    "for i in range(1,int(n**0.5)+1):\n",
    "    if n%i == 0:\n",
    "        fact += 1\n",
    "    if fact == 0:\n",
    "        print(i)'''"
   ]
  },
  {
   "cell_type": "code",
   "execution_count": null,
   "id": "3e750cd4",
   "metadata": {},
   "outputs": [],
   "source": [
    "d = {'apple':30,'banana':20,'watermelon':90,'papaya':45,'dragron Fruit':100,'grapes':35}"
   ]
  },
  {
   "cell_type": "code",
   "execution_count": null,
   "id": "54e36f46",
   "metadata": {},
   "outputs": [],
   "source": []
  }
 ],
 "metadata": {
  "kernelspec": {
   "display_name": "myenv",
   "language": "python",
   "name": "python3"
  },
  "language_info": {
   "codemirror_mode": {
    "name": "ipython",
    "version": 3
   },
   "file_extension": ".py",
   "mimetype": "text/x-python",
   "name": "python",
   "nbconvert_exporter": "python",
   "pygments_lexer": "ipython3",
   "version": "3.13.5"
  }
 },
 "nbformat": 4,
 "nbformat_minor": 5
}
