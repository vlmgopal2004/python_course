{
 "cells": [
  {
   "cell_type": "markdown",
   "id": "d0a54a64",
   "metadata": {},
   "source": [
    "#Control Statements\n"
   ]
  },
  {
   "cell_type": "code",
   "execution_count": 9,
   "id": "0fe37dcf",
   "metadata": {},
   "outputs": [
    {
     "name": "stdout",
     "output_type": "stream",
     "text": [
      "Name = 1\n",
      "Name = 2\n",
      "Name = 3\n",
      "Name = 4\n"
     ]
    }
   ],
   "source": [
    "names = {'mani','kalyan','ramya','kumar','arun'}\n",
    "for ch in name:\n",
    "    print(f\"Name = {ch}\")"
   ]
  },
  {
   "cell_type": "markdown",
   "id": "54a471db",
   "metadata": {},
   "source": []
  },
  {
   "cell_type": "code",
   "execution_count": 8,
   "id": "1cd3c316",
   "metadata": {},
   "outputs": [
    {
     "name": "stdout",
     "output_type": "stream",
     "text": [
      "1-mani\n",
      "2-kalyan\n",
      "3-ramya\n",
      "4-arun\n"
     ]
    }
   ],
   "source": [
    "name = {1:'mani',2:'kalyan',3:'ramya',4:'arun'}\n",
    "for i in name.keys():\n",
    "    print(f'{i}-{name[i]}')"
   ]
  },
  {
   "cell_type": "code",
   "execution_count": 10,
   "id": "7fd77c2c",
   "metadata": {},
   "outputs": [
    {
     "name": "stdout",
     "output_type": "stream",
     "text": [
      "1-Mani\n",
      "2-Kalyan\n",
      "3-Ramya\n",
      "4-Arun\n"
     ]
    }
   ],
   "source": [
    "name = {1:'mani',2:'kalyan',3:'ramya',4:'arun'}\n",
    "for i in name.keys():\n",
    "    print(f'{i}-{name[i].capitalize()}')"
   ]
  },
  {
   "cell_type": "code",
   "execution_count": 16,
   "id": "19e0e713",
   "metadata": {},
   "outputs": [
    {
     "name": "stdout",
     "output_type": "stream",
     "text": [
      "{1: 1}\n",
      "{2: 4}\n",
      "{3: 9}\n",
      "{4: 16}\n",
      "{5: 25}\n",
      "{6: 36}\n",
      "{7: 49}\n",
      "{8: 64}\n",
      "{9: 81}\n",
      "{10: 100}\n"
     ]
    }
   ],
   "source": [
    "d = {}\n",
    "inp = int(input())\n",
    "s=0\n",
    "for i in range(1,inp+1):\n",
    "    s = i**2 \n",
    "    d ={i:s}\n",
    "    print(d)\n"
   ]
  },
  {
   "cell_type": "code",
   "execution_count": 17,
   "id": "2362ddc7",
   "metadata": {},
   "outputs": [
    {
     "name": "stdout",
     "output_type": "stream",
     "text": [
      "0\n",
      "1\n",
      "2\n",
      "3\n",
      "4\n",
      "5\n",
      "6\n",
      "7\n",
      "8\n",
      "9\n"
     ]
    }
   ],
   "source": [
    "for i in range(0,10):\n",
    "    print(i)"
   ]
  },
  {
   "cell_type": "code",
   "execution_count": 18,
   "id": "2228e90f",
   "metadata": {},
   "outputs": [
    {
     "name": "stdout",
     "output_type": "stream",
     "text": [
      "2\n",
      "4\n",
      "6\n",
      "8\n",
      "10\n",
      "12\n",
      "14\n",
      "16\n",
      "18\n",
      "20\n"
     ]
    }
   ],
   "source": [
    "for i in range(2,21,2):\n",
    "    print(i)"
   ]
  },
  {
   "cell_type": "code",
   "execution_count": 19,
   "id": "2a4b2e30",
   "metadata": {},
   "outputs": [
    {
     "name": "stdout",
     "output_type": "stream",
     "text": [
      "20\n",
      "19\n",
      "18\n",
      "17\n",
      "16\n",
      "15\n",
      "14\n",
      "13\n",
      "12\n",
      "11\n",
      "10\n",
      "9\n",
      "8\n",
      "7\n",
      "6\n",
      "5\n",
      "4\n",
      "3\n",
      "2\n"
     ]
    }
   ],
   "source": [
    "for i in range(20,1,-1):\n",
    "    print(i)\n",
    "    "
   ]
  },
  {
   "cell_type": "code",
   "execution_count": 1,
   "id": "5d551aec",
   "metadata": {},
   "outputs": [
    {
     "name": "stdout",
     "output_type": "stream",
     "text": [
      "2 * 1 = 2\n",
      "2 * 2 = 4\n",
      "2 * 3 = 6\n",
      "2 * 4 = 8\n",
      "2 * 5 = 10\n",
      "2 * 6 = 12\n",
      "2 * 7 = 14\n",
      "2 * 8 = 16\n",
      "2 * 9 = 18\n",
      "2 * 10 = 20\n",
      "2 * 11 = 22\n",
      "2 * 12 = 24\n",
      "2 * 13 = 26\n",
      "2 * 14 = 28\n",
      "2 * 15 = 30\n",
      "2 * 16 = 32\n",
      "2 * 17 = 34\n",
      "2 * 18 = 36\n",
      "2 * 19 = 38\n",
      "2 * 20 = 40\n"
     ]
    }
   ],
   "source": [
    "for i in range(1,21):\n",
    "    print(f'2 * {i} = {2*i}')"
   ]
  },
  {
   "cell_type": "code",
   "execution_count": 21,
   "id": "ef2d06c6",
   "metadata": {},
   "outputs": [
    {
     "name": "stdout",
     "output_type": "stream",
     "text": [
      "17 * 1 = 17\n",
      "17 * 2 = 34\n",
      "17 * 3 = 51\n",
      "17 * 4 = 68\n",
      "17 * 5 = 85\n",
      "17 * 6 = 102\n",
      "17 * 7 = 119\n",
      "17 * 8 = 136\n",
      "17 * 9 = 153\n",
      "17 * 10 = 170\n",
      "17 * 11 = 187\n",
      "17 * 12 = 204\n",
      "17 * 13 = 221\n",
      "17 * 14 = 238\n",
      "17 * 15 = 255\n",
      "17 * 16 = 272\n",
      "17 * 17 = 289\n",
      "17 * 18 = 306\n",
      "17 * 19 = 323\n",
      "17 * 20 = 340\n"
     ]
    }
   ],
   "source": [
    "for i in range(1,21):\n",
    "    print(f'17 * {i} = {17*i}')"
   ]
  },
  {
   "cell_type": "code",
   "execution_count": 22,
   "id": "80a6660b",
   "metadata": {},
   "outputs": [
    {
     "name": "stdout",
     "output_type": "stream",
     "text": [
      "1\n",
      "2\n",
      "3\n",
      "4\n",
      "5\n",
      "6\n",
      "7\n",
      "8\n",
      "9\n",
      "10\n"
     ]
    }
   ],
   "source": [
    "a=1\n",
    "while(a<=10):\n",
    "    print(a)\n",
    "    a += 1"
   ]
  },
  {
   "cell_type": "code",
   "execution_count": 28,
   "id": "702e1f73",
   "metadata": {},
   "outputs": [
    {
     "name": "stdout",
     "output_type": "stream",
     "text": [
      "Invalid email or pwd. Try again\n",
      "Login Successful\n"
     ]
    }
   ],
   "source": [
    "email,pwd = 'mani@gmail.com','mani@'\n",
    "max_attempt = 5\n",
    "cur_attempt = 0\n",
    "while cur_attempt <= max_attempt-1:\n",
    "    e = input(\"enter the email: \")\n",
    "    p = input(\"enter the pwd: \")\n",
    "    if e == email and p == pwd:\n",
    "        print(\"Login Successful\")\n",
    "        break\n",
    "    else:\n",
    "        print(\"Invalid email or pwd. Try again\")\n",
    "    cur_attempt += 1   \n",
    "else:\n",
    "        print(\"You reach maxumim attempts...!\")\n"
   ]
  },
  {
   "cell_type": "code",
   "execution_count": 2,
   "id": "4fa04713",
   "metadata": {},
   "outputs": [
    {
     "name": "stdout",
     "output_type": "stream",
     "text": [
      "2\n",
      "4\n",
      "6\n",
      "8\n",
      "10\n",
      "12\n",
      "14\n",
      "16\n",
      "18\n"
     ]
    }
   ],
   "source": [
    "for i in range (2,20,2):\n",
    "    print(i)"
   ]
  },
  {
   "cell_type": "code",
   "execution_count": 3,
   "id": "41313bbd",
   "metadata": {},
   "outputs": [
    {
     "name": "stdout",
     "output_type": "stream",
     "text": [
      "2\n",
      "4\n",
      "6\n",
      "8\n",
      "10\n"
     ]
    }
   ],
   "source": [
    "for i in range (1,11):\n",
    "    if i%2 == 0:\n",
    "        print(i)"
   ]
  },
  {
   "cell_type": "code",
   "execution_count": 5,
   "id": "fda769ef",
   "metadata": {},
   "outputs": [
    {
     "name": "stdout",
     "output_type": "stream",
     "text": [
      "1:1\n",
      "3:2\n",
      "6:3\n",
      "10:4\n",
      "15:5\n",
      "21:6\n",
      "28:7\n",
      "36:8\n",
      "45:9\n",
      "55:10\n",
      "Sum of integer: 55\n"
     ]
    }
   ],
   "source": [
    "sum = 0\n",
    "for i in range(1,11):\n",
    "    sum += i\n",
    "    print(f\"{sum}:{i}\")\n",
    "print(f\"Sum of integer: {sum}\")"
   ]
  },
  {
   "cell_type": "code",
   "execution_count": 6,
   "id": "650245ff",
   "metadata": {},
   "outputs": [
    {
     "name": "stdout",
     "output_type": "stream",
     "text": [
      "1\n",
      "3\n",
      "5\n",
      "7\n",
      "9\n"
     ]
    }
   ],
   "source": [
    "for i in range(1,10,2):\n",
    "    print(i)"
   ]
  },
  {
   "cell_type": "code",
   "execution_count": 8,
   "id": "d488a2a6",
   "metadata": {},
   "outputs": [
    {
     "name": "stdout",
     "output_type": "stream",
     "text": [
      "1 1\n",
      "2 2\n",
      "3 6\n",
      "4 24\n",
      "5 120\n",
      "6 720\n",
      "factoral of a number 6 is 720\n"
     ]
    }
   ],
   "source": [
    "n = int(input(\"Enter a number: \"))\n",
    "fact = 1\n",
    "for i in range(1,n+1):\n",
    "    fact = i * fact\n",
    "    print(i, fact)\n",
    "print(f\"factoral of a number {n} is {fact}\")"
   ]
  },
  {
   "cell_type": "code",
   "execution_count": 1,
   "id": "7ea4a7bd",
   "metadata": {},
   "outputs": [
    {
     "name": "stdout",
     "output_type": "stream",
     "text": [
      "1\n",
      "2\n",
      "3\n",
      "4\n",
      "5\n",
      "6\n",
      "7\n",
      "8\n",
      "9\n",
      "10\n",
      "11\n"
     ]
    }
   ],
   "source": [
    "n = int(input(\"Enter a number: \"))\n",
    "for i in range (1, n):\n",
    "    if i==12:\n",
    "        break\n",
    "    print(i)\n",
    "else:\n",
    "    print(\"ENd of number\")"
   ]
  },
  {
   "cell_type": "code",
   "execution_count": 2,
   "id": "dd6059cf",
   "metadata": {},
   "outputs": [
    {
     "name": "stdout",
     "output_type": "stream",
     "text": [
      "1\n",
      "2\n",
      "3\n",
      "4\n",
      "5\n",
      "6\n"
     ]
    }
   ],
   "source": [
    "for i in range(1,11):\n",
    "    if i == 7:\n",
    "        break\n",
    "    print(i)"
   ]
  },
  {
   "cell_type": "code",
   "execution_count": 3,
   "id": "1867dd55",
   "metadata": {},
   "outputs": [
    {
     "name": "stdout",
     "output_type": "stream",
     "text": [
      "1\n",
      "3\n",
      "5\n",
      "7\n",
      "9\n",
      "11\n",
      "13\n",
      "15\n"
     ]
    }
   ],
   "source": [
    "for i in range(1,20,2):\n",
    "    if i == 17:\n",
    "        break\n",
    "    print(i)"
   ]
  },
  {
   "cell_type": "code",
   "execution_count": 4,
   "id": "b7d9548a",
   "metadata": {},
   "outputs": [
    {
     "name": "stdout",
     "output_type": "stream",
     "text": [
      "1\n",
      "3\n",
      "5\n",
      "7\n",
      "9\n",
      "11\n",
      "13\n",
      "15\n",
      "19\n"
     ]
    }
   ],
   "source": [
    "for i in range(1,20,2):\n",
    "    if i == 17:\n",
    "        continue\n",
    "    print(i)\n",
    "    "
   ]
  },
  {
   "cell_type": "code",
   "execution_count": 20,
   "id": "bb13ac5a",
   "metadata": {},
   "outputs": [
    {
     "name": "stdout",
     "output_type": "stream",
     "text": [
      "_____smartphone_____\n"
     ]
    }
   ],
   "source": [
    "l = ['smartphone','laptop','airpods','shoes']\n",
    "for i in l:\n",
    "    if i=='laptop':\n",
    "        break\n",
    "    print(i.center(20,'_'))\n",
    "else:\n",
    "    print('End of the items')"
   ]
  },
  {
   "cell_type": "code",
   "execution_count": 22,
   "id": "abaa3ce3",
   "metadata": {},
   "outputs": [
    {
     "name": "stdout",
     "output_type": "stream",
     "text": [
      "10 are left-You can shoot()\n",
      "9 are left-You can shoot()\n",
      "8 are left-You can shoot()\n",
      "7 are left-You can shoot()\n",
      "6 are left-You can shoot()\n",
      "Dead\n"
     ]
    }
   ],
   "source": [
    "bullets = 10 \n",
    "while bullets>0:\n",
    "    if bullets==5:\n",
    "        print(\"Dead\")\n",
    "        break\n",
    "    print(f\"{bullets} are left-You can shoot()\")\n",
    "    bullets-=1\n",
    "else:\n",
    "    print(\"Game over\")"
   ]
  },
  {
   "cell_type": "code",
   "execution_count": null,
   "id": "2a104a5f",
   "metadata": {},
   "outputs": [],
   "source": [
    "fact = 0\n",
    "n - int(input(\"Enter the num: \"))\n",
    "for i in range(2,(n//2)+1):\n",
    "    if n%i==0:\n",
    "        fact+=1\n",
    "if fact == 0:\n",
    "    print(f\"{n} is prime number|Factord count={fact}\")\n",
    "else:\n",
    "    print(f\"{n} is not prime number|Factord count={fact}\")"
   ]
  },
  {
   "cell_type": "code",
   "execution_count": null,
   "id": "13e495e2",
   "metadata": {},
   "outputs": [],
   "source": [
    "'''n = int(input())\n",
    "fact = 0\n",
    "for i in range(1,int(n**0.5)+1):\n",
    "    if n%i == 0:\n",
    "        fact += 1\n",
    "    if fact == 0:\n",
    "        print(i)'''"
   ]
  },
  {
   "cell_type": "code",
   "execution_count": null,
   "id": "3e750cd4",
   "metadata": {},
   "outputs": [],
   "source": [
    "d = {'apple':30,'banana':20,'watermelon':90,'papaya':45,'dragron Fruit':100,'grapes':35}"
   ]
  },
  {
   "cell_type": "code",
   "execution_count": 11,
   "id": "54e36f46",
   "metadata": {},
   "outputs": [
    {
     "name": "stdout",
     "output_type": "stream",
     "text": [
      "Photo Gallery:\n",
      "1. beach.png\n",
      "2. mountain.jpg\n",
      "3. party1.jpg\n",
      "4. selfie.png\n",
      "5. birthday.png\n",
      "6. concwet.jpg\n",
      "7. sunset.png\n",
      "8. tripl.jpg\n",
      "Sharing the following photos:\n",
      "beach.png\n",
      "mountain.jpg\n",
      "party1.jpg\n",
      "selfie.png\n",
      "birthday.png\n",
      "concwet.jpg\n"
     ]
    }
   ],
   "source": [
    "photo_gallery = {\n",
    "    1 : 'beach.png',\n",
    "    2 : 'mountain.jpg',\n",
    "    3 : 'party1.jpg',\n",
    "    4 : 'selfie.png',\n",
    "    5 : 'birthday.png',\n",
    "    6 : 'concwet.jpg',\n",
    "    7 : 'sunset.png',\n",
    "    8 : 'tripl.jpg'\n",
    "}\n",
    "print(f'Photo Gallery:')\n",
    "for n in photo_gallery:\n",
    "    print(f'{n}. {photo_gallery[n]}')\n",
    "s = set(map(int,input(\"Your Selection: \").split(',')))\n",
    "print(\"Sharing the following photos:\")\n",
    "for i in s:\n",
    "    print(photo_gallery[i])"
   ]
  },
  {
   "cell_type": "code",
   "execution_count": 10,
   "id": "ceec7f94",
   "metadata": {},
   "outputs": [
    {
     "name": "stdout",
     "output_type": "stream",
     "text": [
      "Photo Gallery:\n",
      "1. beach.png\n",
      "2. mountain.jpg\n",
      "3. party1.jpg\n",
      "4. selfie.png\n",
      "5. birthday.png\n",
      "6. concwet.jpg\n",
      "7. sunset.png\n",
      "8. tripl.jpg\n"
     ]
    }
   ],
   "source": [
    "print(f'Photo Gallery:')\n",
    "for n in photo_gallery:\n",
    "    print(f'{n}. {photo_gallery[n]}')"
   ]
  },
  {
   "cell_type": "markdown",
   "id": "530b8cc1",
   "metadata": {},
   "source": [
    "## Gradeing System\n"
   ]
  },
  {
   "cell_type": "code",
   "execution_count": null,
   "id": "cf0dda10",
   "metadata": {},
   "outputs": [
    {
     "name": "stdout",
     "output_type": "stream",
     "text": [
      "Students:\n",
      "Student ID \tName\n",
      "1 \t: \tRamya\n",
      "2 \t: \tArun\n",
      "3 \t: \tKalyan\n",
      "4 \t: \tKalyan\n",
      "90\n"
     ]
    }
   ],
   "source": [
    "data={\n",
    "    1:{'name':'Ramya','exam_status':True,'python':100,'sql':95,'html':98},\n",
    "    2:{'name':'Arun','exam_status':True,'python':90,'sql':69,'html':75},\n",
    "    3:{'name':'Kalyan','exam_status':True,'python':100,'sql':70,'html':100},\n",
    "    4:{'name':'Kalyan','exam_status':True,'python':100,'sql':70,'html':100}\n",
    "}\n",
    "print(\"Students:\")\n",
    "print(\"Student ID \\tName\")\n",
    "for i in data.keys():\n",
    "    print(f\"{i} \\t: \\t{data[i]['name']}\")\n",
    "stu_id = int(input(\"Enter Student id: \"))\n",
    "for stu_id in data:\n",
    "    if data[stu_id]['exam_status'] == True:\n",
    "        total = (data[stu_id]['python']+data[stu_id]['sql']+data[stu_id]['html'])//3\n",
    "        if total\n",
    "\n"
   ]
  },
  {
   "cell_type": "code",
   "execution_count": null,
   "id": "5ac76f40",
   "metadata": {},
   "outputs": [],
   "source": [
    "import random\n",
    "\n",
    "print('1.Rock')\n",
    "print('2.Paper')\n",
    "print('3.Scissors')\n",
    "while True:\n",
    "    ch = int(input(\"Enter your choice: \"))\n",
    "    com = random.randint(1,3)\n",
    "    if ch == 1 and com == 1:\n",
    "        print(\"Tie both choose the rock\")\n",
    "    elif ch==1 and com == 2:\n",
    "        print(\"Computer win\")"
   ]
  },
  {
   "cell_type": "code",
   "execution_count": null,
   "id": "84793f6f",
   "metadata": {},
   "outputs": [
    {
     "name": "stdout",
     "output_type": "stream",
     "text": [
      "------ Welcome to Grocery Store ------\n",
      "Here are the available products:\n",
      "Index \tProducts  \t\tPrice (Rs.)\n",
      "1 \trice    \t\t60\n",
      "2 \tWheat Flour \t\t45\n",
      "3 \tSugar   \t\t40\n",
      "4 \tMilk    \t\t25\n",
      "5 \tEggs (12 pcs) \t\t70\n",
      "6 \tCooking Oil \t\t130\n",
      "7 \tTea Powder \t\t90\n",
      "8 \tsalt    \t\t20\n",
      "9 \tBread   \t\t30\n",
      "10 \tSoap    \t\t25\n",
      "Enter the product indexes you want to buy (you can repeat indexes)\n",
      "Index \tProducts \tCount \t\tPrice (Rs.) \tTotal\n",
      "1 \trice    \t5 \t\t60 \t\t300\n",
      "2 \tWheat Flour \t2 \t\t45 \t\t390\n",
      "3 \tSugar   \t2 \t\t40 \t\t470\n",
      "4 \tMilk    \t2 \t\t25 \t\t520\n",
      "5 \tEggs (12 pcs) \t1 \t\t70 \t\t590\n",
      "6 \tCooking Oil \t1 \t\t130 \t\t720\n",
      "7 \tTea Powder \t1 \t\t90 \t\t810\n"
     ]
    }
   ],
   "source": [
    "g_s ={\n",
    "    1:{'product':'rice',         'price':60},\n",
    "    2:{'product':'Wheat Flour',  'price':45},\n",
    "    3:{'product':'Sugar',        'price':40},\n",
    "    4:{'product':'Milk',         'price':25},\n",
    "    5:{'product':'Eggs (12 pcs)','price':70},\n",
    "    6:{'product':'Cooking Oil',  'price':130},\n",
    "    7:{'product':'Tea Powder',   'price':90},\n",
    "    8:{'product':'salt',         'price':20},\n",
    "    9:{'product':'Bread',        'price':30},\n",
    "    10:{'product':'Soap',        'price':25}\n",
    "}\n",
    "print(\"------ Welcome to Grocery Store ------\")\n",
    "print(\"Here are the available products:\")\n",
    "print(\"Index \\tProducts  \\t\\tPrice (Rs.)\")\n",
    "for i in g_s.keys():\n",
    "    print(f\"{i} \\t{g_s[i]['product'].ljust(7)} \\t\\t{g_s[i]['price']}\")\n",
    "\n",
    "print(\"Enter the product indexes you want to buy (you can repeat indexes)\")\n",
    "items = list(map(int,input(\"Enter index (e.g. 1 2 2 5): \").split()))\n",
    "print(\"Index \\tProducts \\tCount \\t\\tPrice (Rs.) \\tTotal\")\n",
    "t = 0\n",
    "ids = set()\n",
    "c = 0\n",
    "for j in items:\n",
    "    if j not in ids:\n",
    "        c = items.count(j)\n",
    "        t += g_s[j]['price']*c\n",
    "        print(f\"{j} \\t{g_s[j]['product'].ljust(7)} \\t{c} \\t\\t{g_s[j]['price']} \\t\\t{t}\")\n",
    "        ids.add(j)\n",
    "print(\"Total Bill:\",t)"
   ]
  },
  {
   "cell_type": "markdown",
   "id": "23b1f860",
   "metadata": {},
   "source": [
    "# Nested Loops"
   ]
  },
  {
   "cell_type": "code",
   "execution_count": 15,
   "id": "dfc4218b",
   "metadata": {},
   "outputs": [
    {
     "name": "stdout",
     "output_type": "stream",
     "text": [
      "* * * * * \n",
      "\n",
      "* * * * * \n",
      "\n",
      "* * * * * \n",
      "\n",
      "* * * * * \n",
      "\n",
      "* * * * * \n",
      "\n"
     ]
    }
   ],
   "source": [
    "for j in range(5):\n",
    "    for i in range(5):\n",
    "        print('*',end=' ')\n",
    "    print('\\n')"
   ]
  },
  {
   "cell_type": "code",
   "execution_count": null,
   "id": "daed3ea2",
   "metadata": {},
   "outputs": [
    {
     "name": "stdout",
     "output_type": "stream",
     "text": [
      "0 0 0 0 0 \n",
      "\n",
      "1 1 1 1 1 \n",
      "\n",
      "2 2 2 2 2 \n",
      "\n",
      "3 3 3 3 3 \n",
      "\n",
      "4 4 4 4 4 \n",
      "\n"
     ]
    }
   ],
   "source": [
    "for row in range(5):\n",
    "    for col in range(5):\n",
    "        print(row,end=' ')\n",
    "    print('\\n')"
   ]
  },
  {
   "cell_type": "code",
   "execution_count": 22,
   "id": "8f5389c0",
   "metadata": {},
   "outputs": [
    {
     "name": "stdout",
     "output_type": "stream",
     "text": [
      "0 1 2 3 4 \n",
      "\n",
      "0 1 2 3 4 \n",
      "\n",
      "0 1 2 3 4 \n",
      "\n",
      "0 1 2 3 4 \n",
      "\n",
      "0 1 2 3 4 \n",
      "\n"
     ]
    }
   ],
   "source": [
    "for row in range(5):\n",
    "    for col in range(5):\n",
    "        print(col,end=' ')\n",
    "    print('\\n')"
   ]
  },
  {
   "cell_type": "code",
   "execution_count": null,
   "id": "d732a94f",
   "metadata": {},
   "outputs": [],
   "source": []
  }
 ],
 "metadata": {
  "kernelspec": {
   "display_name": "myenv",
   "language": "python",
   "name": "python3"
  },
  "language_info": {
   "codemirror_mode": {
    "name": "ipython",
    "version": 3
   },
   "file_extension": ".py",
   "mimetype": "text/x-python",
   "name": "python",
   "nbconvert_exporter": "python",
   "pygments_lexer": "ipython3",
   "version": "3.13.5"
  }
 },
 "nbformat": 4,
 "nbformat_minor": 5
}
