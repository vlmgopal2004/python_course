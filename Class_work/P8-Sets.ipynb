{
 "cells": [
  {
   "cell_type": "markdown",
   "id": "58b2b140",
   "metadata": {},
   "source": [
    "# Sets"
   ]
  },
  {
   "cell_type": "code",
   "execution_count": 3,
   "id": "02bede4c",
   "metadata": {},
   "outputs": [
    {
     "name": "stdout",
     "output_type": "stream",
     "text": [
      "Set: {1, 2, 3, 4, 5}\n",
      "Set with duplicates: {1, 2, 3, 4, 5}\n"
     ]
    }
   ],
   "source": [
    "#set creation syntax\n",
    "s = set()\n",
    "s = {1, 2, 3, 4, 5}\n",
    "print('Set:',s)\n",
    "# Set with duplicate elements\n",
    "s1 = {1,2,3,4,4,5,1,2,3,5}\n",
    "print('Set with duplicates:', s1)\n"
   ]
  },
  {
   "cell_type": "markdown",
   "id": "3b462c83",
   "metadata": {},
   "source": [
    "#Operations on Sets"
   ]
  },
  {
   "cell_type": "code",
   "execution_count": null,
   "id": "c6a7bd59",
   "metadata": {},
   "outputs": [
    {
     "name": "stdout",
     "output_type": "stream",
     "text": [
      "Set s2: {'ramya', 'swathi', 'mani', 'kalyan', 'sai'}\n",
      "is kalyan in s2? True\n",
      "is kalyan in s? False\n",
      "is mani not in s2? False\n",
      "union of s3 and s4: {1, 2, 3, 4, 5, 6, 7, 8}\n",
      "union of s3 and s4 using union() method: {1, 2, 3, 4, 5, 6, 7, 8}\n",
      "intersection of s3 and s4: {4, 5}\n",
      "intersection of s3 and s4 using intersection() method: {4, 5}\n",
      "difference of s3 and s4: {1, 2, 3}\n",
      "difference of s3 and s4 using difference() method: set()\n"
     ]
    }
   ],
   "source": [
    "#Membership Testing\n",
    "s2 = {'mani', 'sai', 'kalyan', 'ramya', 'swathi'}\n",
    "print('Set s2:', s2)\n",
    "print('is kalyan in s2?', 'kalyan' in s2)\n",
    "print('is kalyan in s?', 'kalyan' in s)\n",
    "print('is mani not in s2?', 'mani' not in s2)\n",
    "#Union (| or union() method)\n",
    "s3 = {1,2,3,4,5}\n",
    "s4 = {4,5,6,7,8}\n",
    "print('union of s3 and s4:', s3 | s4)\n",
    "print('union of s3 and s4 using union() method:', s3.union(s4))\n",
    "#Intersection (& or intersection() method)\n",
    "print('intersection of s3 and s4:', s3 & s4)\n",
    "print('intersection of s3 and s4 using intersection() method:', s3.intersection(s4))\n",
    "#Difference (- or difference() method)\n",
    "print('difference of s3 and s4:', s3 - s4)\n",
    "print('difference of s3 and s4 using difference() method:', s3.difference(s))\n",
    "\n"
   ]
  },
  {
   "cell_type": "code",
   "execution_count": null,
   "id": "6a2fc5dc",
   "metadata": {},
   "outputs": [],
   "source": []
  }
 ],
 "metadata": {
  "kernelspec": {
   "display_name": "myenv",
   "language": "python",
   "name": "python3"
  },
  "language_info": {
   "codemirror_mode": {
    "name": "ipython",
    "version": 3
   },
   "file_extension": ".py",
   "mimetype": "text/x-python",
   "name": "python",
   "nbconvert_exporter": "python",
   "pygments_lexer": "ipython3",
   "version": "3.13.5"
  }
 },
 "nbformat": 4,
 "nbformat_minor": 5
}
