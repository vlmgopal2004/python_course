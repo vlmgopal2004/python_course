{
 "cells": [
  {
   "cell_type": "markdown",
   "id": "55c01247",
   "metadata": {},
   "source": [
    "# Function"
   ]
  },
  {
   "cell_type": "code",
   "execution_count": null,
   "id": "b645b879",
   "metadata": {},
   "outputs": [],
   "source": [
    "'''def function_name(parameters):\n",
    "    #block of code\n",
    "    '''"
   ]
  },
  {
   "cell_type": "code",
   "execution_count": null,
   "id": "519f5949",
   "metadata": {},
   "outputs": [],
   "source": [
    "def add(a,b):\n",
    "    return a+b\n",
    "def sub(a,b):\n",
    "    return a-b\n",
    "def mul(a,b):\n",
    "    return a*b\n",
    "def div(a,b):\n",
    "    return a/b\n",
    "def exp(a,b):\n",
    "    return a**b\n",
    "\n",
    "\n",
    "stmt = input()\n",
    "a = None\n",
    "b = None\n",
    "op = None\n",
    "for i in stmt:\n",
    "    if not i.isdigit():\n",
    "        a,b = stmt.split(i)\n",
    "        op = i\n",
    "a,b = int(a), int(b)\n",
    "print(a,b,op)\n",
    "if op == '+':\n",
    "    print(add(a,b))\n",
    "elif op == '-':\n",
    "    print(sub(a,b))\n",
    "elif op == '/':\n",
    "    print(div(a,b))\n",
    "elif op == '%':\n",
    "    print(mod(a,b))\n",
    "elif op == '*':\n",
    "    print(mod(a, b))\n",
    "elif op == '**':\n",
    "    print(exp(a,b))"
   ]
  }
 ],
 "metadata": {
  "language_info": {
   "name": "python"
  }
 },
 "nbformat": 4,
 "nbformat_minor": 5
}
