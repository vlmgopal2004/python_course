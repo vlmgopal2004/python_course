{
 "cells": [
  {
   "cell_type": "markdown",
   "id": "55c01247",
   "metadata": {},
   "source": [
    "# Function"
   ]
  },
  {
   "cell_type": "code",
   "execution_count": null,
   "id": "b645b879",
   "metadata": {},
   "outputs": [],
   "source": [
    "'''def function_name(parameters):\n",
    "    #block of code\n",
    "    '''"
   ]
  },
  {
   "cell_type": "code",
   "execution_count": null,
   "id": "519f5949",
   "metadata": {},
   "outputs": [],
   "source": [
    "def add(a,b):\n",
    "    return a+b\n",
    "def sub(a,b):\n",
    "    return a-b\n",
    "def mul(a,b):\n",
    "    return a*b\n",
    "def div(a,b):\n",
    "    return a/b\n",
    "def exp(a,b):\n",
    "    return a**b\n",
    "\n",
    "\n",
    "stmt = input()\n",
    "a = None\n",
    "b = None\n",
    "op = None\n",
    "for i in stmt:\n",
    "    if not i.isdigit():\n",
    "        a,b = stmt.split(i)\n",
    "        op = i\n",
    "a,b = int(a), int(b)\n",
    "print(a,b,op)\n",
    "if op == '+':\n",
    "    print(add(a,b))\n",
    "elif op == '-':\n",
    "    print(sub(a,b))\n",
    "elif op == '/':\n",
    "    print(div(a,b))\n",
    "elif op == '%':\n",
    "    print(mod(a,b))\n",
    "elif op == '*':\n",
    "    print(mod(a, b))\n",
    "elif op == '**':\n",
    "    print(exp(a,b))"
   ]
  },
  {
   "cell_type": "code",
   "execution_count": null,
   "id": "4b5cb02d",
   "metadata": {},
   "outputs": [],
   "source": [
    "def update(n):\n",
    "    print(f\"Before- Inside of the function: {n}\")\n",
    "    n=n+10\n",
    "    print(f\"After- Inside of the function: {n}\")\n",
    "n = 10.8\n",
    "update(n)\n",
    "print(f\"outside of the function: {n}\")"
   ]
  },
  {
   "cell_type": "code",
   "execution_count": null,
   "id": "9a199ac2",
   "metadata": {},
   "outputs": [],
   "source": [
    "def update(n):\n",
    "    print(f\"Before- Inside of the function: {n}\")\n",
    "    n= n+ \" Programming\"\n",
    "    print(f\"After- Inside of the function: {n}\")\n",
    "n = 'Python'\n",
    "update(n)\n",
    "print(f\"outside of the function: {n}\")"
   ]
  },
  {
   "cell_type": "code",
   "execution_count": null,
   "id": "83a234af",
   "metadata": {},
   "outputs": [],
   "source": [
    "def update(n):\n",
    "    print(f\"Before- Inside of the function: {n}\")\n",
    "    n.append(4)\n",
    "    print(f\"After- Inside of the function: {n}\")\n",
    "n = [1,2,3]\n",
    "update(n)\n",
    "print(f\"outside of the function: {n}\")"
   ]
  },
  {
   "cell_type": "code",
   "execution_count": 2,
   "id": "9d7b4dfc",
   "metadata": {},
   "outputs": [
    {
     "name": "stdout",
     "output_type": "stream",
     "text": [
      "Before- Inside of the function: (1, 2, 3)\n",
      "After- Inside of the function: (1, 2, 3)\n",
      "outside of the function: (1, 2, 3)\n"
     ]
    }
   ],
   "source": [
    "def update(n):\n",
    "    print(f\"Before- Inside of the function: {n}\")\n",
    "    n+(3,4)\n",
    "    print(f\"After- Inside of the function: {n}\")\n",
    "n = (1,2,3)\n",
    "update(n)\n",
    "print(f\"outside of the function: {n}\")"
   ]
  },
  {
   "cell_type": "code",
   "execution_count": 3,
   "id": "187aa49f",
   "metadata": {},
   "outputs": [
    {
     "name": "stdout",
     "output_type": "stream",
     "text": [
      "Before- Inside of the function: {1, 2, 3}\n",
      "After- Inside of the function: {1, 2, 3, 4}\n",
      "outside of the function: {1, 2, 3, 4}\n"
     ]
    }
   ],
   "source": [
    "def update(n):\n",
    "    print(f\"Before- Inside of the function: {n}\")\n",
    "    n.add(4)\n",
    "    print(f\"After- Inside of the function: {n}\")\n",
    "n = {1,2,3}\n",
    "update(n)\n",
    "print(f\"outside of the function: {n}\")"
   ]
  },
  {
   "cell_type": "code",
   "execution_count": null,
   "id": "511b933a",
   "metadata": {},
   "outputs": [],
   "source": [
    "def update(n):\n",
    "    print(f\"Before- Inside of the function: {n}\")\n",
    "    n[6]=35\n",
    "    print(f\"After- Inside of the function: {n}\")\n",
    "n = {1:1,2:4,3:9,4:16,5:25}\n",
    "update(n)\n",
    "print(f\"outside of the function: {n}\")"
   ]
  },
  {
   "cell_type": "code",
   "execution_count": null,
   "id": "7cadef8c",
   "metadata": {},
   "outputs": [],
   "source": [
    "def update(n):\n",
    "    print(f\"Before- Inside of the function: {n}\")\n",
    "    n=False\n",
    "    print(f\"After- Inside of the function: {n}\")\n",
    "n = True\n",
    "update(n)\n",
    "print(f\"outside of the function: {n}\")"
   ]
  },
  {
   "cell_type": "code",
   "execution_count": null,
   "id": "4884408f",
   "metadata": {},
   "outputs": [],
   "source": [
    "def update(n):\n",
    "    print(f\"Before- Inside of the function: {n}\")\n",
    "    n=n.copy()\n",
    "    n.append(20)\n",
    "    print(f\"After- Inside of the function: {n}\")\n",
    "n = [1,2,3]\n",
    "update(n)\n",
    "print(f\"outside of the function: {n}\")"
   ]
  },
  {
   "cell_type": "code",
   "execution_count": null,
   "id": "4c55f22e",
   "metadata": {},
   "outputs": [],
   "source": [
    "def update(n):\n",
    "    print(f\"Before- Inside of the function: {n}\")\n",
    "    k=n\n",
    "    k.append(20)\n",
    "    print(f\"After- Inside of the function: {k}\")\n",
    "n = [1,2,3]\n",
    "update(n)\n",
    "print(f\"outside of the function: {n}\")"
   ]
  },
  {
   "cell_type": "code",
   "execution_count": null,
   "id": "af3b514d",
   "metadata": {},
   "outputs": [],
   "source": [
    "n = int(input(\"Enter the value: \"))\n",
    "sum = 0\n",
    "for i in range(1, n+1):\n",
    "    sum += i\n",
    "print(sum)"
   ]
  },
  {
   "cell_type": "markdown",
   "id": "734d999c",
   "metadata": {},
   "source": [
    "# Recursive Functions"
   ]
  },
  {
   "cell_type": "code",
   "execution_count": null,
   "id": "42b64218",
   "metadata": {},
   "outputs": [],
   "source": [
    "def sum_num(n):\n",
    "    sum = 0\n",
    "    for i in range(1, n+1):\n",
    "        sum += i\n",
    "    return sum\n",
    "\n",
    "n= int(input(\"Enter the value: \"))\n",
    "print(sum_num(n))"
   ]
  },
  {
   "cell_type": "code",
   "execution_count": null,
   "id": "113717ee",
   "metadata": {},
   "outputs": [],
   "source": [
    "def sumofnum(n):\n",
    "    if n==0:\n",
    "        return 0\n",
    "    return n+sumofnum(n-1)\n",
    "\n",
    "n= int(input(\"Enter the value: \"))\n",
    "print(sumofnum(n))"
   ]
  },
  {
   "cell_type": "code",
   "execution_count": null,
   "id": "f931bcdf",
   "metadata": {},
   "outputs": [],
   "source": [
    "def factoral(num):\n",
    "    if num == 1:\n",
    "        return 1\n",
    "    return num*factoral(num-1)\n",
    "num= int(input(\"Enter the value: \"))\n",
    "print(factoral(num))"
   ]
  },
  {
   "cell_type": "code",
   "execution_count": null,
   "id": "6652b08e",
   "metadata": {},
   "outputs": [],
   "source": [
    "def shoot(n):\n",
    "    if n==0 or n==1:\n",
    "        return 1\n",
    "    print(\"Before recursion:\",n)\n",
    "    shoot(n-1)\n",
    "    print(\"After recursion:\",n)\n",
    "\n",
    "n= int(input(\"Enter the value: \"))\n",
    "shoot(n)"
   ]
  },
  {
   "cell_type": "markdown",
   "id": "136be70d",
   "metadata": {},
   "source": [
    "#### Fibonacci Series\n",
    "###### if n == 0 it 0\n",
    "###### if n == 1 it 1\n",
    "###### if n > 1 it (n-1) + (n-2)"
   ]
  },
  {
   "cell_type": "code",
   "execution_count": 1,
   "id": "777990eb",
   "metadata": {},
   "outputs": [
    {
     "name": "stdout",
     "output_type": "stream",
     "text": [
      "0 1 1 2 3 5 8 13 21 "
     ]
    }
   ],
   "source": [
    "def fibonacci_ser(n):\n",
    "    for i in range(n):\n",
    "        print(fibonacci(i),end=\" \")\n",
    "def fibonacci(num):\n",
    "    if num == 0:\n",
    "        return 0\n",
    "    elif num == 1:\n",
    "        return 1\n",
    "    elif num > 1:\n",
    "        return fibonacci(num-1) + fibonacci(num-2)\n",
    "    \n",
    "n = int(input(\"Enter number for fibonacci: \"))\n",
    "fibonacci_ser(n)"
   ]
  },
  {
   "cell_type": "code",
   "execution_count": 48,
   "id": "d91052f9",
   "metadata": {},
   "outputs": [
    {
     "name": "stdout",
     "output_type": "stream",
     "text": [
      "5\n"
     ]
    }
   ],
   "source": [
    "n = int(input(\"Enter the number: \"))\n",
    "s=0\n",
    "while n > 0:\n",
    "    d = n%10\n",
    "    s += d\n",
    "    n = n//10\n",
    "print(s)"
   ]
  },
  {
   "cell_type": "code",
   "execution_count": 41,
   "id": "4d99a6b5",
   "metadata": {},
   "outputs": [
    {
     "name": "stdout",
     "output_type": "stream",
     "text": [
      "20\n"
     ]
    }
   ],
   "source": [
    "def sum_digite(n):\n",
    "    if n == 0:\n",
    "        return 1\n",
    "    d = n%10\n",
    "    return d+sum_digite(n//10)\n",
    "n = int(input(\"Enter a number: \"))\n",
    "print(sum_digite(n))"
   ]
  },
  {
   "cell_type": "code",
   "execution_count": 42,
   "id": "cf7ea5b7",
   "metadata": {},
   "outputs": [
    {
     "name": "stdout",
     "output_type": "stream",
     "text": [
      "60\n"
     ]
    }
   ],
   "source": [
    "def product(n):\n",
    "    if n == 0:\n",
    "        return 1\n",
    "    d = n%10\n",
    "    return d*product(n//10)\n",
    "n = int(input(\"Enter a number: \"))\n",
    "print(product(n))"
   ]
  },
  {
   "cell_type": "code",
   "execution_count": null,
   "id": "e844f63e",
   "metadata": {},
   "outputs": [],
   "source": []
  }
 ],
 "metadata": {
  "kernelspec": {
   "display_name": "myenv",
   "language": "python",
   "name": "python3"
  },
  "language_info": {
   "codemirror_mode": {
    "name": "ipython",
    "version": 3
   },
   "file_extension": ".py",
   "mimetype": "text/x-python",
   "name": "python",
   "nbconvert_exporter": "python",
   "pygments_lexer": "ipython3",
   "version": "3.13.5"
  }
 },
 "nbformat": 4,
 "nbformat_minor": 5
}
