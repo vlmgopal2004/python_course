{
 "cells": [
  {
   "cell_type": "markdown",
   "id": "25ffd55e",
   "metadata": {},
   "source": [
    "# Input Formatting"
   ]
  },
  {
   "cell_type": "code",
   "execution_count": 1,
   "id": "e4840cf5",
   "metadata": {},
   "outputs": [
    {
     "name": "stdout",
     "output_type": "stream",
     "text": [
      "mani <class 'str'>\n"
     ]
    }
   ],
   "source": [
    "#String Input\n",
    "str = input(\"Enter a name: \")\n",
    "print(str, type(str))\n"
   ]
  },
  {
   "cell_type": "code",
   "execution_count": 2,
   "id": "c200252c",
   "metadata": {},
   "outputs": [
    {
     "name": "stdout",
     "output_type": "stream",
     "text": [
      "3 <class 'int'>\n"
     ]
    }
   ],
   "source": [
    "#Integer Input\n",
    "num = int(input(\"Enter a number: \"))\n",
    "print(num, type(num))"
   ]
  },
  {
   "cell_type": "code",
   "execution_count": 4,
   "id": "90c0dc9a",
   "metadata": {},
   "outputs": [
    {
     "name": "stdout",
     "output_type": "stream",
     "text": [
      "7.8 <class 'float'>\n"
     ]
    }
   ],
   "source": [
    "#Float Input\n",
    "f_num = float(input(\"Enter a float value: \"))\n",
    "print(f_num, type(f_num))\n"
   ]
  },
  {
   "cell_type": "code",
   "execution_count": 8,
   "id": "b0048ecf",
   "metadata": {},
   "outputs": [
    {
     "name": "stdout",
     "output_type": "stream",
     "text": [
      "['mani', 'kalyan', 'kumar', 'sai', 'arun', 'ramya', 'swetha'] <class 'list'>\n"
     ]
    }
   ],
   "source": [
    "#Input as List (Space-separated)\n",
    "lis_ss = input(\"Enter student names (space-separated): \").split()\n",
    "print(lis_ss, type(lis_ss))"
   ]
  },
  {
   "cell_type": "code",
   "execution_count": 12,
   "id": "bbbf37f2",
   "metadata": {},
   "outputs": [
    {
     "name": "stdout",
     "output_type": "stream",
     "text": [
      "['sai', 'kumar', 'kiran', 'gopal', 'mani'] <class 'list'>\n"
     ]
    }
   ],
   "source": [
    "lis_cs = input(\"Enter values (comma-separated): \").split(',')\n",
    "print(lis_cs, type(lis_cs))"
   ]
  },
  {
   "cell_type": "code",
   "execution_count": 14,
   "id": "4501ec5f",
   "metadata": {},
   "outputs": [
    {
     "name": "stdout",
     "output_type": "stream",
     "text": [
      "[20, 30, 40, 50, 10, 60] <class 'list'>\n"
     ]
    }
   ],
   "source": [
    "#List of Integers\n",
    "lis_int = list(map(int, input(\"Enter score of each subject: \").split(',')))\n",
    "print(lis_int, type(lis_int))"
   ]
  },
  {
   "cell_type": "code",
   "execution_count": 15,
   "id": "552c0fbb",
   "metadata": {},
   "outputs": [
    {
     "name": "stdout",
     "output_type": "stream",
     "text": [
      "[330.55, 409.7, 890.5, 220.0, 450.2] <class 'list'>\n"
     ]
    }
   ],
   "source": [
    "#List of Floats\n",
    "lis_float = list(map(float, input(\"Enter the price each item: \").split(',')))\n",
    "print(lis_float, type(lis_float))\n"
   ]
  },
  {
   "cell_type": "code",
   "execution_count": 16,
   "id": "b1a8f158",
   "metadata": {},
   "outputs": [
    {
     "name": "stdout",
     "output_type": "stream",
     "text": [
      "(101, 102, 103, 104, 105, 106) <class 'tuple'>\n"
     ]
    }
   ],
   "source": [
    "#Tuple Input\n",
    "tup_inp = tuple(map(int, input(\"Enter Product ID: \").split()))\n",
    "print(tup_inp, type(tup_inp))\n"
   ]
  },
  {
   "cell_type": "code",
   "execution_count": 17,
   "id": "2d50632d",
   "metadata": {},
   "outputs": [
    {
     "name": "stdout",
     "output_type": "stream",
     "text": [
      "{800, 801, 802, 809, 810} <class 'set'>\n"
     ]
    }
   ],
   "source": [
    "#Set Input\n",
    "set_inp = set(map(int, input(\"Enter the Student ID: \").split(',')))\n",
    "print(set_inp, type(set_inp))"
   ]
  },
  {
   "cell_type": "code",
   "execution_count": 22,
   "id": "5245f298",
   "metadata": {},
   "outputs": [
    {
     "name": "stdout",
     "output_type": "stream",
     "text": [
      "{'name': 'mani', 'id': 810, 'course': 'python'} <class 'dict'>\n"
     ]
    }
   ],
   "source": [
    "#Dictionary Input using eval()\n",
    "dic_inp = eval(input(\"Enter student information: \"))\n",
    "print(dic_inp, type(dic_inp))"
   ]
  },
  {
   "cell_type": "code",
   "execution_count": 24,
   "id": "263ab4fd",
   "metadata": {},
   "outputs": [
    {
     "name": "stdout",
     "output_type": "stream",
     "text": [
      "Your email:mani@gmail.com and password:mani@\n"
     ]
    }
   ],
   "source": [
    "#Multiple Inputs with Unpacking\n",
    "email, password = input(\"Enter email and password: \").split()\n",
    "print(f\"Your email:{email} and password:{password}\")"
   ]
  },
  {
   "cell_type": "code",
   "execution_count": null,
   "id": "ee9e016c",
   "metadata": {},
   "outputs": [],
   "source": []
  }
 ],
 "metadata": {
  "kernelspec": {
   "display_name": "myenv",
   "language": "python",
   "name": "python3"
  },
  "language_info": {
   "codemirror_mode": {
    "name": "ipython",
    "version": 3
   },
   "file_extension": ".py",
   "mimetype": "text/x-python",
   "name": "python",
   "nbconvert_exporter": "python",
   "pygments_lexer": "ipython3",
   "version": "3.13.5"
  }
 },
 "nbformat": 4,
 "nbformat_minor": 5
}
