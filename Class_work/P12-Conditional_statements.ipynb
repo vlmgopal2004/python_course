{
 "cells": [
  {
   "cell_type": "markdown",
   "id": "61d2584c",
   "metadata": {},
   "source": [
    "#Conditional_Statements"
   ]
  },
  {
   "cell_type": "code",
   "execution_count": 5,
   "id": "630cde26",
   "metadata": {},
   "outputs": [
    {
     "name": "stdout",
     "output_type": "stream",
     "text": [
      "invalid login\n",
      "vlmgopal2005@gmail.com , 1234@\n"
     ]
    }
   ],
   "source": [
    "#if conditions\n",
    "data = {\n",
    "    'kalyan2003@gmail.com':'1234@',\n",
    "    'musthafa2003@gmail.com':'345#',\n",
    "    'ramya@gmail.com':'890@'\n",
    "}\n",
    "\n",
    "email, pwd = input(\"Enter Email and Pwd: \").split()\n",
    "if data.get(email) == pwd:\n",
    "    print('login successful')\n",
    "else:\n",
    "    print('invalid login')\n",
    "print(email, ',', pwd)"
   ]
  },
  {
   "cell_type": "code",
   "execution_count": null,
   "id": "6741e853",
   "metadata": {},
   "outputs": [
    {
     "name": "stdout",
     "output_type": "stream",
     "text": [
      "Out of stock.please try again!!\n"
     ]
    }
   ],
   "source": [
    "items = ['icecream','coffee','idly','samosa']\n",
    "user = input('Enter the item:')\n",
    "\n",
    "if user in items:\n",
    "    ind = items.index(user)\n",
    "    if stock[ind]>0:\n",
    "        print('Item is ava')\n",
    "    else:\n",
    "        print('Out of stock.please try again!!')   \n",
    "else:\n",
    "    print('Item is not ava')"
   ]
  },
  {
   "cell_type": "code",
   "execution_count": null,
   "id": "3db5cf8a",
   "metadata": {},
   "outputs": [],
   "source": [
    "items = ['icecream','coffee','idly','samosa']\n",
    "stock =[20,30,70,0]\n",
    "distance =[13,4,9,12]\n",
    "ratings =[3.4,4,4.3,1]\n",
    "cost =[100,150,60,90]\n",
    "veg = [True,True,True,False]\n",
    "time = [30,40,5,20]\n",
    "\n",
    "user = input('Enter the item:')\n",
    "ind = item.index(user)\n",
    "if distance[ind]<5 and ratings[ind]>4 and cost[ind]<500 and veg[ind] and time[ind]<30:\n",
    "    print('Time,Veg,cost,distance and ratings applied')\n",
    "elif distance[ind]<5 and ratings[ind]>4 and cost[ind]<500 and veg[ind]:\n",
    "    print('Veg,cost,distance and ratings applied')\n",
    "elif distance[ind]<5 and ratings[ind]>4 and cost[ind]<500:\n",
    "    print('cost,distance and ratings applied')\n",
    "elif distance[ind]<5 and ratings[ind]>4 and:\n",
    "    print('distance and ratings applied')\n",
    "elif ratings[ind]>4:\n",
    "    print('ratings applied')\n",
    "elif distance[ind]<5:\n",
    "    print('distance applied')\n",
    "elif cost[ind]<500 :\n",
    "    print('cost applied')\n",
    "else:\n",
    "    print(\"All the produts\")"
   ]
  },
  {
   "cell_type": "markdown",
   "id": "4b20b443",
   "metadata": {},
   "source": []
  },
  {
   "cell_type": "code",
   "execution_count": 31,
   "id": "55dd431a",
   "metadata": {},
   "outputs": [
    {
     "name": "stdout",
     "output_type": "stream",
     "text": [
      "13 is not divisible by 2 & 3\n"
     ]
    }
   ],
   "source": [
    "num = int(input(\"Enter a Number: \"))\n",
    "\n",
    "if num%2 == 0 and num%3 == 0:\n",
    "    print(f'{num} is divisible by 2 & 3')\n",
    "elif num%2 == 0:\n",
    "    print(f'{num} is divisible by 2')\n",
    "elif num%3 == 0:\n",
    "    print(f'{num} is divisible by 3')\n",
    "else:\n",
    "    print(f'{num} is not divisible by 2 & 3')"
   ]
  },
  {
   "cell_type": "code",
   "execution_count": null,
   "id": "6697efb8",
   "metadata": {},
   "outputs": [],
   "source": [
    "year = int(input(\"Enter a year: \"))\n",
    "if year%400 == 0 or (year%4 == 0 and year%100 != 0):\n",
    "    print(f\"{year} is a Leap Year\")\n",
    "else:\n",
    "    print(f\"{year} is not a Leap Year\")"
   ]
  },
  {
   "cell_type": "code",
   "execution_count": null,
   "id": "78847dff",
   "metadata": {},
   "outputs": [],
   "source": [
    "i = input('')"
   ]
  },
  {
   "cell_type": "code",
   "execution_count": 2,
   "id": "a92086fb",
   "metadata": {},
   "outputs": [
    {
     "name": "stdout",
     "output_type": "stream",
     "text": [
      "23 is greater than 12\n"
     ]
    }
   ],
   "source": [
    "a = int(input(\"Enter a:\"))\n",
    "b = int(input(\"Enter b:\"))\n",
    "\n",
    "if a>b :\n",
    "    print(f\"{a} is greater than {b}\")\n",
    "else:\n",
    "    print(f\"{b} is greater than {a}\")"
   ]
  },
  {
   "cell_type": "code",
   "execution_count": 3,
   "id": "4e4cb4e3",
   "metadata": {},
   "outputs": [
    {
     "name": "stdout",
     "output_type": "stream",
     "text": [
      "3 is equal to 3\n"
     ]
    }
   ],
   "source": [
    "a = int(input(\"Enter a:\"))\n",
    "b = int(input(\"Enter b:\"))\n",
    "\n",
    "if a>b :\n",
    "    print(f\"{a} is greater than {b}\")\n",
    "elif a==b:\n",
    "    print(f\"{a} is equal to {b}\")\n",
    "else:\n",
    "    print(f\"{b} is greater than {a}\")"
   ]
  },
  {
   "cell_type": "code",
   "execution_count": 4,
   "id": "c8284019",
   "metadata": {},
   "outputs": [
    {
     "name": "stdout",
     "output_type": "stream",
     "text": [
      "3 is divisible by 3\n"
     ]
    }
   ],
   "source": [
    "a = int(input(\"Enter a: \"))\n",
    "if a%2 == 0 and a%3 == 0:\n",
    "    print(f'{a} is divisible by both 2 and 3')\n",
    "elif a%2 == 0:\n",
    "    print(f'{a} is divisible by 2')\n",
    "elif a%3 == 0:\n",
    "    print(f'{a} is divisible by 3')\n",
    "else:\n",
    "    print(f'{a} is not divisible by 2 or 3')"
   ]
  },
  {
   "cell_type": "code",
   "execution_count": null,
   "id": "cccbd442",
   "metadata": {},
   "outputs": [],
   "source": []
  }
 ],
 "metadata": {
  "kernelspec": {
   "display_name": "myenv",
   "language": "python",
   "name": "python3"
  },
  "language_info": {
   "codemirror_mode": {
    "name": "ipython",
    "version": 3
   },
   "file_extension": ".py",
   "mimetype": "text/x-python",
   "name": "python",
   "nbconvert_exporter": "python",
   "pygments_lexer": "ipython3",
   "version": "3.13.5"
  }
 },
 "nbformat": 4,
 "nbformat_minor": 5
}
