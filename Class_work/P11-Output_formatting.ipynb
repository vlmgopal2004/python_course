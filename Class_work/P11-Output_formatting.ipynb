{
 "cells": [
  {
   "cell_type": "markdown",
   "id": "1f55c043",
   "metadata": {},
   "source": [
    "# Output Formatting"
   ]
  },
  {
   "cell_type": "code",
   "execution_count": 2,
   "id": "cd29995b",
   "metadata": {},
   "outputs": [
    {
     "name": "stdout",
     "output_type": "stream",
     "text": [
      "Hello, World!\n",
      "Name: Kalyan Age: 25\n",
      "2025-10-07\n",
      "Good, Moring\n"
     ]
    }
   ],
   "source": [
    "#Basic Examples of print()\n",
    "#Printing text\n",
    "print(\"Hello, World!\")\n",
    "#Printing Multiple Items\n",
    "name = 'Kalyan' \n",
    "age = 25\n",
    "print(\"Name:\", name, \"Age:\", age)\n",
    "\n",
    "#Using sep to Change the Separator\n",
    "print(\"2025\", \"10\", \"07\", sep=\"-\")\n",
    "\n",
    "#Using end to Control Line Endings\n",
    "print(\"Good,\", end=\" \")\n",
    "print(\"Moring\")"
   ]
  },
  {
   "cell_type": "code",
   "execution_count": null,
   "id": "e0fb0123",
   "metadata": {},
   "outputs": [
    {
     "name": "stdout",
     "output_type": "stream",
     "text": [
      "Printing using Special Characters:\n",
      "NewLine:\n",
      "I'm very happy to meet kalyan after long time.\n",
      "He become layer and now he is best criminal layer\n",
      "Tab:\n",
      "Name:\tKalyan\n"
     ]
    }
   ],
   "source": [
    "#Printing Special Characters\n",
    "print('Printing using Special Characters:')\n",
    "\n",
    "##NewLine(\\n):\n",
    "print('NewLine:')\n",
    "print(\"I'm very happy to meet kalyan after long time.\\nHe become layer and now he is best criminal layer\")\n",
    "\n",
    "##Tab(\\t):\n",
    "print('Tab:')\n",
    "print(\"Name:\\tKalyan\")"
   ]
  },
  {
   "cell_type": "code",
   "execution_count": 8,
   "id": "02470963",
   "metadata": {},
   "outputs": [
    {
     "name": "stdout",
     "output_type": "stream",
     "text": [
      "Printing Using Commas:\n",
      "Name: Ramya Age: 22 Score: 80.1\n",
      "Printing Using Modulo Operator:\n",
      "Name: Musthafa | Age: 22 | Score: 78.40\n",
      "Printing Using f-string:\n",
      "Name: Venkat | Age:22 | Score:79.00\n",
      "Using str.format() Method:\n",
      "Name: Pavan Kumar | Age: 22 | Score: 73.0\n"
     ]
    }
   ],
   "source": [
    "#Using Commas (Simple Print Method)\n",
    "print('Printing Using Commas:')\n",
    "name = \"Ramya\" \n",
    "age = 22\n",
    "score = 80.1\n",
    "print(\"Name:\", name, \"Age:\", age, \"Score:\", score)\n",
    "\n",
    "#Using Modulo Operator(%Formatting)\n",
    "print('Printing Using Modulo Operator:')\n",
    "name = \"Musthafa\" \n",
    "age = 22\n",
    "score = 78.4\n",
    "print(\"Name: %s | Age: %d | Score: %.2f\" % (name, age, score) )\n",
    "\n",
    "#Using f-string\n",
    "print('Printing Using f-string:')\n",
    "name = \"Venkat\" \n",
    "age = 22\n",
    "score = 79\n",
    "print(f\"Name: {name} | Age:{age} | Score:{score:.2f}\")\n",
    "\n",
    "#Using str.format() Method\n",
    "print('Using str.format() Method:')\n",
    "name = \"Pavan Kumar\" \n",
    "age = 22\n",
    "score = 73\n",
    "print(\"Name: {} | Age: {} | Score: {:.1f}\".format(name, age, score))"
   ]
  },
  {
   "cell_type": "code",
   "execution_count": null,
   "id": "4d462bcf",
   "metadata": {},
   "outputs": [],
   "source": []
  }
 ],
 "metadata": {
  "kernelspec": {
   "display_name": "myenv",
   "language": "python",
   "name": "python3"
  },
  "language_info": {
   "codemirror_mode": {
    "name": "ipython",
    "version": 3
   },
   "file_extension": ".py",
   "mimetype": "text/x-python",
   "name": "python",
   "nbconvert_exporter": "python",
   "pygments_lexer": "ipython3",
   "version": "3.13.5"
  }
 },
 "nbformat": 4,
 "nbformat_minor": 5
}
