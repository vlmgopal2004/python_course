{
 "cells": [
  {
   "cell_type": "markdown",
   "id": "2f3de2a9",
   "metadata": {},
   "source": [
    "#### Class"
   ]
  },
  {
   "cell_type": "code",
   "execution_count": null,
   "id": "33b67e89",
   "metadata": {},
   "outputs": [
    {
     "name": "stdout",
     "output_type": "stream",
     "text": [
      "1\n",
      "2\n",
      "3\n",
      "4\n",
      "5\n",
      "6\n",
      "7\n",
      "8\n",
      "9\n"
     ]
    }
   ],
   "source": [
    "class number:\n",
    "    a = 10\n",
    "    def update(self, number):\n",
    "        self.b = number\n",
    "\n",
    "n = number()"
   ]
  },
  {
   "cell_type": "code",
   "execution_count": 16,
   "id": "6dec360f",
   "metadata": {},
   "outputs": [
    {
     "name": "stdout",
     "output_type": "stream",
     "text": [
      "10\n",
      "15\n",
      "34000\n",
      "Laptop\n",
      "15\n"
     ]
    }
   ],
   "source": [
    "class shopping:\n",
    "    discount=10\n",
    "    def product(self,price,name):\n",
    "        self.price = price\n",
    "        self.name = name\n",
    "\n",
    "user1 = shopping()\n",
    "user2 = shopping()\n",
    "\n",
    "user1.product(34000, \"Laptop\")\n",
    "user2.product(54000,'Phone')\n",
    "\n",
    "print(shopping.discount)\n",
    "shopping.discount = 15\n",
    "print(shopping.discount)\n",
    "print(user1.price)\n",
    "print(user1.name)\n",
    "print(user2.discount)"
   ]
  },
  {
   "cell_type": "code",
   "execution_count": null,
   "id": "03001c7b",
   "metadata": {},
   "outputs": [
    {
     "name": "stdout",
     "output_type": "stream",
     "text": [
      "15 is updated\n",
      "34000\n",
      "Laptop\n",
      "15\n"
     ]
    }
   ],
   "source": [
    "class shopping:\n",
    "    discount=10\n",
    "    @classmethod\n",
    "    def update(cls,new_discount):\n",
    "        cls.discount = new_discount\n",
    "        print(f'{new_discount} is updated')\n",
    "    def product(self,price,name):\n",
    "        self.price = price\n",
    "        self.name = name\n",
    "\n",
    "user1 = shopping()\n",
    "user2 = shopping()\n",
    "# how to use class method\n",
    "shopping.update(15)\n",
    "\n",
    "user1.product(34000, \"Laptop\")\n",
    "user2.product(54000,'Phone')\n",
    "\n",
    "print(user1.price)\n",
    "print(user1.name)\n",
    "print(user2.discount)"
   ]
  },
  {
   "cell_type": "code",
   "execution_count": 21,
   "id": "62e6742c",
   "metadata": {},
   "outputs": [
    {
     "name": "stdout",
     "output_type": "stream",
     "text": [
      "15 is updated\n",
      "$%.2f 5600\n",
      "$%.2f 3000\n",
      "34000\n",
      "Laptop\n",
      "15\n"
     ]
    }
   ],
   "source": [
    "class shopping:\n",
    "    discount=10\n",
    "    products = []\n",
    "    @classmethod\n",
    "    def update(cls,new_discount):\n",
    "        cls.discount = new_discount\n",
    "        print(f'{new_discount} is updated')\n",
    "\n",
    "    def product(self,price,name):\n",
    "        self.price = price\n",
    "        self.name = name\n",
    "    @staticmethod\n",
    "    def check(price):\n",
    "        print('$%.2f',price)\n",
    "\n",
    "user1 = shopping()\n",
    "user2 = shopping()\n",
    "# how to use class method\n",
    "shopping.update(15)\n",
    "# how to use static method\n",
    "user1.check(5600)\n",
    "shopping.check(3000)\n",
    "user1.product(34000, \"Laptop\")\n",
    "user2.product(54000,'Phone')\n",
    "\n",
    "print(user1.price)\n",
    "print(user1.name)\n",
    "print(user2.discount)"
   ]
  },
  {
   "cell_type": "code",
   "execution_count": 34,
   "id": "a0cb7e73",
   "metadata": {},
   "outputs": [
    {
     "name": "stdout",
     "output_type": "stream",
     "text": [
      "welcome to login\n",
      "welcome to login\n",
      "Dinesh's password - dinesh@1234\n",
      "Sanjay's password - sanjay@1234\n",
      "Dinesh's password - dinesh_rockstar@143\n",
      "Sanjay's password - sanjay@1234\n"
     ]
    }
   ],
   "source": [
    "class login:\n",
    "    def __init__(self,name,password):\n",
    "        self.name= name \n",
    "        self.password = password\n",
    "        self.bio='' \n",
    "        self.account_status = False\n",
    "        self.post = []\n",
    "        self.followers = []\n",
    "        print(\"welcome to login\")\n",
    "    def update_password(self,new_password):\n",
    "        self.password=new_password\n",
    "    def display(self):\n",
    "        print(f\"{self.name}'s password - {self.password}\")\n",
    "    def updatebio(self,bio):\n",
    "        self.bio=bio\n",
    "dinesh = login('Dinesh','dinesh@1234')\n",
    "sanjay = login('Sanjay','sanjay@1234')\n",
    "\n",
    "dinesh.display()\n",
    "sanjay.display()\n",
    "dinesh.update_password('dinesh_rockstar@143')\n",
    "dinesh.display()\n",
    "sanjay.display()"
   ]
  },
  {
   "cell_type": "markdown",
   "id": "08589680",
   "metadata": {},
   "source": [
    "#### Constructor"
   ]
  },
  {
   "cell_type": "code",
   "execution_count": null,
   "id": "d1724754",
   "metadata": {},
   "outputs": [],
   "source": [
    "class Person:\n",
    "    def __init__(self, name, age):\n",
    "        self.name = name\n",
    "        self.age = age\n",
    "    \n",
    "    def __eq__(self, other):\n",
    "        return self.name == other.name and self.age == other.age\n",
    "\n",
    "name1 = input()\n",
    "age1 = int(input())\n",
    "\n",
    "name2 = input()\n",
    "age2 = int(input())\n",
    "\n",
    "p1 = Person(name1, age1)\n",
    "p2 = Person(name2, age2)\n",
    "\n",
    "if p1 == p2:\n",
    "    print(\"Equal\")\n",
    "else:\n",
    "    print(\"Not Equal\")\n"
   ]
  },
  {
   "cell_type": "markdown",
   "id": "f99373d4",
   "metadata": {},
   "source": [
    "#### Encapsulation"
   ]
  },
  {
   "cell_type": "code",
   "execution_count": null,
   "id": "07b948e1",
   "metadata": {},
   "outputs": [
    {
     "name": "stdout",
     "output_type": "stream",
     "text": [
      "Acessing Public varable outside of class 'Arun'\n",
      "Updating the Public varable outside of class 'Tarak'\n",
      "\n",
      "Acessing Protected varable outside of class 'arun@gmail.com'\n",
      "Updating the Protected varable outside of class 'Tarak@gmail.com'\n",
      "\n",
      "Acessing Private varable inside of class 'Arun@123'\n",
      "Updating the Private varable inside of class 'tarak@123'\n"
     ]
    }
   ],
   "source": [
    "class Details:\n",
    "    def __init__(self,username,email,password):\n",
    "        self.username = username         #public\n",
    "        self._email = email              #protected\n",
    "        self.__password = password       #private\n",
    "\n",
    "    def get_password(self):              #getter\n",
    "        return self.__password\n",
    "    \n",
    "    def set_password(self,new_password): #setter\n",
    "        self.__password = new_password\n",
    "\n",
    "\n",
    "arun = Details(\"Arun\",\"arun@gmail.com\",\"Arun@123\")\n",
    "print(f\"Acessing Public varable outside of class '{arun.username}'\")\n",
    "arun.username='Tarak'\n",
    "print(f\"Updating the Public varable outside of class '{arun.username}'\")\n",
    "print(f\"\\nAcessing Protected varable outside of class '{arun._email}'\")\n",
    "arun._email = 'Tarak@gmail.com'\n",
    "print(f\"Updating the Protected varable outside of class '{arun._email}'\")\n",
    "print(f\"\\nAcessing Private varable inside of class '{arun.get_password()}'\")\n",
    "arun.set_password('tarak@123')\n",
    "print(f\"Updating the Private varable inside of class '{arun.get_password()}'\")\n",
    "\n"
   ]
  },
  {
   "cell_type": "code",
   "execution_count": 21,
   "id": "76085e2c",
   "metadata": {},
   "outputs": [
    {
     "name": "stdout",
     "output_type": "stream",
     "text": [
      "0\n",
      "3000\n",
      "xyz\n",
      "abc\n"
     ]
    }
   ],
   "source": [
    "class Bank:\n",
    "    def __init__(self):\n",
    "        self.name = 'xyz'\n",
    "        self._balance = 0\n",
    "    \n",
    "    @property\n",
    "    def no_res_balance(self):\n",
    "        return self._balance\n",
    "    @no_res_balance.setter\n",
    "    def no_res_balance(self,amount):\n",
    "        self._balance += amount\n",
    "\n",
    "b = Bank()\n",
    "print(b.no_res_balance)\n",
    "b.no_res_balance = 3000\n",
    "print(b.no_res_balance)\n",
    "print(b.name)\n",
    "b.name=\"abc\"\n",
    "print(b.name)\n",
    "\n"
   ]
  },
  {
   "cell_type": "code",
   "execution_count": null,
   "id": "4da2478d",
   "metadata": {},
   "outputs": [
    {
     "name": "stdout",
     "output_type": "stream",
     "text": [
      "Mohit\n",
      "Tarak\n",
      "True\n",
      "Lover boy...\n",
      "Coder\n"
     ]
    }
   ],
   "source": [
    "class Instagram:\n",
    "    def __init__(self,username,bio,account_status=False):\n",
    "        self.username = username\n",
    "        self._bio = bio\n",
    "        self.__account_status = account_status\n",
    "    \n",
    "    def get_acc_status(self):\n",
    "        return self.__account_status\n",
    "    def set_acc_status(self,status):\n",
    "        self.__account_status = status\n",
    "    \n",
    "    @property\n",
    "    def bio(self):\n",
    "        return self._bio\n",
    "    @bio.setter\n",
    "    def bio(self,new_bio):\n",
    "        self._bio = new_bio\n",
    "\n",
    "mohit = Instagram(\"Mohit\",\"Lover boy...\",False)\n",
    "print(mohit.username)\n",
    "mohit.username = \"Tarak\"\n",
    "print(mohit.username)\n",
    "mohit.set_acc_status(True)\n",
    "print(mohit.get_acc_status())\n",
    "print(mohit.bio)\n",
    "mohit.bio='Coder'\n",
    "print(mohit.bio)\n"
   ]
  },
  {
   "cell_type": "markdown",
   "id": "5ab26afd",
   "metadata": {},
   "source": [
    "#### Inheritance\n"
   ]
  },
  {
   "cell_type": "code",
   "execution_count": null,
   "id": "3926035a",
   "metadata": {},
   "outputs": [
    {
     "name": "stdout",
     "output_type": "stream",
     "text": [
      "----Goodmrng.png----\n",
      "'Hey I'm using whatsapp'\n",
      "Like\n",
      "Fear song Added\n",
      "----coffee.png----\n",
      "'Good Evening'\n",
      "Like\n",
      "My love is gone Added\n"
     ]
    }
   ],
   "source": [
    "#single Inheritance\n",
    "class Status:\n",
    "    def __init__(self,caption,image=None,video=None):\n",
    "        self.caption = caption\n",
    "        self.image = image\n",
    "        self.video = video\n",
    "        self.videolength=30\n",
    "\n",
    "    def see_status(self):\n",
    "        if self.video:\n",
    "            print(f\"----{self.video}----\\n{self.caption}\")\n",
    "        else:\n",
    "            print(f\"----{self.image}----\\n'{self.caption}'\")\n",
    "class StatusV1(Status):\n",
    "    def likes(self):\n",
    "        print(\"Like\")\n",
    "    def addmusic(self,music):\n",
    "        print(f\"{music} Added\")\n",
    "\n",
    "gopal = StatusV1(\"Hey I'm using whatsapp\",\"Goodmrng.png\")\n",
    "gopal.see_status()\n",
    "gopal.likes()\n",
    "gopal.addmusic(\"Fear song\")\n",
    "\n",
    "arun = StatusV1(\"Good Evening\",\"coffee.png\")\n",
    "arun.see_status()\n",
    "\n",
    "arun.likes()\n",
    "arun.addmusic('My love is gone')"
   ]
  },
  {
   "cell_type": "code",
   "execution_count": null,
   "id": "bafd3b72",
   "metadata": {},
   "outputs": [
    {
     "name": "stdout",
     "output_type": "stream",
     "text": [
      "ramya upload\n",
      "Good Morning.png is uploaded to your status\n",
      "hema upload\n",
      "God.png is uploaded to your status\n",
      "Om Sai ram..! is added to yout status\n"
     ]
    }
   ],
   "source": [
    "#single Inheritance\n",
    "class Status:\n",
    "    def uploadImage(self,image):\n",
    "        self.image = image\n",
    "        print(f\"{self.image} is uploaded to your status\")\n",
    "class StatusV1(Status):\n",
    "    def addCaption(self,text=None):\n",
    "        self.caption = text\n",
    "        print(f\"{self.caption} is added to yout status\")\n",
    "\n",
    "ramya = Status()\n",
    "print('ramya upload')\n",
    "ramya.uploadImage('Good Morning.png')\n",
    "\n",
    "hema = StatusV1()\n",
    "print(\"hema upload\")\n",
    "hema.uploadImage('God.png')\n",
    "hema.addCaption('Om Sai ram..!')"
   ]
  },
  {
   "cell_type": "code",
   "execution_count": null,
   "id": "87a52aeb",
   "metadata": {},
   "outputs": [
    {
     "name": "stdout",
     "output_type": "stream",
     "text": [
      "Ramya upload\n",
      "Good Morning.png is uploaded to your status\n",
      "Hema able to access\n",
      "God.png is uploaded to your status\n",
      "Om Sai ram..! is added to yout status\n",
      "Vaishnavi able to access\n",
      "Selfie.png is uploaded to your status\n",
      "You can like status\n"
     ]
    }
   ],
   "source": [
    "#Hirecalal Inheritance\n",
    "class Status:\n",
    "    def uploadImage(self,image):\n",
    "        self.image = image\n",
    "        print(f\"{self.image} is uploaded to your status\")\n",
    "class StatusV1(Status):\n",
    "    def addCaption(self,text=None):\n",
    "        self.caption = text\n",
    "        print(f\"{self.caption} is added to yout status\")\n",
    "class StatusV2(Status):\n",
    "    def like(self):\n",
    "        print(f\"You can like status\")\n",
    "ramya = Status()\n",
    "print('Ramya upload')\n",
    "ramya.uploadImage('Good Morning.png')\n",
    "\n",
    "hema = StatusV1()\n",
    "print(\"Hema able to access\")\n",
    "hema.uploadImage('God.png')\n",
    "hema.addCaption('Om Sai ram..!')\n",
    "\n",
    "vaishnavi = StatusV2()\n",
    "print(\"Vaishnavi able to access\")\n",
    "vaishnavi.uploadImage('Selfie.png')\n",
    "vaishnavi.like()"
   ]
  },
  {
   "cell_type": "code",
   "execution_count": null,
   "id": "a0a25d1a",
   "metadata": {},
   "outputs": [
    {
     "name": "stdout",
     "output_type": "stream",
     "text": [
      "Ramya upload\n",
      "Good Morning.png is uploaded to your status\n",
      "Hema able to access\n",
      "God.png is uploaded to your status\n",
      "Om Sai ram..! is added to yout status\n",
      "Vaishnavi able to access\n",
      "Selfie.png is uploaded to your status\n",
      "You can like status\n",
      "Mountanains.png is uploaded to your status\n",
      "Hey..! Guys good morning is added to yout status\n",
      "You can like status\n",
      "manam.mp3...is add to your status\n",
      "Swag.png is uploaded to your status\n",
      "Heart Break...! is added to yout status\n",
      "You can like status\n",
      "My love gone..!.mp3...is add to your status\n",
      "chelliya.mp4 is uploaded to your status\n"
     ]
    }
   ],
   "source": [
    "#Multi-level Inheritance\n",
    "class Status:\n",
    "    def uploadImage(self,image):\n",
    "        self.image = image\n",
    "        print(f\"{self.image} is uploaded to your status\")\n",
    "class StatusV1(Status):\n",
    "    def addCaption(self,text=None):\n",
    "        self.caption = text\n",
    "        print(f\"{self.caption} is added to yout status\")\n",
    "class StatusV2(StatusV1):\n",
    "    def like(self):\n",
    "        print(f\"You can like status\")\n",
    "class StatusV3(StatusV2):\n",
    "    def addMusic(self,music):\n",
    "        self.music = music\n",
    "        print(f\"{self.music}...is add to your status\")\n",
    "class StatusV4(StatusV3):\n",
    "    def videolength(self,video):\n",
    "        self.video = video\n",
    "        print(f\"{self.video} is uploaded to your status\")\n",
    "ramya = Status()\n",
    "print('Ramya upload')\n",
    "ramya.uploadImage('Good Morning.png')\n",
    "\n",
    "hema = StatusV1()\n",
    "print(\"Hema able to access\")\n",
    "hema.uploadImage('God.png')\n",
    "hema.addCaption('Om Sai ram..!')\n",
    "\n",
    "print(\"Vaishnavi able to access\")\n",
    "vaishnavi = StatusV2()\n",
    "print(\"Vaishnavi able to access\")\n",
    "vaishnavi.uploadImage('Selfie.png')\n",
    "vaishnavi.like()\n",
    "\n",
    "print(\"Deepika able to access\")\n",
    "deepika = StatusV3()\n",
    "deepika.uploadImage(\"Mountanains.png\")\n",
    "deepika.addCaption('Hey..! Guys good morning')\n",
    "deepika.like()\n",
    "deepika.addMusic('manam.mp3')\n",
    "\n",
    "print(\"Tarak able to access\")\n",
    "tarak = StatusV4()\n",
    "tarak.uploadImage(\"Swag.png\")\n",
    "tarak.addCaption('Heart Break...!')\n",
    "tarak.like()\n",
    "tarak.addMusic(\"My love gone..!.mp3\")\n",
    "tarak.videolength(\"chelliya.mp4\")"
   ]
  },
  {
   "cell_type": "code",
   "execution_count": null,
   "id": "9a5d3f83",
   "metadata": {},
   "outputs": [
    {
     "name": "stdout",
     "output_type": "stream",
     "text": [
      "Ramya upload\n",
      "Good Morning.png is uploaded to your status\n",
      "Hema able to access\n",
      "God.png is uploaded to your status\n",
      "Om Sai ram..! is added to yout status\n",
      "Vaishnavi able to access\n",
      "Selfie.png is uploaded to your status\n",
      "You can like status\n",
      "Mountanains.png is uploaded to your status\n",
      "Hey..! Guys good morning is added to yout status\n",
      "You can like status\n",
      "manam...is add to your status\n"
     ]
    }
   ],
   "source": [
    "#MultipleInheritance\n",
    "class Status:\n",
    "    def uploadImage(self,image):\n",
    "        self.image = image\n",
    "        print(f\"{self.image} is uploaded to your status\")\n",
    "class StatusV1(Status):\n",
    "    def addCaption(self,text=None):\n",
    "        self.caption = text\n",
    "        print(f\"{self.caption} is added to yout status\")\n",
    "class StatusV2(Status):\n",
    "    def like(self):\n",
    "        print(f\"You can like status\")\n",
    "class StatusV3(StatusV1,StatusV2):\n",
    "    def addMusic(self,music):\n",
    "        self.music = music\n",
    "        print(f\"{self.music}...is add to your status\")\n",
    "ramya = Status()\n",
    "print('Ramya upload')\n",
    "ramya.uploadImage('Good Morning.png')\n",
    "\n",
    "hema = StatusV1()\n",
    "print(\"Hema able to access\")\n",
    "hema.uploadImage('God.png')\n",
    "hema.addCaption('Om Sai ram..!')\n",
    "\n",
    "print(\"Vaishnavi able to access\")\n",
    "vaishnavi = StatusV2()\n",
    "print(\"Vaishnavi able to access\")\n",
    "vaishnavi.uploadImage('Selfie.png')\n",
    "vaishnavi.like()\n",
    "\n",
    "print(\"Deepika able to access\")\n",
    "deepika = StatusV3()\n",
    "deepika.uploadImage(\"Mountanains.png\")\n",
    "deepika.addCaption('Hey..! Guys good morning')\n",
    "deepika.like()\n",
    "deepika.addMusic('manam')"
   ]
  },
  {
   "cell_type": "code",
   "execution_count": 16,
   "id": "29ccad1d",
   "metadata": {},
   "outputs": [
    {
     "name": "stdout",
     "output_type": "stream",
     "text": [
      "Dinesh is able to access\n",
      "----------dinesh_rockstar_143-----------\n",
      "Goodmorning.png is posted\n",
      "Sanjay is able to access\n",
      "-----------------Sanjay-----------------\n",
      "bio uploaded\n",
      "Model_sanjay.png is posted\n",
      "Model..Model..Super_Model.mp3 is added\n"
     ]
    }
   ],
   "source": [
    "''' When both parent and child classes have constructors, \n",
    "and you want to call the parent class's constructor from the child class, use super(). '''\n",
    "class Instagram:\n",
    "    def __init__(self,username):\n",
    "        self.username = username\n",
    "        self.post = []\n",
    "        print(f\"{self.username.center(40,'-')}\")\n",
    "    def uploaPost(self,image):\n",
    "        self.post.append(image)\n",
    "        print(f\"{image} is posted\")\n",
    "class InstagramV1(Instagram):\n",
    "    def __init__(self,username,bio):\n",
    "        super().__init__(username)\n",
    "        self.bio = bio\n",
    "        print(f\"bio uploaded\")\n",
    "    def uploaPost(self, post, music):\n",
    "        super().uploaPost(post)\n",
    "        self.music= music\n",
    "        print(f\"{self.music} is added\")\n",
    "print(\"Dinesh is able to access\")\n",
    "dinesh = Instagram('dinesh_rockstar_143')\n",
    "dinesh.uploaPost(\"Goodmorning.png\")\n",
    "print(\"Sanjay is able to access\")\n",
    "sanjay=InstagramV1(\"Sanjay\",\"Kphp ka bahi\")\n",
    "sanjay.uploaPost(\"Model_sanjay.png\",\"Model..Model..Super_Model.mp3\")\n"
   ]
  },
  {
   "cell_type": "code",
   "execution_count": 1,
   "id": "5481c517",
   "metadata": {},
   "outputs": [
    {
     "name": "stdout",
     "output_type": "stream",
     "text": [
      "username--Kalyan user is created! parent-1\n",
      "username--Kalyan user is created!parent-2\n",
      "Creating users from version 3\n"
     ]
    }
   ],
   "source": [
    "# Super()\n",
    "class Instagram:\n",
    "    def __init__(self,username):\n",
    "        self.username = username\n",
    "        print(f\"{self.username} user is created! parent-1\")\n",
    "\n",
    "class InstaV1():\n",
    "    def __init__(self,username):\n",
    "        self.username = username\n",
    "        print(f\"{self.username} user is created!parent-2\")\n",
    "\n",
    "class InstaV2(Instagram,InstaV1):\n",
    "    def __init__(self, username):\n",
    "        Instagram.__init__(self,username)\n",
    "        InstaV1.__init__(self,username)\n",
    "        print(\"Creating users from version 3\")\n",
    "\n",
    "obj = InstaV2('username--Kalyan')"
   ]
  },
  {
   "cell_type": "markdown",
   "id": "4ccdc774",
   "metadata": {},
   "source": [
    "# Polymorphism"
   ]
  },
  {
   "cell_type": "code",
   "execution_count": null,
   "id": "c6c461c9",
   "metadata": {},
   "outputs": [],
   "source": [
    "#Polymorphism\n",
    "#Overridding the playvideo method in child class\n",
    "class Normal_User:\n",
    "    def playvideo(self,name):\n",
    "        print(f\"{name} is playing video with :\\n1.Normal Quality\\n2.Ads run\\n3.No background play\\n4.Limited videos download\\n5.Music with ads\")\n",
    "    def likes(self):\n",
    "        pass\n",
    "    def comments(self):\n",
    "        pass\n",
    "    def share(self):\n",
    "        pass\n",
    "    def description(self):\n",
    "        pass\n",
    "    def subscribe(self):\n",
    "        pass\n",
    "class Premium_User(Normal_User):\n",
    "    def playvideo(self,name):\n",
    "        print(f\"{name} is playing video with :\\n1.High Quality\\n2.Ads Free\\n3.Background play\\n4.Download anything\\n5.Exclucese Music\")\n",
    "\n",
    "obj = Normal_User()\n",
    "obj1 = Premium_User()\n",
    "obj.playvideo(\"Kalyan\")\n",
    "obj1.playvideo(\"Rama\")"
   ]
  },
  {
   "cell_type": "code",
   "execution_count": null,
   "id": "cdd29de8",
   "metadata": {},
   "outputs": [],
   "source": [
    "#Polymorphism\n",
    "#Overridding the playvideo method in child class\n",
    "class Normal_User:\n",
    "    def playvideo(self,name):\n",
    "        print(f\"{name} is playing video with :\\n1.Normal Quality\\n2.Ads run\\n3.No background play\\n4.Limited videos download\\n5.Music with ads\")\n",
    "    def likes(self):\n",
    "        pass\n",
    "    def comments(self):\n",
    "        pass\n",
    "    def share(self):\n",
    "        pass\n",
    "    def description(self):\n",
    "        pass\n",
    "    def subscribe(self):\n",
    "        pass\n",
    "class Premium_User(Normal_User):\n",
    "    def playvideo(self,name):\n",
    "        print(f\"{name} is playing video with :\\n1.High Quality\\n2.Ads Free\\n3.Background play\\n4.Download anything\\n5.Exclucese Music\")\n",
    "\n",
    "users = [Normal_User(), Premium_User()]\n",
    "names = [\"Kalyan\", \"Rama\"]\n",
    "\n",
    "for user, name in zip(users, names):\n",
    "    user.playvideo(name)  # Python decides which version to run at runtime\n"
   ]
  },
  {
   "cell_type": "code",
   "execution_count": null,
   "id": "57358996",
   "metadata": {},
   "outputs": [],
   "source": [
    "#Polymorphism\n",
    "#Overridding the playvideo method in child class\n",
    "class Normal_User:\n",
    "    def playvideo(self,name):\n",
    "        print(f\"{name} is playing video with :\\n1.Normal Quality\\n2.Ads run\\n3.No background play\\n4.Limited videos download\\n5.Music with ads\")\n",
    "   \n",
    "class Premium_User(Normal_User):\n",
    "    def playvideo(self,name):\n",
    "        print(f\"{name} is playing video with :\\n1.High Quality\\n2.Ads Free\\n3.Background play\\n4.Download anything\\n5.Exclucese Music\")\n",
    "\n",
    "obj = Normal_User()\n",
    "obj1 = Premium_User()\n",
    "obj.playvideo(\"Kalyan\")\n",
    "print()\n",
    "obj.playvideo(\"Arun\")\n",
    "print()\n",
    "obj1.playvideo(\"Rama\")\n",
    "print()\n",
    "obj1.playvideo(\"Tarak\")\n",
    "print()\n",
    "obj.playvideo(\"Sanjay\")\n",
    "print()\n",
    "obj1.playvideo(\"Gopal\")\n"
   ]
  },
  {
   "cell_type": "code",
   "execution_count": null,
   "id": "edbdc7bd",
   "metadata": {},
   "outputs": [],
   "source": [
    "#Polymorphism\n",
    "#Overridding the playvideo method in child class\n",
    "class Normal_User:\n",
    "    def playvideo(self,name):\n",
    "        print(f\"{name} is playing video with :\\n1.Normal Quality\\n2.Ads run\\n3.No background play\\n4.Limited videos download\\n5.Music with ads\")\n",
    "   \n",
    "class Premium_User(Normal_User):\n",
    "    def playvideo(self,name):\n",
    "        print(f\"{name} is playing video with :\\n1.High Quality\\n2.Ads Free\\n3.Background play\\n4.Download anything\\n5.Exclucese Music\")\n",
    "def playvideo(user,username):\n",
    "    print()\n",
    "    user.playvideo(username)\n",
    "Kalyan = Normal_User()\n",
    "Arun = Normal_User()\n",
    "Rama = Premium_User()\n",
    "Tarak = Premium_User()\n",
    "Sanjay = Normal_User()\n",
    "Gopal = Premium_User()\n",
    "playvideo(Kalyan,\"Kalyan\")\n",
    "playvideo(Arun,\"Arun\")\n",
    "playvideo(Rama,\"Rama\")\n",
    "playvideo(Tarak,\"Tarak\")\n",
    "playvideo(Sanjay,\"Sanjay\")\n",
    "playvideo(Gopal,\"Gopal\")\n"
   ]
  },
  {
   "cell_type": "code",
   "execution_count": 2,
   "id": "61e0d611",
   "metadata": {},
   "outputs": [
    {
     "name": "stdout",
     "output_type": "stream",
     "text": [
      "30\n",
      "-10\n",
      "200\n",
      "10\n",
      "True\n",
      "False\n",
      "False\n"
     ]
    }
   ],
   "source": [
    "#Polymorphism\n",
    "# Operator overloading\n",
    "class number:\n",
    "    def __init__(self,n):\n",
    "        self.n = n\n",
    "    def __add__(self,other):\n",
    "        return self.n+other.n\n",
    "    def __sub__(self,other):\n",
    "        return self.n-other.n\n",
    "    def __mul__(self,other):\n",
    "        return self.n * other.n\n",
    "    def __str__(self):\n",
    "        return f\"{self.n}\"\n",
    "    def __lt__(self,other):\n",
    "        return self.n<other.n\n",
    "    def __gt__(self,other):\n",
    "        return self.n>other.n\n",
    "    def __eq__(self,other):\n",
    "        return self.n == other.n\n",
    "number1 = number(10)\n",
    "number2 = number(20)\n",
    "number3 = number(30)\n",
    "print(number1+number2)\n",
    "print(number1-number2)\n",
    "print(number1*number2)\n",
    "print(number1)\n",
    "print(number1<number2)\n",
    "print(number1>number2)\n",
    "print(number1==number2)"
   ]
  },
  {
   "cell_type": "code",
   "execution_count": 1,
   "id": "e9839b1c",
   "metadata": {},
   "outputs": [
    {
     "name": "stdout",
     "output_type": "stream",
     "text": [
      "60\n",
      "-40\n"
     ]
    },
    {
     "ename": "NameError",
     "evalue": "name 'n' is not defined",
     "output_type": "error",
     "traceback": [
      "\u001b[31m---------------------------------------------------------------------------\u001b[39m",
      "\u001b[31mNameError\u001b[39m                                 Traceback (most recent call last)",
      "\u001b[36mCell\u001b[39m\u001b[36m \u001b[39m\u001b[32mIn[1]\u001b[39m\u001b[32m, line 25\u001b[39m\n\u001b[32m     23\u001b[39m \u001b[38;5;28mprint\u001b[39m(n1 + n2 + n3) \n\u001b[32m     24\u001b[39m \u001b[38;5;28mprint\u001b[39m(n1 - n2 - n3)\n\u001b[32m---> \u001b[39m\u001b[32m25\u001b[39m \u001b[38;5;28mprint\u001b[39m(n1 * n2 * \u001b[43mn\u001b[49m)\n\u001b[32m     26\u001b[39m \u001b[38;5;28mprint\u001b[39m(n1)\n\u001b[32m     27\u001b[39m \u001b[38;5;28mprint\u001b[39m(n1 < n2)\n",
      "\u001b[31mNameError\u001b[39m: name 'n' is not defined"
     ]
    }
   ],
   "source": [
    "class Number:\n",
    "    def __init__(self, n):\n",
    "        self.n = n\n",
    "    def __add__(self, other):\n",
    "        return Number(self.n + other.n)\n",
    "    def __sub__(self, other):\n",
    "        return Number(self.n - other.n)\n",
    "    def __mul__(self, other):\n",
    "        return Number(self.n * other.n)\n",
    "    def __str__(self):\n",
    "        return str(self.n)\n",
    "    def __lt__(self, other):\n",
    "        return self.n < other.n\n",
    "    def __gt__(self, other):\n",
    "        return self.n > other.n\n",
    "    def __eq__(self, other):\n",
    "        return self.n == other.n\n",
    "\n",
    "n1 = Number(10)\n",
    "n2 = Number(20)\n",
    "n3 = Number(30)\n",
    "\n",
    "print(n1 + n2 + n3) \n",
    "print(n1 - n2 - n3)\n",
    "print(n1 * n2 * n)\n",
    "print(n1)\n",
    "print(n1 < n2)\n",
    "print(n1 > n2)\n",
    "print(n1 == n2)\n"
   ]
  },
  {
   "cell_type": "code",
   "execution_count": 4,
   "id": "178ceb90",
   "metadata": {},
   "outputs": [
    {
     "name": "stdout",
     "output_type": "stream",
     "text": [
      "Art with value 5\n",
      "Art(5)\n"
     ]
    }
   ],
   "source": [
    "class Art:\n",
    "    def __init__(self, n):\n",
    "        self.n = n\n",
    "    def __str__(self):\n",
    "        return f\"Art with value {self.n}\"\n",
    "    def __repr__(self):\n",
    "        return f\"Art({self.n})\"\n",
    "\n",
    "obj = Art(5)\n",
    "print(obj)         # Calls __str__ → Art with value 5\n",
    "print(repr(obj))   # Calls __repr__ → Art(5)\n"
   ]
  },
  {
   "cell_type": "code",
   "execution_count": null,
   "id": "9b03838c",
   "metadata": {},
   "outputs": [],
   "source": []
  }
 ],
 "metadata": {
  "kernelspec": {
   "display_name": "myenv",
   "language": "python",
   "name": "python3"
  },
  "language_info": {
   "codemirror_mode": {
    "name": "ipython",
    "version": 3
   },
   "file_extension": ".py",
   "mimetype": "text/x-python",
   "name": "python",
   "nbconvert_exporter": "python",
   "pygments_lexer": "ipython3",
   "version": "3.13.6"
  }
 },
 "nbformat": 4,
 "nbformat_minor": 5
}
