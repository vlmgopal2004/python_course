{
 "cells": [
  {
   "cell_type": "markdown",
   "id": "70ce9cee",
   "metadata": {},
   "source": [
    "#Introduction to Dictionary"
   ]
  },
  {
   "cell_type": "code",
   "execution_count": 1,
   "id": "1b7fe70a",
   "metadata": {},
   "outputs": [],
   "source": [
    "d =dict()\n",
    "d ={}\n",
    "d = {\"name\": \"Kalyan\",\n",
    "      \"age\": 21,\n",
    "      \"course\": \"Python\"}\n"
   ]
  },
  {
   "cell_type": "markdown",
   "id": "5cb0f317",
   "metadata": {},
   "source": [
    "#Dictionary Operations"
   ]
  },
  {
   "cell_type": "code",
   "execution_count": 2,
   "id": "374180ac",
   "metadata": {},
   "outputs": [
    {
     "name": "stdout",
     "output_type": "stream",
     "text": [
      "Kalyan\n",
      "21\n",
      "Python\n",
      "Kalyan\n",
      "email not there\n"
     ]
    }
   ],
   "source": [
    "#Accessing Values\n",
    "#Normal Method\n",
    "print(d['name'])\n",
    "print(d['age'])\n",
    "print(d['course'])\n",
    "\n",
    "#Use (get) Method to avoid error\n",
    "print(d.get('name','name not there'))\n",
    "print(d.get('email','email not there'))"
   ]
  },
  {
   "cell_type": "markdown",
   "id": "b68810cf",
   "metadata": {},
   "source": [
    "#Adding and Updating Items"
   ]
  },
  {
   "cell_type": "code",
   "execution_count": 3,
   "id": "bf2a6fc6",
   "metadata": {},
   "outputs": [
    {
     "name": "stdout",
     "output_type": "stream",
     "text": [
      "Keys in dictionary: dict_keys(['name', 'age', 'course'])\n",
      "Values in dictionary: dict_values(['Kalyan', 21, 'Python'])\n"
     ]
    }
   ],
   "source": [
    "#to get keys\n",
    "print('Keys in dictionary:',d.keys())\n",
    "#to get Values\n",
    "print('Values in dictionary:',d.values())"
   ]
  },
  {
   "cell_type": "code",
   "execution_count": 4,
   "id": "73d27240",
   "metadata": {},
   "outputs": [
    {
     "name": "stdout",
     "output_type": "stream",
     "text": [
      "{'name': 'Kalyan', 'age': 21, 'course': 'Python', 'gender': 'Male', 'mail': 'kalyan@gmail.com', 'batch': '30'}\n"
     ]
    }
   ],
   "source": [
    "#add Key:Values to dictionary\n",
    "d['gender'] = 'Male'\n",
    "d['mail'] = 'kalyan@gmail.com'\n",
    "d['batch'] = '30'\n",
    "print(d)\n",
    "\n",
    "\n"
   ]
  },
  {
   "cell_type": "markdown",
   "id": "085f63c1",
   "metadata": {},
   "source": [
    "#Removing Items from a Dictionary"
   ]
  },
  {
   "cell_type": "code",
   "execution_count": 5,
   "id": "36358c43",
   "metadata": {},
   "outputs": [
    {
     "name": "stdout",
     "output_type": "stream",
     "text": [
      "{'name': 'Kalyan', 'age': 21, 'course': 'Python', 'mail': 'kalyan@gmail.com', 'batch': '30'}\n",
      "{'name': 'Kalyan', 'age': 21, 'course': 'Python', 'mail': 'kalyan@gmail.com'}\n",
      "{'name': 'Kalyan', 'age': 21, 'course': 'Python'}\n",
      "{}\n"
     ]
    }
   ],
   "source": [
    "#delect key:Value in dictionary\n",
    "d.pop('gender')\n",
    "print(d)\n",
    "del d['batch']\n",
    "print(d)\n",
    "d.popitem()\n",
    "print(d)\n",
    "d.clear()\n",
    "print(d)"
   ]
  },
  {
   "cell_type": "code",
   "execution_count": 19,
   "id": "71793d32",
   "metadata": {},
   "outputs": [
    {
     "name": "stdout",
     "output_type": "stream",
     "text": [
      "{'name': 'Kalyan', 'age': 21, 'course': 'Python', 'gender': 'Male', 'mail': 'kalyan@gmail.com', 'batch': '30'}\n"
     ]
    }
   ],
   "source": [
    "d = {\"name\": \"Kalyan\",\n",
    "      \"age\": 21,\n",
    "      \"course\": \"Python\"}\n",
    "d['gender'] = 'Male'\n",
    "d['mail'] = 'kalyan@gmail.com'\n",
    "d['batch'] = '30'\n",
    "print(d)"
   ]
  },
  {
   "cell_type": "markdown",
   "id": "0648d4cb",
   "metadata": {},
   "source": [
    "#Dictionary Built-in Methods\n",
    "\n",
    "\n",
    "##Dictionary Methods for Accessing Data"
   ]
  },
  {
   "cell_type": "code",
   "execution_count": 20,
   "id": "3673bb76",
   "metadata": {},
   "outputs": [
    {
     "name": "stdout",
     "output_type": "stream",
     "text": [
      "{'name': 'Kalyan', 'age': 21, 'course': 'Python', 'gender': 'Male', 'mail': 'kalyan@gmail.com', 'batch': '30', 'phone_no': 9876543210, 'city': 'Nalgonda'}\n",
      "job was not there\n"
     ]
    }
   ],
   "source": [
    "#update\n",
    "d.update({'phone_no':9876543210, 'city':'Nalgonda'})\n",
    "print(d)\n",
    "#setdefault\n",
    "d.setdefault(\"job\", 'job was not there')\n",
    "print(d.get('job'))"
   ]
  },
  {
   "cell_type": "code",
   "execution_count": null,
   "id": "bd8afc50",
   "metadata": {},
   "outputs": [],
   "source": []
  },
  {
   "cell_type": "code",
   "execution_count": null,
   "id": "de355eb7",
   "metadata": {},
   "outputs": [],
   "source": []
  }
 ],
 "metadata": {
  "kernelspec": {
   "display_name": "myenv",
   "language": "python",
   "name": "python3"
  },
  "language_info": {
   "codemirror_mode": {
    "name": "ipython",
    "version": 3
   },
   "file_extension": ".py",
   "mimetype": "text/x-python",
   "name": "python",
   "nbconvert_exporter": "python",
   "pygments_lexer": "ipython3",
   "version": "3.13.5"
  }
 },
 "nbformat": 4,
 "nbformat_minor": 5
}
