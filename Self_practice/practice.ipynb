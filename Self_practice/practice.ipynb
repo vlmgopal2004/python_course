{
 "cells": [
  {
   "cell_type": "markdown",
   "id": "6a51a938",
   "metadata": {},
   "source": []
  },
  {
   "cell_type": "code",
   "execution_count": 16,
   "id": "62fcd192",
   "metadata": {},
   "outputs": [
    {
     "name": "stdout",
     "output_type": "stream",
     "text": [
      "abcdefghijklmnopqrstuvwxyz\n",
      "edcba\n"
     ]
    }
   ],
   "source": [
    "import string\n",
    "\n",
    "s = string.ascii_lowercase\n",
    "print(s)\n",
    "s1 = s[0:5]\n",
    "print(s1[::-1])"
   ]
  },
  {
   "cell_type": "markdown",
   "id": "eff95931",
   "metadata": {},
   "source": [
    "# Functions"
   ]
  },
  {
   "cell_type": "code",
   "execution_count": 1,
   "id": "7e749b47",
   "metadata": {},
   "outputs": [
    {
     "name": "stdout",
     "output_type": "stream",
     "text": [
      "9\n"
     ]
    }
   ],
   "source": [
    "#Add Two Numbers\n",
    "def sum(i,j):\n",
    "    print(i+j) \n",
    "i = int(input(\"Enter number:\"))\n",
    "j = int(input(\"Enter number:\"))\n",
    "sum(i,j)"
   ]
  },
  {
   "cell_type": "code",
   "execution_count": 6,
   "id": "bc484de8",
   "metadata": {},
   "outputs": [
    {
     "name": "stdout",
     "output_type": "stream",
     "text": [
      "25\n"
     ]
    }
   ],
   "source": [
    "#Square a Number\n",
    "def squ_num(num):\n",
    "    return num*num\n",
    "num = int(input(\"Enter is number: \"))\n",
    "print(squ_num(num))"
   ]
  },
  {
   "cell_type": "markdown",
   "id": "90a569e0",
   "metadata": {},
   "source": [
    "# Classes in Python"
   ]
  },
  {
   "cell_type": "code",
   "execution_count": null,
   "id": "a16e9d32",
   "metadata": {},
   "outputs": [
    {
     "name": "stdout",
     "output_type": "stream",
     "text": [
      "<class 'list'>\n",
      "[<class 'int'>, ['1', '2', '3', '4', '5', '7']]\n"
     ]
    }
   ],
   "source": [
    "# Classes\n",
    "class Book:\n",
    "    def __init__(self,title,author,price):\n",
    "        self.title = title\n",
    "        self.author = author\n",
    "        self.price = price\n",
    "    def display(self):\n",
    "        print(\"Book Details\".center(50,'*'))\n",
    "        print(f\"Book Title: {self.title}\\nBook Author: {self.author}\\nBook Price:${self.price}\")\n",
    "\n",
    "b1 = Book('xyz','abc',4567)\n",
    "b2 = Book('bnm','hjk',597)\n",
    "b3 = Book('hyt','jku',346)\n",
    "b4 = Book('asd','hytr',1009)\n",
    "\n",
    "b1.display()\n",
    "b2.display()\n",
    "b3.display()\n",
    "b4.display()"
   ]
  },
  {
   "cell_type": "code",
   "execution_count": null,
   "id": "93a68168",
   "metadata": {},
   "outputs": [],
   "source": [
    "class Employee:\n",
    "    def __init__(self,name,base_salary):\n",
    "        self.name = name\n",
    "        self.base_salary = base_salary\n",
    "    \n",
    "    def calculate_annual_salary(self):\n",
    "        print(f\"Annual salary of {self.name} is {self.base_salary * 12}\")\n",
    "\n",
    "\n",
    "tarak = Employee(\"Tarak\",35467)\n",
    "mohit = Employee(\"Mohit\",78564)\n",
    "tarak.calculate_annual_salary()\n",
    "mohit.calculate_annual_salary()\n"
   ]
  },
  {
   "cell_type": "code",
   "execution_count": null,
   "id": "d5a83061",
   "metadata": {},
   "outputs": [],
   "source": [
    "class Student:\n",
    "    def __init__(self,name,marks):\n",
    "        self.name = name\n",
    "        self.marks = marks\n",
    "    def result(self):\n",
    "        self.avg = sum(self.marks)/len(self.marks)\n",
    "        if self.avg < 35:\n",
    "            print(f\"{self.name}'s report:\\nAverage: {self.avg}\\nExam Status:Fail\")\n",
    "        else:\n",
    "            print(f\"{self.name}'s report:\\nAverage: {self.avg}\\nExam Status:Pass\")\n",
    "\n",
    "rushi = Student(\"Rushi\",[78,45,90])\n",
    "ram = Student(\"Ram\",[13,16,9])\n",
    "sanjay = Student(\"Sanjay\",[79,95,85])\n",
    "mani = Student(\"Mani\",[89,97,90])\n",
    "\n",
    "rushi.result()\n",
    "ram.result()\n",
    "sanjay.result()\n",
    "mani.result()"
   ]
  },
  {
   "cell_type": "code",
   "execution_count": null,
   "id": "cdb7f434",
   "metadata": {},
   "outputs": [],
   "source": [
    "class BankAccount:\n",
    "    def __init__(self,username,balance):\n",
    "        self.username = username\n",
    "        self.balance = balance\n",
    "    def deposit(self,amount):\n",
    "        self.balance += amount\n",
    "        print(f\"{amount} is deposited\")\n",
    "    def withdraw(self,amount):\n",
    "        if self.balance >= amount:\n",
    "            self.balance -= amount\n",
    "            print(f\"{amount} is withdraw\")\n",
    "        else:\n",
    "            print(f\"Insufficient Balance\")\n",
    "    def displayBalance(self):\n",
    "        print(f\"{self.username} your current balance is {self.balance}\")\n",
    "\n",
    "\n",
    "kumar = BankAccount('Kumar',8907)\n",
    "ranjit = BankAccount('Ranjit',9736)\n",
    "kumar.deposit(7659)\n",
    "kumar.withdraw(7665)\n",
    "kumar.displayBalance()\n"
   ]
  }
 ],
 "metadata": {
  "kernelspec": {
   "display_name": "myenv",
   "language": "python",
   "name": "python3"
  },
  "language_info": {
   "codemirror_mode": {
    "name": "ipython",
    "version": 3
   },
   "file_extension": ".py",
   "mimetype": "text/x-python",
   "name": "python",
   "nbconvert_exporter": "python",
   "pygments_lexer": "ipython3",
   "version": "3.13.5"
  }
 },
 "nbformat": 4,
 "nbformat_minor": 5
}
