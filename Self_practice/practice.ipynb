{
 "cells": [
  {
   "cell_type": "markdown",
   "id": "6a51a938",
   "metadata": {},
   "source": []
  },
  {
   "cell_type": "code",
   "execution_count": 16,
   "id": "62fcd192",
   "metadata": {},
   "outputs": [
    {
     "name": "stdout",
     "output_type": "stream",
     "text": [
      "abcdefghijklmnopqrstuvwxyz\n",
      "edcba\n"
     ]
    }
   ],
   "source": [
    "import string\n",
    "\n",
    "s = string.ascii_lowercase\n",
    "print(s)\n",
    "s1 = s[0:5]\n",
    "print(s1[::-1])"
   ]
  },
  {
   "cell_type": "markdown",
   "id": "eff95931",
   "metadata": {},
   "source": [
    "# Functions"
   ]
  },
  {
   "cell_type": "code",
   "execution_count": 1,
   "id": "7e749b47",
   "metadata": {},
   "outputs": [
    {
     "name": "stdout",
     "output_type": "stream",
     "text": [
      "9\n"
     ]
    }
   ],
   "source": [
    "#Add Two Numbers\n",
    "def sum(i,j):\n",
    "    print(i+j) \n",
    "i = int(input(\"Enter number:\"))\n",
    "j = int(input(\"Enter number:\"))\n",
    "sum(i,j)"
   ]
  },
  {
   "cell_type": "code",
   "execution_count": 6,
   "id": "bc484de8",
   "metadata": {},
   "outputs": [
    {
     "name": "stdout",
     "output_type": "stream",
     "text": [
      "25\n"
     ]
    }
   ],
   "source": [
    "#Square a Number\n",
    "def squ_num(num):\n",
    "    return num*num\n",
    "num = int(input(\"Enter is number: \"))\n",
    "print(squ_num(num))"
   ]
  },
  {
   "cell_type": "markdown",
   "id": "90a569e0",
   "metadata": {},
   "source": [
    "# Classes in Python"
   ]
  },
  {
   "cell_type": "code",
   "execution_count": null,
   "id": "a16e9d32",
   "metadata": {},
   "outputs": [
    {
     "name": "stdout",
     "output_type": "stream",
     "text": [
      "<class 'list'>\n",
      "[<class 'int'>, ['1', '2', '3', '4', '5', '7']]\n"
     ]
    }
   ],
   "source": [
    "# Classes\n",
    "class Book:\n",
    "    def __init__(self,title,author,price):\n",
    "        self.title = title\n",
    "        self.author = author\n",
    "        self.price = price\n",
    "    def display(self):\n",
    "        print(\"Book Details\".center(50,'*'))\n",
    "        print(f\"Book Title: {self.title}\\nBook Author: {self.author}\\nBook Price:${self.price}\")\n",
    "\n",
    "b1 = Book('xyz','abc',4567)\n",
    "b2 = Book('bnm','hjk',597)\n",
    "b3 = Book('hyt','jku',346)\n",
    "b4 = Book('asd','hytr',1009)\n",
    "\n",
    "b1.display()\n",
    "b2.display()\n",
    "b3.display()\n",
    "b4.display()"
   ]
  },
  {
   "cell_type": "code",
   "execution_count": null,
   "id": "93a68168",
   "metadata": {},
   "outputs": [],
   "source": [
    "class Employee:\n",
    "    def __init__(self,name,base_salary):\n",
    "        self.name = name\n",
    "        self.base_salary = base_salary\n",
    "    \n",
    "    def calculate_annual_salary(self):\n",
    "        print(f\"Annual salary of {self.name} is {self.base_salary * 12}\")\n",
    "\n",
    "\n",
    "tarak = Employee(\"Tarak\",35467)\n",
    "mohit = Employee(\"Mohit\",78564)\n",
    "tarak.calculate_annual_salary()\n",
    "mohit.calculate_annual_salary()\n"
   ]
  },
  {
   "cell_type": "code",
   "execution_count": null,
   "id": "d5a83061",
   "metadata": {},
   "outputs": [],
   "source": [
    "class Student:\n",
    "    def __init__(self,name,marks):\n",
    "        self.name = name\n",
    "        self.marks = marks\n",
    "    def result(self):\n",
    "        self.avg = sum(self.marks)/len(self.marks)\n",
    "        if self.avg < 35:\n",
    "            print(f\"{self.name}'s report:\\nAverage: {self.avg}\\nExam Status:Fail\")\n",
    "        else:\n",
    "            print(f\"{self.name}'s report:\\nAverage: {self.avg}\\nExam Status:Pass\")\n",
    "\n",
    "rushi = Student(\"Rushi\",[78,45,90])\n",
    "ram = Student(\"Ram\",[13,16,9])\n",
    "sanjay = Student(\"Sanjay\",[79,95,85])\n",
    "mani = Student(\"Mani\",[89,97,90])\n",
    "\n",
    "rushi.result()\n",
    "ram.result()\n",
    "sanjay.result()\n",
    "mani.result()"
   ]
  },
  {
   "cell_type": "code",
   "execution_count": null,
   "id": "cdb7f434",
   "metadata": {},
   "outputs": [],
   "source": [
    "class BankAccount:\n",
    "    def __init__(self,username,balance):\n",
    "        self.username = username\n",
    "        self.balance = balance\n",
    "    def deposit(self,amount):\n",
    "        self.balance += amount\n",
    "        print(f\"{amount} is deposited\")\n",
    "    def withdraw(self,amount):\n",
    "        if self.balance >= amount:\n",
    "            self.balance -= amount\n",
    "            print(f\"{amount} is withdraw\")\n",
    "        else:\n",
    "            print(f\"Insufficient Balance\")\n",
    "    def displayBalance(self):\n",
    "        print(f\"{self.username} your current balance is {self.balance}\")\n",
    "\n",
    "\n",
    "kumar = BankAccount('Kumar',8907)\n",
    "ranjit = BankAccount('Ranjit',9736)\n",
    "kumar.deposit(7659)\n",
    "kumar.withdraw(7665)\n",
    "kumar.displayBalance()\n"
   ]
  },
  {
   "cell_type": "code",
   "execution_count": null,
   "id": "94f17a47",
   "metadata": {},
   "outputs": [
    {
     "name": "stdout",
     "output_type": "stream",
     "text": [
      "Student Name: Rahul, Roll No: 101\n",
      "Student Name: Anjali, Roll No: 102\n",
      "Student Name: Tarak, Roll No: 103\n"
     ]
    }
   ],
   "source": [
    "class Student:\n",
    "    def __init__(self, name, roll_no):\n",
    "        self.name = name\n",
    "        self.roll_no = roll_no\n",
    "    \n",
    "    def display(self):\n",
    "        print(f\"Student Name: {self.name}, Roll No: {self.roll_no}\")\n",
    "\n",
    "# Create objects\n",
    "s1 = Student(\"Rahul\", 101)\n",
    "s2 = Student(\"Anjali\", 102)\n",
    "tarak = Student(\"Tarak\",103)\n",
    "\n",
    "\n",
    "s1.display()\n",
    "s2.display()\n",
    "tarak.display()"
   ]
  },
  {
   "cell_type": "code",
   "execution_count": null,
   "id": "80cbfa38",
   "metadata": {},
   "outputs": [
    {
     "name": "stdout",
     "output_type": "stream",
     "text": [
      "Insufficient amount\n"
     ]
    }
   ],
   "source": [
    "class Bank:\n",
    "    def __init__(self,name,amount):\n",
    "        self.name = name\n",
    "        self.amount = amount\n",
    "    def display(self):\n",
    "        print(f\"Username:{self.name}\\nBalance:{self.amount}\")\n",
    "    def deposit(self,amount):\n",
    "        if amount > 0:\n",
    "            self.amount += amount\n",
    "            print(f\"{self.name} Successfuly amount deposit {amount}\\nCurrent Balance: {self.amount}\")\n",
    "        else:\n",
    "            print(\"Invalid amount\")\n",
    "    def withdraw(self,amount):\n",
    "        if amount > 0:\n",
    "            if self.amount >= amount:\n",
    "                self.amount -= amount\n",
    "                print(f\"{self.name} Successfuly amount withdraw {amount}\\nCurrent Balance: {self.amount}\")\n",
    "            else:\n",
    "                print(\"Insufficient amount\")\n",
    "        else:\n",
    "            print(\"Invalid amount\")\n",
    "        \n",
    "\n",
    "\n",
    "tarak = Bank('Tarak',1000)\n",
    "gopal = Bank('Gopal',900)\n",
    "arun = Bank('Arun',10000)\n",
    "mohit = Bank('Mohit',800)\n"
   ]
  },
  {
   "cell_type": "code",
   "execution_count": null,
   "id": "36bc9731",
   "metadata": {},
   "outputs": [],
   "source": [
    "class BankAccount:\n",
    "    def __init__(self, account_holder, balance):\n",
    "        self.account_holder = account_holder\n",
    "        self.__balance = balance  # private variable\n",
    "\n",
    "    def deposit(self, amount): # setter method\n",
    "        if amount > 0:\n",
    "            self.__balance += amount\n",
    "            print(f\"Deposited ₹{amount}. New Balance: ₹{self.__balance}\")\n",
    "\n",
    "    def withdraw(self, amount): # setter method\n",
    "        if 0 < amount <= self.__balance:\n",
    "            self.__balance -= amount\n",
    "            print(f\"Withdrawn ₹{amount}. Remaining Balance: ₹{self.__balance}\")\n",
    "        else:\n",
    "            print(\"Insufficient balance!\")\n",
    "\n",
    "    def get_balance(self): #getter method\n",
    "        return self.__balance\n",
    "\n",
    "# Usage\n",
    "acc = BankAccount(\"Leela\", 1000)\n",
    "acc.deposit(500)\n",
    "acc.withdraw(300)\n",
    "print(\"Final Balance:\", acc.get_balance())\n"
   ]
  },
  {
   "cell_type": "code",
   "execution_count": 15,
   "id": "a282e706",
   "metadata": {},
   "outputs": [
    {
     "name": "stdout",
     "output_type": "stream",
     "text": [
      "Annual Salary: 4200000\n"
     ]
    }
   ],
   "source": [
    "class Employee:\n",
    "    def __init__(self,name,base_salary):\n",
    "        self.name = name\n",
    "        self.base_salary = base_salary\n",
    "    def calculate_annual_salary(self):\n",
    "        return self.base_salary * 12\n",
    "obj = Employee('Jhon',350000)\n",
    "print(\"Annual Salary:\",obj.calculate_annual_salary())"
   ]
  },
  {
   "cell_type": "code",
   "execution_count": 17,
   "id": "3b03b135",
   "metadata": {},
   "outputs": [
    {
     "name": "stdout",
     "output_type": "stream",
     "text": [
      "Pass\n"
     ]
    }
   ],
   "source": [
    "class Student:\n",
    "    def __init__(self,name,marks):\n",
    "        self.name = name\n",
    "        self.marks = marks\n",
    "    def is_passed(self):\n",
    "        avg_marks = sum(self.marks)/len(self.marks)\n",
    "        return avg_marks >= 40\n",
    "\n",
    "s1 = Student('Tarak',[50,40,98])\n",
    "if s1.is_passed():\n",
    "    print('Pass')\n",
    "else:\n",
    "    print('Fail')"
   ]
  },
  {
   "cell_type": "code",
   "execution_count": 19,
   "id": "67a05781",
   "metadata": {},
   "outputs": [
    {
     "name": "stdout",
     "output_type": "stream",
     "text": [
      "1000 deposit to your account.\n",
      "Update balance: 1000\n",
      "700 withdraw from your account.\n",
      "Update balance: 300\n",
      "Kalyan Your account balance is 300\n"
     ]
    }
   ],
   "source": [
    "class BankAccount:\n",
    "    def __init__(self,user):\n",
    "        self.user = user\n",
    "        self.balance = 0\n",
    "    def deposit(self,amount):\n",
    "        if amount > 0:\n",
    "            self.balance += amount\n",
    "            print(f'{amount} deposit to your account.\\nUpdate balance: {self.balance}')\n",
    "        else:\n",
    "            print(\"Invalid amount\")\n",
    "    def withdraw(self,amount):\n",
    "        if amount > 0:\n",
    "            if self.balance >= amount:\n",
    "                self.balance -= amount\n",
    "                print(f\"{amount} withdraw from your account.\\nUpdate balance: {self.balance}\")\n",
    "            else:\n",
    "                print(\"Insufficient Balance\")\n",
    "        else:\n",
    "            print(\"Invalid amount\")\n",
    "    def display(self):\n",
    "        print(f\"{self.user} Your account balance is {self.balance}\")\n",
    "\n",
    "obj = BankAccount('Kalyan')\n",
    "obj.deposit(1000)\n",
    "obj.withdraw(700)\n",
    "obj.display()"
   ]
  },
  {
   "cell_type": "markdown",
   "id": "b9bf46b8",
   "metadata": {},
   "source": [
    "#### Create a Car class with method to update and show odometer after driving."
   ]
  },
  {
   "cell_type": "code",
   "execution_count": 20,
   "id": "fed1c27f",
   "metadata": {},
   "outputs": [
    {
     "name": "stdout",
     "output_type": "stream",
     "text": [
      "Odometer readings 75KM\n"
     ]
    }
   ],
   "source": [
    "class Car:\n",
    "    def __init__(self,name,model):\n",
    "        self.name = name\n",
    "        self.model = model\n",
    "        self.odometer = 0\n",
    "    def drive(self,km):\n",
    "        self.odometer += km\n",
    "    def show_odometer(self):\n",
    "        print(f\"Odometer readings {self.odometer}KM\")\n",
    "\n",
    "obj = Car(\"Toyota\",\"Inova\")\n",
    "\n",
    "obj.drive(50)\n",
    "obj.drive(25)\n",
    "\n",
    "obj.show_odometer()\n"
   ]
  },
  {
   "cell_type": "markdown",
   "id": "0534851c",
   "metadata": {},
   "source": [
    "#### Create a Movie class with method to check if movie is suitable for kids"
   ]
  },
  {
   "cell_type": "code",
   "execution_count": 23,
   "id": "39030f6e",
   "metadata": {},
   "outputs": [
    {
     "name": "stdout",
     "output_type": "stream",
     "text": [
      "Family Friendly: True\n"
     ]
    }
   ],
   "source": [
    "class Movie:\n",
    "    def __init__(self,title,genre,age):\n",
    "        self.title = title\n",
    "        self.genre = genre\n",
    "        self.age_to_watch = age\n",
    "    def is_family_friendly(self):\n",
    "        return self.age_to_watch < 13\n",
    "\n",
    "obj = Movie(\"Finding Nemo\",\"Animation\",8)\n",
    "print(\"Family Friendly:\",obj.is_family_friendly())"
   ]
  },
  {
   "cell_type": "markdown",
   "id": "b7dc0a6b",
   "metadata": {},
   "source": [
    "#### Create Product class with discount application logic"
   ]
  },
  {
   "cell_type": "code",
   "execution_count": 24,
   "id": "2948c402",
   "metadata": {},
   "outputs": [
    {
     "name": "stdout",
     "output_type": "stream",
     "text": [
      "price after discount: 22500.0\n"
     ]
    }
   ],
   "source": [
    "class Product:\n",
    "    def __init__(self,name,price):\n",
    "        self.name = name\n",
    "        self.price = price\n",
    "    def discount(self,dis):\n",
    "        self.dis_price = self.price*dis/100\n",
    "        return f\"price after discount: {self.price - self.dis_price}\"\n",
    "\n",
    "obj = Product('Mobile',25000)\n",
    "print(obj.discount(10))"
   ]
  },
  {
   "cell_type": "code",
   "execution_count": 10,
   "id": "f6736812",
   "metadata": {},
   "outputs": [
    {
     "name": "stdout",
     "output_type": "stream",
     "text": [
      "Name: Arun,Age: 20\n",
      "Total Students: 3\n",
      "True\n"
     ]
    }
   ],
   "source": [
    "class Students:\n",
    "    total_students = 0   # Class variable shared by all objects\n",
    "\n",
    "    def __init__(self, name, age):\n",
    "        self.name = name\n",
    "        self.age = age\n",
    "        Students.total_students += 1   # Increment whenever a new object is created\n",
    "    \n",
    "    def display(self):\n",
    "        print(f\"Name: {self.name},Age: {self.age}\")\n",
    "\n",
    "    @classmethod\n",
    "    def get_total_students(cls):\n",
    "        print(f\"Total Students: {cls.total_students}\")\n",
    "    @staticmethod\n",
    "    def is_eligible(age):\n",
    "        return age > 18 and age < 30\n",
    "\n",
    "\n",
    "# Creating students\n",
    "s1 = Students(\"Arun\", 20)\n",
    "s2 = Students(\"Kiran\", 22)\n",
    "s3 = Students(\"Mohan\", 19)\n",
    "\n",
    "s1.display()\n",
    "Students.get_total_students()\n",
    "print(Students.is_eligible(25))\n",
    "\n",
    "\n"
   ]
  },
  {
   "cell_type": "code",
   "execution_count": null,
   "id": "bd68fcf0",
   "metadata": {},
   "outputs": [
    {
     "name": "stdout",
     "output_type": "stream",
     "text": [
      "5000\n",
      "1500\n"
     ]
    }
   ],
   "source": [
    "class Account:\n",
    "    def __init__(self,user,pin,balance=0):\n",
    "        self.user = user\n",
    "        self.__pin = pin\n",
    "        self._balance = balance\n",
    "    def deposit(self,amount):\n",
    "        self._balance += amount\n",
    "        print(amount)\n",
    "    def withdraw(self,pin,amount):\n",
    "        self._balance -= amount\n",
    "        print(amount)\n",
    "acc = Account(\"Ravi\", 1234)\n",
    "acc.deposit(5000)\n",
    "acc.withdraw(acc.get(),1500)"
   ]
  },
  {
   "cell_type": "code",
   "execution_count": null,
   "id": "39632999",
   "metadata": {},
   "outputs": [],
   "source": []
  }
 ],
 "metadata": {
  "kernelspec": {
   "display_name": "myenv",
   "language": "python",
   "name": "python3"
  },
  "language_info": {
   "codemirror_mode": {
    "name": "ipython",
    "version": 3
   },
   "file_extension": ".py",
   "mimetype": "text/x-python",
   "name": "python",
   "nbconvert_exporter": "python",
   "pygments_lexer": "ipython3",
   "version": "3.13.5"
  }
 },
 "nbformat": 4,
 "nbformat_minor": 5
}
