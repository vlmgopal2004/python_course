{
 "cells": [
  {
   "cell_type": "markdown",
   "id": "bd2f812e",
   "metadata": {},
   "source": [
    "#### Q1. The Birthday Format Fixer"
   ]
  },
  {
   "cell_type": "code",
   "execution_count": 9,
   "id": "5a6dca8a",
   "metadata": {},
   "outputs": [
    {
     "name": "stdout",
     "output_type": "stream",
     "text": [
      "17-07-2025\n",
      "2025/07/17\n"
     ]
    }
   ],
   "source": [
    "\n",
    "s = input()\n",
    "l = s.split('-')\n",
    "l.reverse()\n",
    "print(s)\n",
    "print('/'.join(l))\n"
   ]
  },
  {
   "cell_type": "markdown",
   "id": "7b0ae945",
   "metadata": {},
   "source": [
    "#### Q2. The Even Odd Game\n"
   ]
  },
  {
   "cell_type": "code",
   "execution_count": 11,
   "id": "2929b3e1",
   "metadata": {},
   "outputs": [
    {
     "name": "stdout",
     "output_type": "stream",
     "text": [
      "35\n",
      "Odd Winner\n"
     ]
    }
   ],
   "source": [
    "n = int(input())\n",
    "print(n)\n",
    "if n%2 == 0:\n",
    "    print(\"Even Winner\")\n",
    "else:\n",
    "    print(\"Odd Winner\")\n"
   ]
  },
  {
   "cell_type": "markdown",
   "id": "41c8591c",
   "metadata": {},
   "source": [
    "#### Q3. Vowel Replacer Bot"
   ]
  },
  {
   "cell_type": "code",
   "execution_count": 12,
   "id": "045fefad",
   "metadata": {},
   "outputs": [
    {
     "name": "stdout",
     "output_type": "stream",
     "text": [
      "hello world\n",
      "h*ll* w*rld\n"
     ]
    }
   ],
   "source": [
    "s = input()\n",
    "print(s)\n",
    "v = ['a','e','i','o','u','A','E','I','O','U']\n",
    "for i in s:\n",
    "    if i in v:\n",
    "        s = s.replace(i,'*')\n",
    "print(s)"
   ]
  },
  {
   "cell_type": "markdown",
   "id": "d31405fb",
   "metadata": {},
   "source": [
    "#### Q4. Shoping Cart Analyzer\n"
   ]
  },
  {
   "cell_type": "code",
   "execution_count": 15,
   "id": "84a17af5",
   "metadata": {},
   "outputs": [
    {
     "name": "stdout",
     "output_type": "stream",
     "text": [
      "[10.5, 20.0, 5.5]\n",
      "36.0\n",
      "20.0\n"
     ]
    }
   ],
   "source": [
    "n = list(map(float, input().split()))\n",
    "print(n)\n",
    "print(sum(n))\n",
    "print(max(n))\n"
   ]
  },
  {
   "cell_type": "markdown",
   "id": "0ee02363",
   "metadata": {},
   "source": [
    "#### Q5. Secure Login System"
   ]
  },
  {
   "cell_type": "code",
   "execution_count": 16,
   "id": "017be92c",
   "metadata": {},
   "outputs": [
    {
     "name": "stdout",
     "output_type": "stream",
     "text": [
      "Login Successful\n"
     ]
    }
   ],
   "source": [
    "credentials = (\"admin\", \"python123\")\n",
    "username = input()\n",
    "password = input()\n",
    "if credentials[0] == username and credentials[1] == password:\n",
    "    print(\"Login Successful\")\n",
    "else:\n",
    "    print(\"Access Denied\")"
   ]
  },
  {
   "cell_type": "markdown",
   "id": "fc7a174c",
   "metadata": {},
   "source": [
    "#### Remove Duplicates from Sets"
   ]
  },
  {
   "cell_type": "code",
   "execution_count": 35,
   "id": "5cd14a49",
   "metadata": {},
   "outputs": [
    {
     "name": "stdout",
     "output_type": "stream",
     "text": [
      "['Asha', 'Jhon', 'Ravi']\n"
     ]
    }
   ],
   "source": [
    "s = set(input().split(','))\n",
    "lis = list(s)\n",
    "\n",
    "print(sorted(lis))"
   ]
  },
  {
   "cell_type": "markdown",
   "id": "305f616c",
   "metadata": {},
   "source": [
    "#### Q7. Student Marks Record"
   ]
  },
  {
   "cell_type": "code",
   "execution_count": 43,
   "id": "83a88214",
   "metadata": {},
   "outputs": [
    {
     "name": "stdout",
     "output_type": "stream",
     "text": [
      "{'Ravi': 85, 'Anu': 90, 'Sita': 88}\n",
      "Anu\n"
     ]
    }
   ],
   "source": [
    "n = int(input())\n",
    "d = dict()\n",
    "for i in range(n):\n",
    "    student, marks = input().split()\n",
    "    marks = int(marks)\n",
    "    d[student] = marks\n",
    "print(d)\n",
    "t = max(d, key=d.get)\n",
    "print(t)"
   ]
  },
  {
   "cell_type": "markdown",
   "id": "f5aff792",
   "metadata": {},
   "source": [
    "#### Q8. Reverse My Words"
   ]
  },
  {
   "cell_type": "code",
   "execution_count": 113,
   "id": "0fd0766c",
   "metadata": {},
   "outputs": [
    {
     "name": "stdout",
     "output_type": "stream",
     "text": [
      "olleh dlrow \n",
      "olleh dlrow\n"
     ]
    }
   ],
   "source": [
    "s = input()\n",
    "words = s.split()\n",
    "r_word = ''\n",
    "\n",
    "for word in words:\n",
    "    r_word = r_word + (word[::-1])\n",
    "    r_word = r_word + \" \"\n",
    "print(r_word)\n",
    "\n",
    "#or\n",
    "rs_word = [w[::-1] for w in words]\n",
    "print(' '.join(rs_word))\n",
    "\n"
   ]
  },
  {
   "cell_type": "code",
   "execution_count": null,
   "id": "486b955d",
   "metadata": {},
   "outputs": [],
   "source": []
  },
  {
   "cell_type": "markdown",
   "id": "31e9e68e",
   "metadata": {},
   "source": [
    "#### Q9. Clean My list"
   ]
  },
  {
   "cell_type": "code",
   "execution_count": 121,
   "id": "fdd4c9fb",
   "metadata": {},
   "outputs": [
    {
     "name": "stdout",
     "output_type": "stream",
     "text": [
      "[10, 5, 3]\n"
     ]
    }
   ],
   "source": [
    "numbers = input().split()\n",
    "clean_lis=[]\n",
    "n = len(numbers)\n",
    "for i in range(n):\n",
    "    if int(numbers[i]) != 0:\n",
    "        clean_lis.append(int(numbers[i]))\n",
    "print(clean_lis)"
   ]
  },
  {
   "cell_type": "markdown",
   "id": "447cf379",
   "metadata": {},
   "source": [
    "#### Q10. The Frequency Counter\n"
   ]
  },
  {
   "cell_type": "code",
   "execution_count": 2,
   "id": "8a52f1cc",
   "metadata": {},
   "outputs": [
    {
     "name": "stdout",
     "output_type": "stream",
     "text": [
      "{'h': 1, 'e': 1, 'l': 3, 'o': 2, 'w': 1, 'r': 1, 'd': 1}\n"
     ]
    }
   ],
   "source": [
    "string = input()\n",
    "d = {}\n",
    "for i in string:\n",
    "    if i not in d and i != ' ':\n",
    "        d[i] = (string.count(i))\n",
    "print(d)"
   ]
  },
  {
   "cell_type": "code",
   "execution_count": null,
   "id": "2d0e0f4b",
   "metadata": {},
   "outputs": [],
   "source": []
  }
 ],
 "metadata": {
  "kernelspec": {
   "display_name": "myenv",
   "language": "python",
   "name": "python3"
  },
  "language_info": {
   "codemirror_mode": {
    "name": "ipython",
    "version": 3
   },
   "file_extension": ".py",
   "mimetype": "text/x-python",
   "name": "python",
   "nbconvert_exporter": "python",
   "pygments_lexer": "ipython3",
   "version": "3.13.5"
  }
 },
 "nbformat": 4,
 "nbformat_minor": 5
}
