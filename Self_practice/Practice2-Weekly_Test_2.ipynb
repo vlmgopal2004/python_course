{
 "cells": [
  {
   "cell_type": "markdown",
   "id": "f8d04f02",
   "metadata": {},
   "source": [
    "# Python Weekly Assignment - 2"
   ]
  },
  {
   "cell_type": "markdown",
   "id": "7e7d8867",
   "metadata": {},
   "source": [
    "#### Q1. Sutomsted Salary Tak Calculator"
   ]
  },
  {
   "cell_type": "code",
   "execution_count": 1,
   "id": "ad888615",
   "metadata": {},
   "outputs": [
    {
     "name": "stdout",
     "output_type": "stream",
     "text": [
      "15000.0\n"
     ]
    }
   ],
   "source": [
    "salary = float(input())\n",
    "tax_amount = 0\n",
    "if salary < 250000:\n",
    "    print(\"No Tax\")\n",
    "elif salary >= 250001 and salary <= 500000:\n",
    "    tax_amount = salary * 5/100\n",
    "    print(tax_amount)\n",
    "elif salary >= 500001 and salary <= 1000000:\n",
    "    tax_amount = salary * 20/100\n",
    "    print(tax_amount)\n",
    "elif salary > 1000000:\n",
    "    tax_amount = salary * 30/100\n",
    "    print(tax_amount)"
   ]
  },
  {
   "cell_type": "markdown",
   "id": "86d3201c",
   "metadata": {},
   "source": [
    "#### Q2. Movie Ticket Pricing System\n"
   ]
  },
  {
   "cell_type": "code",
   "execution_count": 2,
   "id": "6e5583f0",
   "metadata": {},
   "outputs": [
    {
     "name": "stdout",
     "output_type": "stream",
     "text": [
      "300\n"
     ]
    }
   ],
   "source": [
    "n = int(input())\n",
    "sum = 0\n",
    "for i in range(n):\n",
    "    age = int(input())\n",
    "    if age < 5:\n",
    "        pass\n",
    "    elif age >= 5 and age <= 18:\n",
    "        sum += 100\n",
    "    elif age >= 19 and age <= 60:\n",
    "        sum += 150\n",
    "    elif age == 60:\n",
    "        sum += 120\n",
    "print(sum)"
   ]
  },
  {
   "cell_type": "markdown",
   "id": "1c58581e",
   "metadata": {},
   "source": [
    "#### Q3.Electricity Bill Generator"
   ]
  },
  {
   "cell_type": "code",
   "execution_count": null,
   "id": "7be8bc46",
   "metadata": {},
   "outputs": [],
   "source": [
    "units = int(input())\n",
    "bill = 0\n",
    "if units < 100:\n",
    "    bill += units * 1.5\n",
    "    print(bill)\n",
    "elif units > 100 and units <= 200:\n",
    "    bill += 150+(units-100) * 2.5\n",
    "    print(bill)\n",
    "elif units > 200 and units <= 500:\n",
    "    bill += 400+(units-200) * 4\n",
    "    print(bill)\n",
    "elif units > 500:\n",
    "    bill += 1600+(units-500) * 6\n",
    "    print(bill)\n"
   ]
  },
  {
   "cell_type": "markdown",
   "id": "36f449fa",
   "metadata": {},
   "source": [
    "#### Q4. Car Parking Fee Calculator"
   ]
  },
  {
   "cell_type": "code",
   "execution_count": 4,
   "id": "f4c4893c",
   "metadata": {},
   "outputs": [
    {
     "name": "stdout",
     "output_type": "stream",
     "text": [
      "40\n"
     ]
    }
   ],
   "source": [
    "hours = int(input())\n",
    "ex_hours = 0\n",
    "if hours == 2:\n",
    "    print(30)\n",
    "elif hours > 2 and hours < 24:\n",
    "    ex_hours = hours - 2\n",
    "    print(30 + ex_hours * 10)\n",
    "elif hours == 24:\n",
    "    print(200)"
   ]
  },
  {
   "cell_type": "markdown",
   "id": "1e04fd39",
   "metadata": {},
   "source": [
    "#### Q5. Product Inventory Checker "
   ]
  },
  {
   "cell_type": "code",
   "execution_count": null,
   "id": "d7ea2960",
   "metadata": {},
   "outputs": [],
   "source": [
    "p_name = input\n",
    "quantity = int(input())\n",
    "if quantity == 0:\n",
    "    print(f\"{p_name}: Out of Stock\")\n",
    "elif quantity > 0 and quantity <= 10:\n",
    "    print(f\"{p_name}: Low Stock\")\n",
    "elif quantity > 10 and quantity <= 50:\n",
    "    print(f\"{p_name}: In Stock\")\n",
    "elif quantity > 50:\n",
    "    print(f\"{p_name}: OverStock\")"
   ]
  },
  {
   "cell_type": "markdown",
   "id": "8ade62a5",
   "metadata": {},
   "source": [
    "#### Pattern - Row-wise Alternating 0 and 1"
   ]
  },
  {
   "cell_type": "code",
   "execution_count": 7,
   "id": "814c9f57",
   "metadata": {},
   "outputs": [
    {
     "name": "stdout",
     "output_type": "stream",
     "text": [
      "0 1 0 1 \n",
      "1 0 1 0 \n",
      "0 1 0 1 \n",
      "1 0 1 0 \n"
     ]
    }
   ],
   "source": [
    "n = int(input())\n",
    "for row in range(n):\n",
    "    for col in range(n):\n",
    "        if (row+col) % 2 == 0:\n",
    "            print(\"0\", end=\" \")\n",
    "        else:\n",
    "            print(\"1\", end=\" \")\n",
    "    print()"
   ]
  },
  {
   "cell_type": "markdown",
   "id": "639cb807",
   "metadata": {},
   "source": [
    "#### Q7. Gym Subscription Billing"
   ]
  },
  {
   "cell_type": "code",
   "execution_count": null,
   "id": "84abedc8",
   "metadata": {},
   "outputs": [],
   "source": [
    "amount = 0\n",
    "while True:\n",
    "    print('''1. Monthly-₹500\n",
    "             2. Quarterly-₹1300\n",
    "             3. Yearly-₹5000''')\n",
    "    choice = int(input())\n",
    "    no_people = int(input())\n",
    "    if choice == 1:\n",
    "        amount = no_people * 500\n",
    "        print(amount)\n",
    "    elif choice == 2:\n",
    "        amount = no_people * 1300\n",
    "        print(amount)\n",
    "    elif choice == 3:\n",
    "        amount == no_people * 5000\n",
    "        print(amount)\n",
    "    elif choice > 3:\n",
    "        break\n",
    "\n",
    "    "
   ]
  },
  {
   "cell_type": "markdown",
   "id": "29662075",
   "metadata": {},
   "source": [
    "#### Q8. Billing Bot"
   ]
  },
  {
   "cell_type": "code",
   "execution_count": null,
   "id": "eb5ec14d",
   "metadata": {},
   "outputs": [],
   "source": [
    "amount = float(input())\n",
    "dis_amount = 0\n",
    "if amount < 1000:\n",
    "    print(amount)\n",
    "elif amount >= 1000 and amount <= 4999:\n",
    "    dis_amount = amount * 5/100\n",
    "    print(amount-dis_amount)\n",
    "elif amount >= 5000 and amount <= 9999:\n",
    "    dis_amount = amount * 10/100\n",
    "    print(amount-dis_amount)\n",
    "elif amount > 10000:\n",
    "    dis_amount = amount * 15/100\n",
    "    print(amount-dis_amount)"
   ]
  },
  {
   "cell_type": "markdown",
   "id": "25e8eb6a",
   "metadata": {},
   "source": [
    "#### Q9. ATM PIN Verification with Blocking Logic"
   ]
  },
  {
   "cell_type": "code",
   "execution_count": null,
   "id": "a0bcd5e2",
   "metadata": {},
   "outputs": [],
   "source": [
    "stored_pin = 1234\n",
    "max_att = 3\n",
    "for _ in range(3):\n",
    "    pin = int(input())\n",
    "    if pin == stored_pin:\n",
    "        print(\"Access Granted\")\n",
    "        break\n",
    "else:\n",
    "    print(\"ATM Blocked. Try Again Later.\")"
   ]
  },
  {
   "cell_type": "markdown",
   "id": "1618afc6",
   "metadata": {},
   "source": [
    "#### Q10. Bus Booking System- Track full and Empty Seats"
   ]
  },
  {
   "cell_type": "code",
   "execution_count": 8,
   "id": "baa7680a",
   "metadata": {},
   "outputs": [
    {
     "name": "stdout",
     "output_type": "stream",
     "text": [
      "Total Seats: 4\n",
      "Booked Seats: 1\n",
      "Available: 3\n"
     ]
    }
   ],
   "source": [
    "total_seats = int(input())\n",
    "booked_seats = list(map(int, input().split()))\n",
    "print(f\"Total Seats: {total_seats}\")\n",
    "print(f\"Booked Seats: {len(booked_seats)}\")\n",
    "print(f\"Available: {total_seats - len(booked_seats)}\")"
   ]
  },
  {
   "cell_type": "code",
   "execution_count": null,
   "id": "e3e92562",
   "metadata": {},
   "outputs": [],
   "source": []
  }
 ],
 "metadata": {
  "kernelspec": {
   "display_name": "myenv",
   "language": "python",
   "name": "python3"
  },
  "language_info": {
   "codemirror_mode": {
    "name": "ipython",
    "version": 3
   },
   "file_extension": ".py",
   "mimetype": "text/x-python",
   "name": "python",
   "nbconvert_exporter": "python",
   "pygments_lexer": "ipython3",
   "version": "3.13.5"
  }
 },
 "nbformat": 4,
 "nbformat_minor": 5
}
