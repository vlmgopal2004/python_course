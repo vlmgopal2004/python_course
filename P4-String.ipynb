{
 "cells": [
  {
   "cell_type": "markdown",
   "id": "a211f234",
   "metadata": {},
   "source": [
    "#Declaring String"
   ]
  },
  {
   "cell_type": "code",
   "execution_count": 15,
   "id": "405abb2d",
   "metadata": {},
   "outputs": [
    {
     "name": "stdout",
     "output_type": "stream",
     "text": [
      "Kalyan\n",
      "Musthafa\n",
      "My name is Leela Manikanta Gopal, Iam working on python.\n",
      "I join in this course on 23/06/2025\n"
     ]
    }
   ],
   "source": [
    "s1 = 'Kalyan'\n",
    "s2 = \"Musthafa\"\n",
    "s3 = '''My name is Leela Manikanta Gopal, Iam working on python.\n",
    "I join in this course on 23/06/2025'''\n",
    "print(s1)\n",
    "print(s2)\n",
    "print(s3)"
   ]
  },
  {
   "cell_type": "markdown",
   "id": "bd0e9682",
   "metadata": {},
   "source": [
    "#Built-in String Functions"
   ]
  },
  {
   "cell_type": "code",
   "execution_count": 33,
   "id": "772536ab",
   "metadata": {},
   "outputs": [
    {
     "name": "stdout",
     "output_type": "stream",
     "text": [
      "length of string(len()): 92\n",
      "Max char on string(max()): y\n",
      "Min char on string(min()) K\n"
     ]
    }
   ],
   "source": [
    "#length\n",
    "print('length of string(len()):',len(s3))\n",
    "#max\n",
    "print('Max char on string(max()):',max(s1))\n",
    "#min\n",
    "print(\"Min char on string(min())\",min(s1))\n",
    "\n",
    "\n"
   ]
  },
  {
   "cell_type": "markdown",
   "id": "35bc4e8d",
   "metadata": {},
   "source": [
    "#Case Conversion Methods"
   ]
  },
  {
   "cell_type": "code",
   "execution_count": 16,
   "id": "118d3bde",
   "metadata": {},
   "outputs": [
    {
     "name": "stdout",
     "output_type": "stream",
     "text": [
      "Upper(): KALYAN\n",
      "lower(): musthafa\n",
      "ramya is one of friend\n",
      "capitalize(): Ramya is one of friend\n",
      "title(): Ramya Is One Of Friend\n",
      "swapcase(): rAMYA iS oNE oF fRIEND\n"
     ]
    }
   ],
   "source": [
    "#Upper\n",
    "string = s1.upper()\n",
    "print('Upper():',string)\n",
    "#Lower\n",
    "string1 = s2.lower()\n",
    "print('lower():',string1)\n",
    "\n",
    "s4 = 'ramya is one of friend'\n",
    "print(s4)\n",
    "#Capitalize\n",
    "string2 = s4.capitalize()\n",
    "print('capitalize():',string2)\n",
    "#title\n",
    "string3 = s4.title()\n",
    "print('title():',string3)\n",
    "\n",
    "#swapcase\n",
    "print('swapcase():',string3.swapcase())"
   ]
  },
  {
   "cell_type": "markdown",
   "id": "a6d487e2",
   "metadata": {},
   "source": [
    "#Alignment & Formatting Methods"
   ]
  },
  {
   "cell_type": "code",
   "execution_count": 4,
   "id": "d92bdb8f",
   "metadata": {},
   "outputs": [
    {
     "name": "stdout",
     "output_type": "stream",
     "text": [
      "center(): ============Kalyan============\n",
      "ljust(): Kalyan------------------------\n",
      "rjust(): ........................Kalyan\n",
      "zfill(): 00056\n",
      "\n"
     ]
    }
   ],
   "source": [
    "#Center\n",
    "print('center():',s1.center(30,'='))\n",
    "#ljust\n",
    "print('ljust():',s1.ljust(30,'-'))\n",
    "#rjust\n",
    "print('rjust():',s1.rjust(30,'.'))\n",
    "#zfill\n",
    "print('zfill():','56'.zfill(5))\n",
    "#format\n",
    "print()"
   ]
  },
  {
   "cell_type": "markdown",
   "id": "0d6224c0",
   "metadata": {},
   "source": [
    "#Search & Find Methods"
   ]
  },
  {
   "cell_type": "code",
   "execution_count": 5,
   "id": "7a6b1bbe",
   "metadata": {},
   "outputs": [
    {
     "name": "stdout",
     "output_type": "stream",
     "text": [
      "find(): 1\n",
      "rfind(): 4\n",
      "index(): 0\n",
      "count(): 2\n"
     ]
    }
   ],
   "source": [
    "#find\n",
    "print('find():',s4.find('a'))\n",
    "#rfind\n",
    "print('rfind():',s4.rfind('a'))\n",
    "#index\n",
    "print('index():',s4.index('r'))\n",
    "#count\n",
    "print('count():',s3.count('m'))"
   ]
  },
  {
   "cell_type": "markdown",
   "id": "059eeb4e",
   "metadata": {},
   "source": [
    "#String Testing Methods (Boolean Results)"
   ]
  },
  {
   "cell_type": "code",
   "execution_count": 6,
   "id": "650ca0be",
   "metadata": {},
   "outputs": [
    {
     "name": "stdout",
     "output_type": "stream",
     "text": [
      "startswith():\n",
      "pfs20\n",
      "pfs30\n",
      "pfs22\n",
      "endswitch():\n",
      "demo.png\n",
      "image.png\n",
      "isalpha(): False\n",
      "isdigit(): True\n",
      "isalnum(): True\n",
      "islower(): True\n",
      "isupper(): True\n",
      "isspace(): False\n",
      "istitle(): True\n",
      "isdecimal(): False\n",
      "isnumric(): True\n",
      "isidentifier(): False\n"
     ]
    }
   ],
   "source": [
    "#startswith\n",
    "l = ['pfs20','pfs30','jfs22','ds40','pfs22']\n",
    "print('startswith():')\n",
    "for i in l:\n",
    "    if i.startswith('pfs'):\n",
    "        print(i)\n",
    "\n",
    "\n",
    "\n",
    "\n",
    "#endswitch\n",
    "l1 = ['demo.png','resume.pdf','index.webp','ass.py','mul.py','image.png']\n",
    "print('endswitch():')\n",
    "for i in l1:\n",
    "    if i.endswith('png'):\n",
    "        print(i)\n",
    "\n",
    "\n",
    "#isalpha\n",
    "print('isalpha():',s3.isalpha())\n",
    "#isdigit\n",
    "print('isdigit():','123'.isdigit())\n",
    "#isalnum\n",
    "print('isalnum():','mani123'.isalnum())\n",
    "#islower\n",
    "print('islower():',string1.islower())\n",
    "#isupper\n",
    "print('isupper():',string.isupper())\n",
    "#isspace\n",
    "print('isspace():',s3.isspace())\n",
    "#istitle\n",
    "print('istitle():',string3.istitle())\n",
    "#isdecimal\n",
    "print('isdecimal():','1.33'.isdecimal())\n",
    "#isnumric\n",
    "print('isnumric():','123'.isnumeric())\n",
    "#isidentifier\n",
    "print('isidentifier():',s3.isidentifier())"
   ]
  },
  {
   "cell_type": "markdown",
   "id": "ee060d9d",
   "metadata": {},
   "source": [
    "#Replace & Modify Methods"
   ]
  },
  {
   "cell_type": "code",
   "execution_count": null,
   "id": "376cd2e9",
   "metadata": {},
   "outputs": [
    {
     "name": "stdout",
     "output_type": "stream",
     "text": [
      "replace(): musthafa is one of friend\n",
      "translate(): abcdef\n"
     ]
    }
   ],
   "source": [
    "#replace\n",
    "string4 = s4.replace('ramya','musthafa')\n",
    "print('replace():',string4)\n",
    "#translate\n",
    "print('translate():','abcdef'.translate('******'))\n",
    "#maketrans\n",
    "print('maketrans()',s1.translate(str.maketrans()))"
   ]
  },
  {
   "cell_type": "markdown",
   "id": "a6088712",
   "metadata": {},
   "source": [
    "#Splitting & Joining Methods"
   ]
  },
  {
   "cell_type": "code",
   "execution_count": 34,
   "id": "e978a5d6",
   "metadata": {},
   "outputs": [
    {
     "name": "stdout",
     "output_type": "stream",
     "text": [
      "split(): ['My', 'name', 'is', 'Leela', 'Manikanta', 'Gopal,', 'Iam', 'working', 'on', 'python.', 'I', 'join', 'in', 'this', 'course', 'on', '23/06/2025']\n",
      "split(): ['My na', 'e is Leela Manikanta Gopal, Ia', ' working on python.\\nI join in this course on 23/06/2025']\n",
      "rsplit(): ['My', 'name', 'is', 'Leela', 'Manikanta', 'Gopal,', 'Iam', 'working', 'on', 'python.', 'I', 'join', 'in', 'this', 'course', 'on', '23/06/2025']\n",
      "rsplit(): ['My name is Leela Manikanta Gopal, Iam working on python.\\nI join in this course', 'on', '23/06/2025']\n",
      "splitlines(): ['My name is Leela Manikanta Gopal, Iam working on python.', 'I join in this course on 23/06/2025']\n",
      "join(): My name is Leela Manikanta Gopal, Iam working on python.\n",
      "I join in this course on 23/06/2025 and, Ramya is one of friend\n",
      "partition(): ('My name is Leela Manikanta Gopal, Iam working on python.\\nI join in this course on 23/06/2025 ', 'and', ', Ramya is one of friend')\n",
      "rpartition(): ('My name is Leela Manikanta Gopal, Iam working on python.\\nI join in this course on 23/06/2025 and', ',', ' Ramya is one of friend')\n"
     ]
    }
   ],
   "source": [
    "#split\n",
    "string5 = s3.split()\n",
    "print('split():',string5)\n",
    "s5 = s3.split('m')\n",
    "print('split():',s5)\n",
    "#rsplit\n",
    "s6 = s3.rsplit()\n",
    "print('rsplit():',s6)\n",
    "s7 = s3.rsplit(' ',2)\n",
    "print('rsplit():',s7)\n",
    "#splitlines\n",
    "string6 = s3.splitlines()\n",
    "print('splitlines():',string6)\n",
    "#join\n",
    "s7=\" and, \".join([s3, s4.capitalize()])\n",
    "print('join():',s7)\n",
    "#partition\n",
    "print('partition():',s7.partition(\"and\"))\n",
    "#rpartition\n",
    "print('rpartition():',s7.rpartition(\",\"))"
   ]
  },
  {
   "cell_type": "markdown",
   "id": "b45d6d8f",
   "metadata": {},
   "source": [
    "#Whitespace & Trimming Methods"
   ]
  },
  {
   "cell_type": "code",
   "execution_count": 36,
   "id": "a3805659",
   "metadata": {},
   "outputs": [
    {
     "name": "stdout",
     "output_type": "stream",
     "text": [
      "strip(): Manikanta\n",
      "lstrip(): Manikanta------\n",
      "rstrip(): ------Manikanta\n"
     ]
    }
   ],
   "source": [
    "#strip\n",
    "a = '------Manikanta------'\n",
    "print('strip():',a.strip('-'))\n",
    "#lstrip\n",
    "print('lstrip():',a.lstrip('-'))\n",
    "#rstrip\n",
    "print('rstrip():',a.rstrip('-'))"
   ]
  },
  {
   "cell_type": "markdown",
   "id": "077ba1b4",
   "metadata": {},
   "source": [
    "#Encoding & Decoding Methods"
   ]
  },
  {
   "cell_type": "code",
   "execution_count": 38,
   "id": "9b172e7d",
   "metadata": {},
   "outputs": [
    {
     "name": "stdout",
     "output_type": "stream",
     "text": [
      "encode(): b'Hello \\xe0\\xa4\\xa8\\xe0\\xa4\\xae\\xe0\\xa4\\xa4\\xe0\\xa5\\x87\\xe4\\xbd\\xa0\\xe5\\xa5\\xbd caf\\xc3\\xa9 \\xf0\\x9f\\x99\\x82'\n",
      "decode(): Hello नमते你好 café 🙂\n"
     ]
    }
   ],
   "source": [
    "#encode\n",
    "text = \"Hello नमते你好 café 🙂\"\n",
    "en_text = text.encode('utf-8')\n",
    "print('encode():',en_text)\n",
    "#decode\n",
    "print('decode():',en_text.decode('utf-8'))\n",
    "\n"
   ]
  },
  {
   "cell_type": "code",
   "execution_count": null,
   "id": "413adb7c",
   "metadata": {},
   "outputs": [
    {
     "name": "stdout",
     "output_type": "stream",
     "text": [
      "['\\n', ' ', ' ', ' ', ' ', ' ', ' ', ' ', ' ', ' ', ' ', ' ', ' ', ' ', ' ', ' ', ',', '.', '/', '/', '0', '0', '2', '2', '2', '3', '5', '6', 'G', 'I', 'I', 'L', 'M', 'M', 'a', 'a', 'a', 'a', 'a', 'a', 'a', 'c', 'e', 'e', 'e', 'e', 'g', 'h', 'h', 'i', 'i', 'i', 'i', 'i', 'i', 'j', 'k', 'k', 'l', 'l', 'm', 'm', 'n', 'n', 'n', 'n', 'n', 'n', 'n', 'n', 'n', 'o', 'o', 'o', 'o', 'o', 'o', 'o', 'p', 'p', 'r', 'r', 's', 's', 's', 't', 't', 't', 'u', 'w', 'y', 'y']\n"
     ]
    }
   ],
   "source": []
  },
  {
   "cell_type": "code",
   "execution_count": null,
   "id": "b708ec53",
   "metadata": {},
   "outputs": [],
   "source": []
  }
 ],
 "metadata": {
  "kernelspec": {
   "display_name": "myenv",
   "language": "python",
   "name": "python3"
  },
  "language_info": {
   "codemirror_mode": {
    "name": "ipython",
    "version": 3
   },
   "file_extension": ".py",
   "mimetype": "text/x-python",
   "name": "python",
   "nbconvert_exporter": "python",
   "pygments_lexer": "ipython3",
   "version": "3.13.5"
  }
 },
 "nbformat": 4,
 "nbformat_minor": 5
}
