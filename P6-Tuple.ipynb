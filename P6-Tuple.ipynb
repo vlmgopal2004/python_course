{
 "cells": [
  {
   "cell_type": "markdown",
   "id": "510e55ca",
   "metadata": {},
   "source": [
    "Tuples"
   ]
  },
  {
   "cell_type": "code",
   "execution_count": 2,
   "id": "75b4403d",
   "metadata": {},
   "outputs": [
    {
     "name": "stdout",
     "output_type": "stream",
     "text": [
      "(1, 2, 3, 4, 'string')\n",
      "string\n",
      "3\n",
      "(1, 2, 3, 4, 'string')\n",
      "('string', 4, 3, 2, 1)\n"
     ]
    }
   ],
   "source": [
    "#Tuple Creation Syntax:\n",
    "t = ()\n",
    "t = tuple()\n",
    "t = (1,2,3,4,\"string\")\n",
    "print(t)\n",
    "print(t[4])\n",
    "print(t[-3])\n",
    "print(t[:5])\n",
    "print(t[::-1])"
   ]
  },
  {
   "cell_type": "markdown",
   "id": "6f64a274",
   "metadata": {},
   "source": [
    "#Operations on Tuples"
   ]
  },
  {
   "cell_type": "code",
   "execution_count": 6,
   "id": "69e74102",
   "metadata": {},
   "outputs": [
    {
     "name": "stdout",
     "output_type": "stream",
     "text": [
      "(1, 2, 3, 4, 'string', 'python', 'list', 'tuple')\n",
      "(1, 2, 3, 4, 'string', 1, 2, 3, 4, 'string', 1, 2, 3, 4, 'string')\n",
      "(1, 2, 3, 1, 2, 3, 1, 2, 3)\n",
      "True\n",
      "python list tuple\n"
     ]
    }
   ],
   "source": [
    "t1 = ('python','list','tuple')\n",
    "#Concatenation\n",
    "t2 = t+t1\n",
    "print(t2)\n",
    "#Repetition\n",
    "print(t*3)\n",
    "print(t[0:3]*3)\n",
    "#Membership Testing\n",
    "print(4 in t)\n",
    "#Tuple Unpacking\n",
    "a,b,c = t1\n",
    "print(a,b,c)\n",
    "\n"
   ]
  },
  {
   "cell_type": "markdown",
   "id": "6178fb4e",
   "metadata": {},
   "source": [
    "#Tuple Methods"
   ]
  },
  {
   "cell_type": "code",
   "execution_count": 13,
   "id": "cd072465",
   "metadata": {},
   "outputs": [
    {
     "name": "stdout",
     "output_type": "stream",
     "text": [
      "count: 4\n",
      "count: 3\n",
      "count: 2\n",
      "index: 2\n"
     ]
    }
   ],
   "source": [
    "#count(x)\n",
    "my_t1 = (1,2,3,3,4,4,4,5,5,6,7,8,9,1,2,1,2,1)\n",
    "print('count:',my_t1.count(1))\n",
    "print('count:',my_t1.count(4))\n",
    "print('count:',my_t1.count(5))\n",
    "#index(x)\n",
    "print('index:',my_t1.index(3))"
   ]
  },
  {
   "cell_type": "markdown",
   "id": "ce67c9c6",
   "metadata": {},
   "source": [
    "#Built-in Functions for Tuples\n"
   ]
  },
  {
   "cell_type": "code",
   "execution_count": null,
   "id": "6c30a276",
   "metadata": {},
   "outputs": [],
   "source": [
    "#length\n",
    "print('length:',len(my_t1))\n",
    "#max\n",
    "print('max:',max(my_t1))\n",
    "#min\n",
    "print('min:',min(my_t1))\n",
    "#sum\n",
    "print('sum:',sum(my_t1))\n"
   ]
  },
  {
   "cell_type": "markdown",
   "id": "4030739d",
   "metadata": {},
   "source": [
    "#Immutability and Tuple Behavior\n"
   ]
  },
  {
   "cell_type": "code",
   "execution_count": 17,
   "id": "e89546ae",
   "metadata": {},
   "outputs": [
    {
     "name": "stdout",
     "output_type": "stream",
     "text": [
      "(1, 2, 3, [5, 5, 7])\n"
     ]
    }
   ],
   "source": [
    "lt = (1,2,3,[5,5,7])\n",
    "print(lt)"
   ]
  },
  {
   "cell_type": "code",
   "execution_count": null,
   "id": "06c94326",
   "metadata": {},
   "outputs": [],
   "source": []
  }
 ],
 "metadata": {
  "kernelspec": {
   "display_name": "myenv",
   "language": "python",
   "name": "python3"
  },
  "language_info": {
   "codemirror_mode": {
    "name": "ipython",
    "version": 3
   },
   "file_extension": ".py",
   "mimetype": "text/x-python",
   "name": "python",
   "nbconvert_exporter": "python",
   "pygments_lexer": "ipython3",
   "version": "3.13.5"
  }
 },
 "nbformat": 4,
 "nbformat_minor": 5
}
