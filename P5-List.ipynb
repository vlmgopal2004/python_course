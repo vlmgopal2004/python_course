{
 "cells": [
  {
   "cell_type": "markdown",
   "id": "c611a00f",
   "metadata": {},
   "source": [
    "#Creating Lists"
   ]
  },
  {
   "cell_type": "code",
   "execution_count": 1,
   "id": "c7a18029",
   "metadata": {},
   "outputs": [
    {
     "name": "stdout",
     "output_type": "stream",
     "text": [
      "List created using square brackets []: [1, 2, 3, 4, 5, 6, 7]\n",
      "List created using list() constructor: [0, 1, 2, 3, 4, 5]\n",
      "List of strings: ['Mani', 'Kalyan', 'Sai', 'Ramya']\n",
      "Nested list: [[1, 2, 3, 4], [4, 5, 6, 7], [7, 8, 9, 10]]\n",
      "String to list: ['p', 't', 'y', 'h', 'o', 'n']\n"
     ]
    }
   ],
   "source": [
    "#Lists can be created using square brackets [] or the list() constructor.\n",
    "list1 = [1,2,3,4,5,6,7]\n",
    "list2 = list((0,1,2,3,4,5))\n",
    "print('List created using square brackets []:',list1)\n",
    "print('List created using list() constructor:',list2)\n",
    "# List of strings\n",
    "ls = ['Mani','Kalyan','Sai','Ramya']\n",
    "print('List of strings:',ls)\n",
    "# Nested list\n",
    "nl = [[1,2,3,4],[4,5,6,7],[7,8,9,10]]\n",
    "print('Nested list:',nl)\n",
    "#string to list\n",
    "sl = list('ptyhon')\n",
    "print('String to list:',sl)"
   ]
  },
  {
   "cell_type": "markdown",
   "id": "9870175d",
   "metadata": {},
   "source": [
    "#Accessing Elements in a List"
   ]
  },
  {
   "cell_type": "code",
   "execution_count": 2,
   "id": "86951a39",
   "metadata": {},
   "outputs": [
    {
     "name": "stdout",
     "output_type": "stream",
     "text": [
      "positive index: 4\n",
      "Negitive index: 5\n",
      "Slicing for this list: [0, 1, 2, 3, 4, 5]\n",
      "[0, 1, 2]\n",
      "[3, 4, 5]\n",
      "[0, 1, 2, 3]\n",
      "[3, 4]\n",
      "[2, 3, 4, 5]\n",
      "To Reverse list: [5, 4, 3, 2, 1, 0]\n"
     ]
    }
   ],
   "source": [
    "#Indexing (Positive & Negative)\n",
    "print('positive index:',list1[3])\n",
    "print('Negitive index:',list1[-3])\n",
    "#Slicing\n",
    "print('Slicing for this list:',list2)\n",
    "print(list2[0:3])\n",
    "print(list2[3:])\n",
    "print(list2[:4])\n",
    "print(list2[-3:-1])\n",
    "print(list2[-4:])\n",
    "print('To Reverse list:',list2[::-1])\n"
   ]
  },
  {
   "cell_type": "markdown",
   "id": "b7f2150d",
   "metadata": {},
   "source": [
    "#Modifying Lists"
   ]
  },
  {
   "cell_type": "code",
   "execution_count": 15,
   "id": "4446b1b1",
   "metadata": {},
   "outputs": [
    {
     "name": "stdout",
     "output_type": "stream",
     "text": [
      "List before adding elements: [1, 2, 6, 4, 5, 7]\n",
      "Changing elements at index 2 [1, 2, 3, 4, 5, 7]\n",
      "Append element to list: [1, 2, 3, 4, 5, 7, 7]\n",
      "Insert element in list: [1, 2, 3, 4, 5, 7, 6, 7]\n",
      "Extend elements in list: [1, 2, 3, 4, 5, 7, 6, 7, 8, 9, 10]\n",
      "List after adding elements: [1, 2, 3, 4, 5, 7, 6, 7, 8, 9, 10]\n",
      "List before removing elements: [1, 2, 3, 4, 5, 7, 6, 7, 8, 9, 10, 100, 300, 400, 500]\n",
      "Remove element in list: [1, 2, 3, 4, 5, 7, 6, 7, 8, 9, 10, 300, 400, 500]\n",
      "[pop(index)] remove element in list at index 11: [1, 2, 3, 4, 5, 7, 6, 7, 8, 9, 10, 400, 500]\n",
      "[pop] remove last element in list: [1, 2, 3, 4, 5, 7, 6, 7, 8, 9, 10, 400]\n",
      "[clear] removes all element in list: []\n",
      "List after removing elements: []\n"
     ]
    }
   ],
   "source": [
    "#Changing Elements\n",
    "l1 = [1,2,6,4,5,7]\n",
    "print('List before adding elements:',l1)\n",
    "l1[2] = 3\n",
    "print('Changing elements at index 2',l1)\n",
    "\n",
    "#Adding elements in list\n",
    "#Append (adds to the end)\n",
    "l1.append(7)\n",
    "print('Append element to list:',l1)\n",
    "#Insert (adds at a specific position)\n",
    "l1.insert(6,6)\n",
    "print('Insert element in list:',l1)\n",
    "# Extend (adds multiple elements)\n",
    "l1.extend([8,9,10])\n",
    "print('Extend elements in list:',l1)\n",
    "\n",
    "print('List after adding elements:',l1)\n",
    "\n",
    "#Removing Elements\n",
    "l1.extend([100,300,400,500])\n",
    "print('List before removing elements:',l1)\n",
    "#remove\n",
    "l1.remove(100)\n",
    "print('Remove element in list:',l1)\n",
    "#pop([index])\n",
    "l1.pop(11)\n",
    "print('[pop(index)] remove element in list at index 11:',l1)\n",
    "#pop()\n",
    "l1.pop()\n",
    "print('[pop] remove last element in list:',l1)\n",
    "#clear\n",
    "l1.clear()\n",
    "print('[clear] removes all element in list:',l1)\n",
    "print('List after removing elements:',l1)"
   ]
  },
  {
   "cell_type": "code",
   "execution_count": null,
   "id": "17776c29",
   "metadata": {},
   "outputs": [],
   "source": []
  }
 ],
 "metadata": {
  "kernelspec": {
   "display_name": "myenv",
   "language": "python",
   "name": "python3"
  },
  "language_info": {
   "codemirror_mode": {
    "name": "ipython",
    "version": 3
   },
   "file_extension": ".py",
   "mimetype": "text/x-python",
   "name": "python",
   "nbconvert_exporter": "python",
   "pygments_lexer": "ipython3",
   "version": "3.13.5"
  }
 },
 "nbformat": 4,
 "nbformat_minor": 5
}
